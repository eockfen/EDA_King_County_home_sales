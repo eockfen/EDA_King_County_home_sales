{
 "cells": [
  {
   "cell_type": "markdown",
   "metadata": {},
   "source": [
    "# Exploratory Data Analysis (EDA) on King County Homes Sales data set\n",
    "\n"
   ]
  },
  {
   "cell_type": "markdown",
   "metadata": {},
   "source": [
    "**Objectives**\n",
    "\n",
    "This is my first EDA project and I will explore the King County Homes Sales data set.   \n",
    "With this initial investigations I will gain insight into the dataset, to discover patterns, spot anomalies and to check assumptions.  \n",
    "\n",
    "**Business case**\n",
    "\n",
    "I assume to work for a client, Nicole Johnson, who is willing to buy a house in a lively and central neighbourhood in middle price class. At the end of the EDA I will provide her with information about the best timing to buy and which area would be the best to aim for.  \n"
   ]
  },
  {
   "cell_type": "markdown",
   "metadata": {},
   "source": [
    "# Let's get started "
   ]
  },
  {
   "cell_type": "markdown",
   "metadata": {},
   "source": [
    "**Setting up work environment**"
   ]
  },
  {
   "cell_type": "markdown",
   "metadata": {},
   "source": [
    "First, necessary libraries and the dataset of King County house sales will be imported."
   ]
  },
  {
   "cell_type": "code",
   "execution_count": 19,
   "metadata": {},
   "outputs": [],
   "source": [
    "import warnings\n",
    "\n",
    "warnings.filterwarnings(\"ignore\")\n",
    "\n",
    "import pandas as pd\n",
    "import numpy as np\n",
    "import matplotlib.pyplot as plt\n",
    "import seaborn as sns\n",
    "import folium #needed for geoplot\n",
    "from folium.plugins import HeatMap\n",
    "import plotly.express as px\n",
    "\n",
    "\n",
    "\n",
    "from matplotlib.ticker import PercentFormatter\n",
    "\n",
    "\n"
   ]
  },
  {
   "cell_type": "code",
   "execution_count": 20,
   "metadata": {},
   "outputs": [],
   "source": [
    "plt.rcParams.update({ \"figure.figsize\" : (8, 5),\"axes.facecolor\" : \"white\", \"axes.edgecolor\":  \"black\"})\n",
    "plt.rcParams[\"figure.facecolor\"]= \"w\"\n",
    "pd.plotting.register_matplotlib_converters()\n",
    "pd.set_option('display.float_format', lambda x: '%.3f' % x) #Floats should be displayed with 3 decimal numbers "
   ]
  },
  {
   "cell_type": "markdown",
   "metadata": {},
   "source": [
    "**Import and understanding data set**"
   ]
  },
  {
   "cell_type": "code",
   "execution_count": 21,
   "metadata": {},
   "outputs": [
    {
     "data": {
      "text/html": [
       "<div>\n",
       "<style scoped>\n",
       "    .dataframe tbody tr th:only-of-type {\n",
       "        vertical-align: middle;\n",
       "    }\n",
       "\n",
       "    .dataframe tbody tr th {\n",
       "        vertical-align: top;\n",
       "    }\n",
       "\n",
       "    .dataframe thead th {\n",
       "        text-align: right;\n",
       "    }\n",
       "</style>\n",
       "<table border=\"1\" class=\"dataframe\">\n",
       "  <thead>\n",
       "    <tr style=\"text-align: right;\">\n",
       "      <th></th>\n",
       "      <th>id</th>\n",
       "      <th>bedrooms</th>\n",
       "      <th>bathrooms</th>\n",
       "      <th>sqft_living</th>\n",
       "      <th>sqft_lot</th>\n",
       "      <th>floors</th>\n",
       "      <th>waterfront</th>\n",
       "      <th>view</th>\n",
       "      <th>condition</th>\n",
       "      <th>grade</th>\n",
       "      <th>...</th>\n",
       "      <th>yr_renovated</th>\n",
       "      <th>zipcode</th>\n",
       "      <th>lat</th>\n",
       "      <th>long</th>\n",
       "      <th>sqft_living15</th>\n",
       "      <th>sqft_lot15</th>\n",
       "      <th>date</th>\n",
       "      <th>price</th>\n",
       "      <th>house_id</th>\n",
       "      <th>id</th>\n",
       "    </tr>\n",
       "  </thead>\n",
       "  <tbody>\n",
       "    <tr>\n",
       "      <th>0</th>\n",
       "      <td>7129300520</td>\n",
       "      <td>3.000</td>\n",
       "      <td>1.000</td>\n",
       "      <td>1180.000</td>\n",
       "      <td>5650.000</td>\n",
       "      <td>1.000</td>\n",
       "      <td></td>\n",
       "      <td>0.0</td>\n",
       "      <td>3</td>\n",
       "      <td>7</td>\n",
       "      <td>...</td>\n",
       "      <td>0.0</td>\n",
       "      <td>98178</td>\n",
       "      <td>47.511</td>\n",
       "      <td>-122.257</td>\n",
       "      <td>1340.000</td>\n",
       "      <td>5650.000</td>\n",
       "      <td>2014-10-13</td>\n",
       "      <td>221900.000</td>\n",
       "      <td>7129300520</td>\n",
       "      <td>1</td>\n",
       "    </tr>\n",
       "    <tr>\n",
       "      <th>1</th>\n",
       "      <td>6414100192</td>\n",
       "      <td>3.000</td>\n",
       "      <td>2.250</td>\n",
       "      <td>2570.000</td>\n",
       "      <td>7242.000</td>\n",
       "      <td>2.000</td>\n",
       "      <td>0.0</td>\n",
       "      <td>0.0</td>\n",
       "      <td>3</td>\n",
       "      <td>7</td>\n",
       "      <td>...</td>\n",
       "      <td>19910.0</td>\n",
       "      <td>98125</td>\n",
       "      <td>47.721</td>\n",
       "      <td>-122.319</td>\n",
       "      <td>1690.000</td>\n",
       "      <td>7639.000</td>\n",
       "      <td>2014-12-09</td>\n",
       "      <td>538000.000</td>\n",
       "      <td>6414100192</td>\n",
       "      <td>2</td>\n",
       "    </tr>\n",
       "    <tr>\n",
       "      <th>2</th>\n",
       "      <td>5631500400</td>\n",
       "      <td>2.000</td>\n",
       "      <td>1.000</td>\n",
       "      <td>770.000</td>\n",
       "      <td>10000.000</td>\n",
       "      <td>1.000</td>\n",
       "      <td>0.0</td>\n",
       "      <td>0.0</td>\n",
       "      <td>3</td>\n",
       "      <td>6</td>\n",
       "      <td>...</td>\n",
       "      <td></td>\n",
       "      <td>98028</td>\n",
       "      <td>47.738</td>\n",
       "      <td>-122.233</td>\n",
       "      <td>2720.000</td>\n",
       "      <td>8062.000</td>\n",
       "      <td>2015-02-25</td>\n",
       "      <td>180000.000</td>\n",
       "      <td>5631500400</td>\n",
       "      <td>3</td>\n",
       "    </tr>\n",
       "    <tr>\n",
       "      <th>3</th>\n",
       "      <td>2487200875</td>\n",
       "      <td>4.000</td>\n",
       "      <td>3.000</td>\n",
       "      <td>1960.000</td>\n",
       "      <td>5000.000</td>\n",
       "      <td>1.000</td>\n",
       "      <td>0.0</td>\n",
       "      <td>0.0</td>\n",
       "      <td>5</td>\n",
       "      <td>7</td>\n",
       "      <td>...</td>\n",
       "      <td>0.0</td>\n",
       "      <td>98136</td>\n",
       "      <td>47.521</td>\n",
       "      <td>-122.393</td>\n",
       "      <td>1360.000</td>\n",
       "      <td>5000.000</td>\n",
       "      <td>2014-12-09</td>\n",
       "      <td>604000.000</td>\n",
       "      <td>2487200875</td>\n",
       "      <td>4</td>\n",
       "    </tr>\n",
       "    <tr>\n",
       "      <th>4</th>\n",
       "      <td>1954400510</td>\n",
       "      <td>3.000</td>\n",
       "      <td>2.000</td>\n",
       "      <td>1680.000</td>\n",
       "      <td>8080.000</td>\n",
       "      <td>1.000</td>\n",
       "      <td>0.0</td>\n",
       "      <td>0.0</td>\n",
       "      <td>3</td>\n",
       "      <td>8</td>\n",
       "      <td>...</td>\n",
       "      <td>0.0</td>\n",
       "      <td>98074</td>\n",
       "      <td>47.617</td>\n",
       "      <td>-122.045</td>\n",
       "      <td>1800.000</td>\n",
       "      <td>7503.000</td>\n",
       "      <td>2015-02-18</td>\n",
       "      <td>510000.000</td>\n",
       "      <td>1954400510</td>\n",
       "      <td>5</td>\n",
       "    </tr>\n",
       "  </tbody>\n",
       "</table>\n",
       "<p>5 rows × 23 columns</p>\n",
       "</div>"
      ],
      "text/plain": [
       "   id           bedrooms   bathrooms   sqft_living   sqft_lot    floors   \\\n",
       "0   7129300520      3.000       1.000      1180.000    5650.000    1.000   \n",
       "1   6414100192      3.000       2.250      2570.000    7242.000    2.000   \n",
       "2   5631500400      2.000       1.000       770.000   10000.000    1.000   \n",
       "3   2487200875      4.000       3.000      1960.000    5000.000    1.000   \n",
       "4   1954400510      3.000       2.000      1680.000    8080.000    1.000   \n",
       "\n",
       "   waterfront   view   condition   grade   ...  yr_renovated  zipcode   \\\n",
       "0                0.0            3       7  ...           0.0     98178   \n",
       "1         0.0    0.0            3       7  ...       19910.0     98125   \n",
       "2         0.0    0.0            3       6  ...                   98028   \n",
       "3         0.0    0.0            5       7  ...           0.0     98136   \n",
       "4         0.0    0.0            3       8  ...           0.0     98074   \n",
       "\n",
       "   lat      long         sqft_living15   sqft_lot15   date         price       \\\n",
       "0    47.511    -122.257        1340.000     5650.000  2014-10-13   221900.000   \n",
       "1    47.721    -122.319        1690.000     7639.000  2014-12-09   538000.000   \n",
       "2    47.738    -122.233        2720.000     8062.000  2015-02-25   180000.000   \n",
       "3    47.521    -122.393        1360.000     5000.000  2014-12-09   604000.000   \n",
       "4    47.617    -122.045        1800.000     7503.000  2015-02-18   510000.000   \n",
       "\n",
       "   house_id    id  \n",
       "0   7129300520  1  \n",
       "1   6414100192  2  \n",
       "2   5631500400  3  \n",
       "3   2487200875  4  \n",
       "4   1954400510  5  \n",
       "\n",
       "[5 rows x 23 columns]"
      ]
     },
     "execution_count": 21,
     "metadata": {},
     "output_type": "execute_result"
    }
   ],
   "source": [
    "df = pd.read_csv('data/eda.csv') #import dataset\n",
    "df.head() #check first rows"
   ]
  },
  {
   "cell_type": "code",
   "execution_count": 22,
   "metadata": {},
   "outputs": [
    {
     "data": {
      "text/html": [
       "<div>\n",
       "<style scoped>\n",
       "    .dataframe tbody tr th:only-of-type {\n",
       "        vertical-align: middle;\n",
       "    }\n",
       "\n",
       "    .dataframe tbody tr th {\n",
       "        vertical-align: top;\n",
       "    }\n",
       "\n",
       "    .dataframe thead th {\n",
       "        text-align: right;\n",
       "    }\n",
       "</style>\n",
       "<table border=\"1\" class=\"dataframe\">\n",
       "  <thead>\n",
       "    <tr style=\"text-align: right;\">\n",
       "      <th></th>\n",
       "      <th>id</th>\n",
       "      <th>bedrooms</th>\n",
       "      <th>bathrooms</th>\n",
       "      <th>sqft_living</th>\n",
       "      <th>sqft_lot</th>\n",
       "      <th>floors</th>\n",
       "      <th>waterfront</th>\n",
       "      <th>view</th>\n",
       "      <th>condition</th>\n",
       "      <th>grade</th>\n",
       "      <th>...</th>\n",
       "      <th>yr_renovated</th>\n",
       "      <th>zipcode</th>\n",
       "      <th>lat</th>\n",
       "      <th>long</th>\n",
       "      <th>sqft_living15</th>\n",
       "      <th>sqft_lot15</th>\n",
       "      <th>date</th>\n",
       "      <th>price</th>\n",
       "      <th>house_id</th>\n",
       "      <th>id</th>\n",
       "    </tr>\n",
       "  </thead>\n",
       "  <tbody>\n",
       "    <tr>\n",
       "      <th>21592</th>\n",
       "      <td>263000018</td>\n",
       "      <td>3.000</td>\n",
       "      <td>2.500</td>\n",
       "      <td>1530.000</td>\n",
       "      <td>1131.000</td>\n",
       "      <td>3.000</td>\n",
       "      <td>0.0</td>\n",
       "      <td>0.0</td>\n",
       "      <td>3</td>\n",
       "      <td>8</td>\n",
       "      <td>...</td>\n",
       "      <td>0.0</td>\n",
       "      <td>98103</td>\n",
       "      <td>47.699</td>\n",
       "      <td>-122.346</td>\n",
       "      <td>1530.000</td>\n",
       "      <td>1509.000</td>\n",
       "      <td>2014-05-21</td>\n",
       "      <td>360000.000</td>\n",
       "      <td>263000018</td>\n",
       "      <td>21593</td>\n",
       "    </tr>\n",
       "    <tr>\n",
       "      <th>21593</th>\n",
       "      <td>6600060120</td>\n",
       "      <td>4.000</td>\n",
       "      <td>2.500</td>\n",
       "      <td>2310.000</td>\n",
       "      <td>5813.000</td>\n",
       "      <td>2.000</td>\n",
       "      <td>0.0</td>\n",
       "      <td>0.0</td>\n",
       "      <td>3</td>\n",
       "      <td>8</td>\n",
       "      <td>...</td>\n",
       "      <td>0.0</td>\n",
       "      <td>98146</td>\n",
       "      <td>47.511</td>\n",
       "      <td>-122.362</td>\n",
       "      <td>1830.000</td>\n",
       "      <td>7200.000</td>\n",
       "      <td>2015-02-23</td>\n",
       "      <td>400000.000</td>\n",
       "      <td>6600060120</td>\n",
       "      <td>21594</td>\n",
       "    </tr>\n",
       "    <tr>\n",
       "      <th>21594</th>\n",
       "      <td>1523300141</td>\n",
       "      <td>2.000</td>\n",
       "      <td>0.750</td>\n",
       "      <td>1020.000</td>\n",
       "      <td>1350.000</td>\n",
       "      <td>2.000</td>\n",
       "      <td>0.0</td>\n",
       "      <td>0.0</td>\n",
       "      <td>3</td>\n",
       "      <td>7</td>\n",
       "      <td>...</td>\n",
       "      <td>0.0</td>\n",
       "      <td>98144</td>\n",
       "      <td>47.594</td>\n",
       "      <td>-122.299</td>\n",
       "      <td>1020.000</td>\n",
       "      <td>2007.000</td>\n",
       "      <td>2014-06-23</td>\n",
       "      <td>402101.000</td>\n",
       "      <td>1523300141</td>\n",
       "      <td>21595</td>\n",
       "    </tr>\n",
       "    <tr>\n",
       "      <th>21595</th>\n",
       "      <td>291310100</td>\n",
       "      <td>3.000</td>\n",
       "      <td>2.500</td>\n",
       "      <td>1600.000</td>\n",
       "      <td>2388.000</td>\n",
       "      <td>2.000</td>\n",
       "      <td></td>\n",
       "      <td>0.0</td>\n",
       "      <td>3</td>\n",
       "      <td>8</td>\n",
       "      <td>...</td>\n",
       "      <td>0.0</td>\n",
       "      <td>98027</td>\n",
       "      <td>47.535</td>\n",
       "      <td>-122.069</td>\n",
       "      <td>1410.000</td>\n",
       "      <td>1287.000</td>\n",
       "      <td>2015-01-16</td>\n",
       "      <td>400000.000</td>\n",
       "      <td>291310100</td>\n",
       "      <td>21596</td>\n",
       "    </tr>\n",
       "    <tr>\n",
       "      <th>21596</th>\n",
       "      <td>1523300157</td>\n",
       "      <td>2.000</td>\n",
       "      <td>0.750</td>\n",
       "      <td>1020.000</td>\n",
       "      <td>1076.000</td>\n",
       "      <td>2.000</td>\n",
       "      <td>0.0</td>\n",
       "      <td>0.0</td>\n",
       "      <td>3</td>\n",
       "      <td>7</td>\n",
       "      <td>...</td>\n",
       "      <td>0.0</td>\n",
       "      <td>98144</td>\n",
       "      <td>47.594</td>\n",
       "      <td>-122.299</td>\n",
       "      <td>1020.000</td>\n",
       "      <td>1357.000</td>\n",
       "      <td>2014-10-15</td>\n",
       "      <td>325000.000</td>\n",
       "      <td>1523300157</td>\n",
       "      <td>21597</td>\n",
       "    </tr>\n",
       "  </tbody>\n",
       "</table>\n",
       "<p>5 rows × 23 columns</p>\n",
       "</div>"
      ],
      "text/plain": [
       "       id           bedrooms   bathrooms   sqft_living   sqft_lot    floors   \\\n",
       "21592    263000018      3.000       2.500      1530.000    1131.000    3.000   \n",
       "21593   6600060120      4.000       2.500      2310.000    5813.000    2.000   \n",
       "21594   1523300141      2.000       0.750      1020.000    1350.000    2.000   \n",
       "21595    291310100      3.000       2.500      1600.000    2388.000    2.000   \n",
       "21596   1523300157      2.000       0.750      1020.000    1076.000    2.000   \n",
       "\n",
       "       waterfront   view   condition   grade   ...  yr_renovated  zipcode   \\\n",
       "21592         0.0    0.0            3       8  ...           0.0     98103   \n",
       "21593         0.0    0.0            3       8  ...           0.0     98146   \n",
       "21594         0.0    0.0            3       7  ...           0.0     98144   \n",
       "21595                0.0            3       8  ...           0.0     98027   \n",
       "21596         0.0    0.0            3       7  ...           0.0     98144   \n",
       "\n",
       "       lat      long         sqft_living15   sqft_lot15   date         \\\n",
       "21592    47.699    -122.346        1530.000     1509.000  2014-05-21    \n",
       "21593    47.511    -122.362        1830.000     7200.000  2015-02-23    \n",
       "21594    47.594    -122.299        1020.000     2007.000  2014-06-23    \n",
       "21595    47.535    -122.069        1410.000     1287.000  2015-01-16    \n",
       "21596    47.594    -122.299        1020.000     1357.000  2014-10-15    \n",
       "\n",
       "       price       house_id        id  \n",
       "21592  360000.000    263000018  21593  \n",
       "21593  400000.000   6600060120  21594  \n",
       "21594  402101.000   1523300141  21595  \n",
       "21595  400000.000    291310100  21596  \n",
       "21596  325000.000   1523300157  21597  \n",
       "\n",
       "[5 rows x 23 columns]"
      ]
     },
     "execution_count": 22,
     "metadata": {},
     "output_type": "execute_result"
    }
   ],
   "source": [
    "df.tail() #check last rows "
   ]
  },
  {
   "cell_type": "code",
   "execution_count": 23,
   "metadata": {},
   "outputs": [
    {
     "data": {
      "text/plain": [
       "Index(['id         ', 'bedrooms ', 'bathrooms ', 'sqft_living ', 'sqft_lot  ',\n",
       "       'floors ', 'waterfront ', 'view ', 'condition ', 'grade ',\n",
       "       'sqft_above ', 'sqft_basement ', 'yr_built ', 'yr_renovated ',\n",
       "       'zipcode ', 'lat     ', 'long       ', 'sqft_living15 ', 'sqft_lot15 ',\n",
       "       'date       ', 'price     ', 'house_id   ', 'id'],\n",
       "      dtype='object')"
      ]
     },
     "execution_count": 23,
     "metadata": {},
     "output_type": "execute_result"
    }
   ],
   "source": [
    "df.columns #check which column names are included "
   ]
  },
  {
   "cell_type": "markdown",
   "metadata": {},
   "source": [
    "Some of the column names contain empty spaces, which have to be removed. Unique ID of the house is redundant (first columns and 22nd column) and one can be removed. 'id' (23nd column), which is the sale id is not needed for the analysis and can be dropped as well."
   ]
  },
  {
   "cell_type": "code",
   "execution_count": 24,
   "metadata": {},
   "outputs": [
    {
     "data": {
      "text/plain": [
       "Index(['id', 'bedrooms', 'bathrooms', 'sqft_living', 'sqft_lot', 'floors',\n",
       "       'waterfront', 'view', 'condition', 'grade', 'sqft_above',\n",
       "       'sqft_basement', 'yr_built', 'yr_renovated', 'zipcode', 'lat', 'long',\n",
       "       'sqft_living15', 'sqft_lot15', 'date', 'price', 'house_id', 'id'],\n",
       "      dtype='object')"
      ]
     },
     "execution_count": 24,
     "metadata": {},
     "output_type": "execute_result"
    }
   ],
   "source": [
    "#remove empty spaces in column names\n",
    "df.columns = df.columns.str.replace(' ', '')\n",
    "df.columns"
   ]
  },
  {
   "cell_type": "code",
   "execution_count": 25,
   "metadata": {},
   "outputs": [
    {
     "data": {
      "text/html": [
       "<div>\n",
       "<style scoped>\n",
       "    .dataframe tbody tr th:only-of-type {\n",
       "        vertical-align: middle;\n",
       "    }\n",
       "\n",
       "    .dataframe tbody tr th {\n",
       "        vertical-align: top;\n",
       "    }\n",
       "\n",
       "    .dataframe thead th {\n",
       "        text-align: right;\n",
       "    }\n",
       "</style>\n",
       "<table border=\"1\" class=\"dataframe\">\n",
       "  <thead>\n",
       "    <tr style=\"text-align: right;\">\n",
       "      <th></th>\n",
       "      <th>bedrooms</th>\n",
       "      <th>bathrooms</th>\n",
       "      <th>sqft_living</th>\n",
       "      <th>sqft_lot</th>\n",
       "      <th>floors</th>\n",
       "      <th>waterfront</th>\n",
       "      <th>view</th>\n",
       "      <th>condition</th>\n",
       "      <th>grade</th>\n",
       "      <th>sqft_above</th>\n",
       "      <th>...</th>\n",
       "      <th>yr_built</th>\n",
       "      <th>yr_renovated</th>\n",
       "      <th>zipcode</th>\n",
       "      <th>lat</th>\n",
       "      <th>long</th>\n",
       "      <th>sqft_living15</th>\n",
       "      <th>sqft_lot15</th>\n",
       "      <th>date</th>\n",
       "      <th>price</th>\n",
       "      <th>house_id</th>\n",
       "    </tr>\n",
       "  </thead>\n",
       "  <tbody>\n",
       "    <tr>\n",
       "      <th>0</th>\n",
       "      <td>3.000</td>\n",
       "      <td>1.000</td>\n",
       "      <td>1180.000</td>\n",
       "      <td>5650.000</td>\n",
       "      <td>1.000</td>\n",
       "      <td></td>\n",
       "      <td>0.0</td>\n",
       "      <td>3</td>\n",
       "      <td>7</td>\n",
       "      <td>1180.000</td>\n",
       "      <td>...</td>\n",
       "      <td>1955</td>\n",
       "      <td>0.0</td>\n",
       "      <td>98178</td>\n",
       "      <td>47.511</td>\n",
       "      <td>-122.257</td>\n",
       "      <td>1340.000</td>\n",
       "      <td>5650.000</td>\n",
       "      <td>2014-10-13</td>\n",
       "      <td>221900.000</td>\n",
       "      <td>7129300520</td>\n",
       "    </tr>\n",
       "    <tr>\n",
       "      <th>1</th>\n",
       "      <td>3.000</td>\n",
       "      <td>2.250</td>\n",
       "      <td>2570.000</td>\n",
       "      <td>7242.000</td>\n",
       "      <td>2.000</td>\n",
       "      <td>0.0</td>\n",
       "      <td>0.0</td>\n",
       "      <td>3</td>\n",
       "      <td>7</td>\n",
       "      <td>2170.000</td>\n",
       "      <td>...</td>\n",
       "      <td>1951</td>\n",
       "      <td>19910.0</td>\n",
       "      <td>98125</td>\n",
       "      <td>47.721</td>\n",
       "      <td>-122.319</td>\n",
       "      <td>1690.000</td>\n",
       "      <td>7639.000</td>\n",
       "      <td>2014-12-09</td>\n",
       "      <td>538000.000</td>\n",
       "      <td>6414100192</td>\n",
       "    </tr>\n",
       "    <tr>\n",
       "      <th>2</th>\n",
       "      <td>2.000</td>\n",
       "      <td>1.000</td>\n",
       "      <td>770.000</td>\n",
       "      <td>10000.000</td>\n",
       "      <td>1.000</td>\n",
       "      <td>0.0</td>\n",
       "      <td>0.0</td>\n",
       "      <td>3</td>\n",
       "      <td>6</td>\n",
       "      <td>770.000</td>\n",
       "      <td>...</td>\n",
       "      <td>1933</td>\n",
       "      <td></td>\n",
       "      <td>98028</td>\n",
       "      <td>47.738</td>\n",
       "      <td>-122.233</td>\n",
       "      <td>2720.000</td>\n",
       "      <td>8062.000</td>\n",
       "      <td>2015-02-25</td>\n",
       "      <td>180000.000</td>\n",
       "      <td>5631500400</td>\n",
       "    </tr>\n",
       "    <tr>\n",
       "      <th>3</th>\n",
       "      <td>4.000</td>\n",
       "      <td>3.000</td>\n",
       "      <td>1960.000</td>\n",
       "      <td>5000.000</td>\n",
       "      <td>1.000</td>\n",
       "      <td>0.0</td>\n",
       "      <td>0.0</td>\n",
       "      <td>5</td>\n",
       "      <td>7</td>\n",
       "      <td>1050.000</td>\n",
       "      <td>...</td>\n",
       "      <td>1965</td>\n",
       "      <td>0.0</td>\n",
       "      <td>98136</td>\n",
       "      <td>47.521</td>\n",
       "      <td>-122.393</td>\n",
       "      <td>1360.000</td>\n",
       "      <td>5000.000</td>\n",
       "      <td>2014-12-09</td>\n",
       "      <td>604000.000</td>\n",
       "      <td>2487200875</td>\n",
       "    </tr>\n",
       "    <tr>\n",
       "      <th>4</th>\n",
       "      <td>3.000</td>\n",
       "      <td>2.000</td>\n",
       "      <td>1680.000</td>\n",
       "      <td>8080.000</td>\n",
       "      <td>1.000</td>\n",
       "      <td>0.0</td>\n",
       "      <td>0.0</td>\n",
       "      <td>3</td>\n",
       "      <td>8</td>\n",
       "      <td>1680.000</td>\n",
       "      <td>...</td>\n",
       "      <td>1987</td>\n",
       "      <td>0.0</td>\n",
       "      <td>98074</td>\n",
       "      <td>47.617</td>\n",
       "      <td>-122.045</td>\n",
       "      <td>1800.000</td>\n",
       "      <td>7503.000</td>\n",
       "      <td>2015-02-18</td>\n",
       "      <td>510000.000</td>\n",
       "      <td>1954400510</td>\n",
       "    </tr>\n",
       "  </tbody>\n",
       "</table>\n",
       "<p>5 rows × 21 columns</p>\n",
       "</div>"
      ],
      "text/plain": [
       "   bedrooms  bathrooms  sqft_living  sqft_lot  floors   waterfront   view  \\\n",
       "0     3.000      1.000     1180.000  5650.000   1.000                0.0    \n",
       "1     3.000      2.250     2570.000  7242.000   2.000         0.0    0.0    \n",
       "2     2.000      1.000      770.000 10000.000   1.000         0.0    0.0    \n",
       "3     4.000      3.000     1960.000  5000.000   1.000         0.0    0.0    \n",
       "4     3.000      2.000     1680.000  8080.000   1.000         0.0    0.0    \n",
       "\n",
       "   condition  grade  sqft_above  ... yr_built   yr_renovated zipcode    lat  \\\n",
       "0          3      7    1180.000  ...     1955           0.0    98178 47.511   \n",
       "1          3      7    2170.000  ...     1951       19910.0    98125 47.721   \n",
       "2          3      6     770.000  ...     1933                  98028 47.738   \n",
       "3          5      7    1050.000  ...     1965           0.0    98136 47.521   \n",
       "4          3      8    1680.000  ...     1987           0.0    98074 47.617   \n",
       "\n",
       "      long  sqft_living15  sqft_lot15         date      price    house_id  \n",
       "0 -122.257       1340.000    5650.000  2014-10-13  221900.000  7129300520  \n",
       "1 -122.319       1690.000    7639.000  2014-12-09  538000.000  6414100192  \n",
       "2 -122.233       2720.000    8062.000  2015-02-25  180000.000  5631500400  \n",
       "3 -122.393       1360.000    5000.000  2014-12-09  604000.000  2487200875  \n",
       "4 -122.045       1800.000    7503.000  2015-02-18  510000.000  1954400510  \n",
       "\n",
       "[5 rows x 21 columns]"
      ]
     },
     "execution_count": 25,
     "metadata": {},
     "output_type": "execute_result"
    }
   ],
   "source": [
    "# drop redundant column of unique house ID\n",
    "\n",
    "df.drop(df.columns[0], axis =1, inplace=True)\n",
    "df.head()"
   ]
  },
  {
   "cell_type": "markdown",
   "metadata": {},
   "source": [
    "Explanation of individual variables for King County Data Set\n",
    "\n",
    "|Columns name | Description |\n",
    "|---- | ------------- |\n",
    "|house_id|unique identified for a house|\n",
    "|date | house was sold|\n",
    "|price| is prediction target|\n",
    "|bedroomsNumber| # of bedrooms|\n",
    "|bathroomsNumber| # of bathrooms|\n",
    "|sqft_livingsquare|footage of the home|\n",
    "|sqft_lotsquare|footage of the lot|\n",
    "|floorsTotal|floors (levels) in house|\n",
    "|waterfront| House which has a view to a waterfront|\n",
    "|view| quality of view|\n",
    "|condition| How good the condition is ( Overall )|\n",
    "|grade| overall grade given to the housing unit, based on King County grading system|\n",
    "|sqft_above|square footage of house apart from basement|\n",
    "|sqft_basement|square footage of the basement|\n",
    "|yr_built|Built Year|\n",
    "|yr_renovated|Year when house was renovated|\n",
    "|zipcode| zip|\n",
    "|lat|Latitude coordinate|\n",
    "|long|Longitude coordinate|\n",
    "|sqft_living15|The square footage of interior housing living space for the nearest 15 neighbors|\n",
    "|sqft_lot15|The square footage of the land lots of the nearest 15 neighbors|"
   ]
  },
  {
   "cell_type": "code",
   "execution_count": 26,
   "metadata": {},
   "outputs": [
    {
     "data": {
      "text/plain": [
       "(21597, 21)"
      ]
     },
     "execution_count": 26,
     "metadata": {},
     "output_type": "execute_result"
    }
   ],
   "source": [
    "df.shape #check shape (means how long and wide it is)"
   ]
  },
  {
   "cell_type": "markdown",
   "metadata": {},
   "source": [
    "# Initial Hypotheses and assumptions about dataset"
   ]
  },
  {
   "cell_type": "markdown",
   "metadata": {},
   "source": [
    "***Hypotheses***\n",
    "\n",
    "| Question | Hyothesis |\n",
    "| ---------|-----------|\n",
    "| Does timing affect the price ?| House prices fluctuate over the year and are the lowest in season with low number of solds|\n",
    "|Which lively and central area is still affordable for a budget in middle price range?| Certain areas are cheaper to buy than others/ Lively and central areas with lower house conditions/grading are more affordable|\n",
    "|Which standards can be expected from a middle-priced house in a lively and central area?| affordable houses will be small/non-renovated/no basement|"
   ]
  },
  {
   "cell_type": "markdown",
   "metadata": {},
   "source": [
    "***What is needed from dataset***\n",
    "\n",
    "\n",
    "* define budget for middle price class --> take interquartile of prices\n",
    "* define which area is lively and central (select zipcodes of central areas, select areas with high density) \n",
    "* Select only houses that are in the price range --> show areas that are affordable \n",
    "* show price by condition and grading (grouped by zipcode of central/lively area)\n",
    "* groupby zipcode and plot prices by month --> to recommand in which month/season it is better to buy\n",
    "* show plots of price by square_living, basement, number of bedrooms e.g."
   ]
  },
  {
   "cell_type": "code",
   "execution_count": 27,
   "metadata": {},
   "outputs": [
    {
     "name": "stdout",
     "output_type": "stream",
     "text": [
      "<class 'pandas.core.frame.DataFrame'>\n",
      "RangeIndex: 21597 entries, 0 to 21596\n",
      "Data columns (total 21 columns):\n",
      " #   Column         Non-Null Count  Dtype  \n",
      "---  ------         --------------  -----  \n",
      " 0   bedrooms       21597 non-null  float64\n",
      " 1   bathrooms      21597 non-null  float64\n",
      " 2   sqft_living    21597 non-null  float64\n",
      " 3   sqft_lot       21597 non-null  float64\n",
      " 4   floors         21597 non-null  float64\n",
      " 5   waterfront     21597 non-null  object \n",
      " 6   view           21597 non-null  object \n",
      " 7   condition      21597 non-null  int64  \n",
      " 8   grade          21597 non-null  int64  \n",
      " 9   sqft_above     21597 non-null  float64\n",
      " 10  sqft_basement  21597 non-null  object \n",
      " 11  yr_built       21597 non-null  int64  \n",
      " 12  yr_renovated   21597 non-null  object \n",
      " 13  zipcode        21597 non-null  int64  \n",
      " 14  lat            21597 non-null  float64\n",
      " 15  long           21597 non-null  float64\n",
      " 16  sqft_living15  21597 non-null  float64\n",
      " 17  sqft_lot15     21597 non-null  float64\n",
      " 18  date           21597 non-null  object \n",
      " 19  price          21597 non-null  float64\n",
      " 20  house_id       21597 non-null  int64  \n",
      "dtypes: float64(11), int64(5), object(5)\n",
      "memory usage: 3.5+ MB\n"
     ]
    }
   ],
   "source": [
    "df.info() #to check data types and see if there are missing values "
   ]
  },
  {
   "cell_type": "markdown",
   "metadata": {},
   "source": [
    "**Data types**\n",
    "* we have the same number of non-null values in each columns and it is the same number as we have rows. This means we have no null values \n",
    "* Some datat ypes have to be changed for analysis: sqft_basement to float64, yr_built to Date, Date to Datetime, (yr_renovated to Datetime --> will come back this later if needed)"
   ]
  },
  {
   "cell_type": "code",
   "execution_count": 28,
   "metadata": {},
   "outputs": [
    {
     "ename": "ValueError",
     "evalue": "could not convert string to float: '              '",
     "output_type": "error",
     "traceback": [
      "\u001b[0;31m---------------------------------------------------------------------------\u001b[0m",
      "\u001b[0;31mValueError\u001b[0m                                Traceback (most recent call last)",
      "Cell \u001b[0;32mIn[28], line 3\u001b[0m\n\u001b[1;32m      1\u001b[0m \u001b[38;5;66;03m# sqft_basement to float 64\u001b[39;00m\n\u001b[0;32m----> 3\u001b[0m df[\u001b[38;5;124m'\u001b[39m\u001b[38;5;124msqft_basement\u001b[39m\u001b[38;5;124m'\u001b[39m] \u001b[38;5;241m=\u001b[39m \u001b[43mdf\u001b[49m\u001b[43m[\u001b[49m\u001b[38;5;124;43m'\u001b[39;49m\u001b[38;5;124;43msqft_basement\u001b[39;49m\u001b[38;5;124;43m'\u001b[39;49m\u001b[43m]\u001b[49m\u001b[38;5;241;43m.\u001b[39;49m\u001b[43mastype\u001b[49m\u001b[43m(\u001b[49m\u001b[38;5;28;43mfloat\u001b[39;49m\u001b[43m)\u001b[49m\n\u001b[1;32m      5\u001b[0m df\u001b[38;5;241m.\u001b[39msqft_basement\u001b[38;5;241m.\u001b[39mhead()\n",
      "File \u001b[0;32m~/Desktop/neuefische/EDA_house_sales/.venv/lib/python3.11/site-packages/pandas/core/generic.py:6324\u001b[0m, in \u001b[0;36mNDFrame.astype\u001b[0;34m(self, dtype, copy, errors)\u001b[0m\n\u001b[1;32m   6317\u001b[0m     results \u001b[38;5;241m=\u001b[39m [\n\u001b[1;32m   6318\u001b[0m         \u001b[38;5;28mself\u001b[39m\u001b[38;5;241m.\u001b[39miloc[:, i]\u001b[38;5;241m.\u001b[39mastype(dtype, copy\u001b[38;5;241m=\u001b[39mcopy)\n\u001b[1;32m   6319\u001b[0m         \u001b[38;5;28;01mfor\u001b[39;00m i \u001b[38;5;129;01min\u001b[39;00m \u001b[38;5;28mrange\u001b[39m(\u001b[38;5;28mlen\u001b[39m(\u001b[38;5;28mself\u001b[39m\u001b[38;5;241m.\u001b[39mcolumns))\n\u001b[1;32m   6320\u001b[0m     ]\n\u001b[1;32m   6322\u001b[0m \u001b[38;5;28;01melse\u001b[39;00m:\n\u001b[1;32m   6323\u001b[0m     \u001b[38;5;66;03m# else, only a single dtype is given\u001b[39;00m\n\u001b[0;32m-> 6324\u001b[0m     new_data \u001b[38;5;241m=\u001b[39m \u001b[38;5;28;43mself\u001b[39;49m\u001b[38;5;241;43m.\u001b[39;49m\u001b[43m_mgr\u001b[49m\u001b[38;5;241;43m.\u001b[39;49m\u001b[43mastype\u001b[49m\u001b[43m(\u001b[49m\u001b[43mdtype\u001b[49m\u001b[38;5;241;43m=\u001b[39;49m\u001b[43mdtype\u001b[49m\u001b[43m,\u001b[49m\u001b[43m \u001b[49m\u001b[43mcopy\u001b[49m\u001b[38;5;241;43m=\u001b[39;49m\u001b[43mcopy\u001b[49m\u001b[43m,\u001b[49m\u001b[43m \u001b[49m\u001b[43merrors\u001b[49m\u001b[38;5;241;43m=\u001b[39;49m\u001b[43merrors\u001b[49m\u001b[43m)\u001b[49m\n\u001b[1;32m   6325\u001b[0m     \u001b[38;5;28;01mreturn\u001b[39;00m \u001b[38;5;28mself\u001b[39m\u001b[38;5;241m.\u001b[39m_constructor(new_data)\u001b[38;5;241m.\u001b[39m__finalize__(\u001b[38;5;28mself\u001b[39m, method\u001b[38;5;241m=\u001b[39m\u001b[38;5;124m\"\u001b[39m\u001b[38;5;124mastype\u001b[39m\u001b[38;5;124m\"\u001b[39m)\n\u001b[1;32m   6327\u001b[0m \u001b[38;5;66;03m# GH 33113: handle empty frame or series\u001b[39;00m\n",
      "File \u001b[0;32m~/Desktop/neuefische/EDA_house_sales/.venv/lib/python3.11/site-packages/pandas/core/internals/managers.py:451\u001b[0m, in \u001b[0;36mBaseBlockManager.astype\u001b[0;34m(self, dtype, copy, errors)\u001b[0m\n\u001b[1;32m    448\u001b[0m \u001b[38;5;28;01melif\u001b[39;00m using_copy_on_write():\n\u001b[1;32m    449\u001b[0m     copy \u001b[38;5;241m=\u001b[39m \u001b[38;5;28;01mFalse\u001b[39;00m\n\u001b[0;32m--> 451\u001b[0m \u001b[38;5;28;01mreturn\u001b[39;00m \u001b[38;5;28;43mself\u001b[39;49m\u001b[38;5;241;43m.\u001b[39;49m\u001b[43mapply\u001b[49m\u001b[43m(\u001b[49m\n\u001b[1;32m    452\u001b[0m \u001b[43m    \u001b[49m\u001b[38;5;124;43m\"\u001b[39;49m\u001b[38;5;124;43mastype\u001b[39;49m\u001b[38;5;124;43m\"\u001b[39;49m\u001b[43m,\u001b[49m\n\u001b[1;32m    453\u001b[0m \u001b[43m    \u001b[49m\u001b[43mdtype\u001b[49m\u001b[38;5;241;43m=\u001b[39;49m\u001b[43mdtype\u001b[49m\u001b[43m,\u001b[49m\n\u001b[1;32m    454\u001b[0m \u001b[43m    \u001b[49m\u001b[43mcopy\u001b[49m\u001b[38;5;241;43m=\u001b[39;49m\u001b[43mcopy\u001b[49m\u001b[43m,\u001b[49m\n\u001b[1;32m    455\u001b[0m \u001b[43m    \u001b[49m\u001b[43merrors\u001b[49m\u001b[38;5;241;43m=\u001b[39;49m\u001b[43merrors\u001b[49m\u001b[43m,\u001b[49m\n\u001b[1;32m    456\u001b[0m \u001b[43m    \u001b[49m\u001b[43musing_cow\u001b[49m\u001b[38;5;241;43m=\u001b[39;49m\u001b[43musing_copy_on_write\u001b[49m\u001b[43m(\u001b[49m\u001b[43m)\u001b[49m\u001b[43m,\u001b[49m\n\u001b[1;32m    457\u001b[0m \u001b[43m\u001b[49m\u001b[43m)\u001b[49m\n",
      "File \u001b[0;32m~/Desktop/neuefische/EDA_house_sales/.venv/lib/python3.11/site-packages/pandas/core/internals/managers.py:352\u001b[0m, in \u001b[0;36mBaseBlockManager.apply\u001b[0;34m(self, f, align_keys, **kwargs)\u001b[0m\n\u001b[1;32m    350\u001b[0m         applied \u001b[38;5;241m=\u001b[39m b\u001b[38;5;241m.\u001b[39mapply(f, \u001b[38;5;241m*\u001b[39m\u001b[38;5;241m*\u001b[39mkwargs)\n\u001b[1;32m    351\u001b[0m     \u001b[38;5;28;01melse\u001b[39;00m:\n\u001b[0;32m--> 352\u001b[0m         applied \u001b[38;5;241m=\u001b[39m \u001b[38;5;28;43mgetattr\u001b[39;49m\u001b[43m(\u001b[49m\u001b[43mb\u001b[49m\u001b[43m,\u001b[49m\u001b[43m \u001b[49m\u001b[43mf\u001b[49m\u001b[43m)\u001b[49m\u001b[43m(\u001b[49m\u001b[38;5;241;43m*\u001b[39;49m\u001b[38;5;241;43m*\u001b[39;49m\u001b[43mkwargs\u001b[49m\u001b[43m)\u001b[49m\n\u001b[1;32m    353\u001b[0m     result_blocks \u001b[38;5;241m=\u001b[39m extend_blocks(applied, result_blocks)\n\u001b[1;32m    355\u001b[0m out \u001b[38;5;241m=\u001b[39m \u001b[38;5;28mtype\u001b[39m(\u001b[38;5;28mself\u001b[39m)\u001b[38;5;241m.\u001b[39mfrom_blocks(result_blocks, \u001b[38;5;28mself\u001b[39m\u001b[38;5;241m.\u001b[39maxes)\n",
      "File \u001b[0;32m~/Desktop/neuefische/EDA_house_sales/.venv/lib/python3.11/site-packages/pandas/core/internals/blocks.py:511\u001b[0m, in \u001b[0;36mBlock.astype\u001b[0;34m(self, dtype, copy, errors, using_cow)\u001b[0m\n\u001b[1;32m    491\u001b[0m \u001b[38;5;250m\u001b[39m\u001b[38;5;124;03m\"\"\"\u001b[39;00m\n\u001b[1;32m    492\u001b[0m \u001b[38;5;124;03mCoerce to the new dtype.\u001b[39;00m\n\u001b[1;32m    493\u001b[0m \n\u001b[0;32m   (...)\u001b[0m\n\u001b[1;32m    507\u001b[0m \u001b[38;5;124;03mBlock\u001b[39;00m\n\u001b[1;32m    508\u001b[0m \u001b[38;5;124;03m\"\"\"\u001b[39;00m\n\u001b[1;32m    509\u001b[0m values \u001b[38;5;241m=\u001b[39m \u001b[38;5;28mself\u001b[39m\u001b[38;5;241m.\u001b[39mvalues\n\u001b[0;32m--> 511\u001b[0m new_values \u001b[38;5;241m=\u001b[39m \u001b[43mastype_array_safe\u001b[49m\u001b[43m(\u001b[49m\u001b[43mvalues\u001b[49m\u001b[43m,\u001b[49m\u001b[43m \u001b[49m\u001b[43mdtype\u001b[49m\u001b[43m,\u001b[49m\u001b[43m \u001b[49m\u001b[43mcopy\u001b[49m\u001b[38;5;241;43m=\u001b[39;49m\u001b[43mcopy\u001b[49m\u001b[43m,\u001b[49m\u001b[43m \u001b[49m\u001b[43merrors\u001b[49m\u001b[38;5;241;43m=\u001b[39;49m\u001b[43merrors\u001b[49m\u001b[43m)\u001b[49m\n\u001b[1;32m    513\u001b[0m new_values \u001b[38;5;241m=\u001b[39m maybe_coerce_values(new_values)\n\u001b[1;32m    515\u001b[0m refs \u001b[38;5;241m=\u001b[39m \u001b[38;5;28;01mNone\u001b[39;00m\n",
      "File \u001b[0;32m~/Desktop/neuefische/EDA_house_sales/.venv/lib/python3.11/site-packages/pandas/core/dtypes/astype.py:242\u001b[0m, in \u001b[0;36mastype_array_safe\u001b[0;34m(values, dtype, copy, errors)\u001b[0m\n\u001b[1;32m    239\u001b[0m     dtype \u001b[38;5;241m=\u001b[39m dtype\u001b[38;5;241m.\u001b[39mnumpy_dtype\n\u001b[1;32m    241\u001b[0m \u001b[38;5;28;01mtry\u001b[39;00m:\n\u001b[0;32m--> 242\u001b[0m     new_values \u001b[38;5;241m=\u001b[39m \u001b[43mastype_array\u001b[49m\u001b[43m(\u001b[49m\u001b[43mvalues\u001b[49m\u001b[43m,\u001b[49m\u001b[43m \u001b[49m\u001b[43mdtype\u001b[49m\u001b[43m,\u001b[49m\u001b[43m \u001b[49m\u001b[43mcopy\u001b[49m\u001b[38;5;241;43m=\u001b[39;49m\u001b[43mcopy\u001b[49m\u001b[43m)\u001b[49m\n\u001b[1;32m    243\u001b[0m \u001b[38;5;28;01mexcept\u001b[39;00m (\u001b[38;5;167;01mValueError\u001b[39;00m, \u001b[38;5;167;01mTypeError\u001b[39;00m):\n\u001b[1;32m    244\u001b[0m     \u001b[38;5;66;03m# e.g. _astype_nansafe can fail on object-dtype of strings\u001b[39;00m\n\u001b[1;32m    245\u001b[0m     \u001b[38;5;66;03m#  trying to convert to float\u001b[39;00m\n\u001b[1;32m    246\u001b[0m     \u001b[38;5;28;01mif\u001b[39;00m errors \u001b[38;5;241m==\u001b[39m \u001b[38;5;124m\"\u001b[39m\u001b[38;5;124mignore\u001b[39m\u001b[38;5;124m\"\u001b[39m:\n",
      "File \u001b[0;32m~/Desktop/neuefische/EDA_house_sales/.venv/lib/python3.11/site-packages/pandas/core/dtypes/astype.py:187\u001b[0m, in \u001b[0;36mastype_array\u001b[0;34m(values, dtype, copy)\u001b[0m\n\u001b[1;32m    184\u001b[0m     values \u001b[38;5;241m=\u001b[39m values\u001b[38;5;241m.\u001b[39mastype(dtype, copy\u001b[38;5;241m=\u001b[39mcopy)\n\u001b[1;32m    186\u001b[0m \u001b[38;5;28;01melse\u001b[39;00m:\n\u001b[0;32m--> 187\u001b[0m     values \u001b[38;5;241m=\u001b[39m \u001b[43m_astype_nansafe\u001b[49m\u001b[43m(\u001b[49m\u001b[43mvalues\u001b[49m\u001b[43m,\u001b[49m\u001b[43m \u001b[49m\u001b[43mdtype\u001b[49m\u001b[43m,\u001b[49m\u001b[43m \u001b[49m\u001b[43mcopy\u001b[49m\u001b[38;5;241;43m=\u001b[39;49m\u001b[43mcopy\u001b[49m\u001b[43m)\u001b[49m\n\u001b[1;32m    189\u001b[0m \u001b[38;5;66;03m# in pandas we don't store numpy str dtypes, so convert to object\u001b[39;00m\n\u001b[1;32m    190\u001b[0m \u001b[38;5;28;01mif\u001b[39;00m \u001b[38;5;28misinstance\u001b[39m(dtype, np\u001b[38;5;241m.\u001b[39mdtype) \u001b[38;5;129;01mand\u001b[39;00m \u001b[38;5;28missubclass\u001b[39m(values\u001b[38;5;241m.\u001b[39mdtype\u001b[38;5;241m.\u001b[39mtype, \u001b[38;5;28mstr\u001b[39m):\n",
      "File \u001b[0;32m~/Desktop/neuefische/EDA_house_sales/.venv/lib/python3.11/site-packages/pandas/core/dtypes/astype.py:138\u001b[0m, in \u001b[0;36m_astype_nansafe\u001b[0;34m(arr, dtype, copy, skipna)\u001b[0m\n\u001b[1;32m    134\u001b[0m     \u001b[38;5;28;01mraise\u001b[39;00m \u001b[38;5;167;01mValueError\u001b[39;00m(msg)\n\u001b[1;32m    136\u001b[0m \u001b[38;5;28;01mif\u001b[39;00m copy \u001b[38;5;129;01mor\u001b[39;00m is_object_dtype(arr\u001b[38;5;241m.\u001b[39mdtype) \u001b[38;5;129;01mor\u001b[39;00m is_object_dtype(dtype):\n\u001b[1;32m    137\u001b[0m     \u001b[38;5;66;03m# Explicit copy, or required since NumPy can't view from / to object.\u001b[39;00m\n\u001b[0;32m--> 138\u001b[0m     \u001b[38;5;28;01mreturn\u001b[39;00m \u001b[43marr\u001b[49m\u001b[38;5;241;43m.\u001b[39;49m\u001b[43mastype\u001b[49m\u001b[43m(\u001b[49m\u001b[43mdtype\u001b[49m\u001b[43m,\u001b[49m\u001b[43m \u001b[49m\u001b[43mcopy\u001b[49m\u001b[38;5;241;43m=\u001b[39;49m\u001b[38;5;28;43;01mTrue\u001b[39;49;00m\u001b[43m)\u001b[49m\n\u001b[1;32m    140\u001b[0m \u001b[38;5;28;01mreturn\u001b[39;00m arr\u001b[38;5;241m.\u001b[39mastype(dtype, copy\u001b[38;5;241m=\u001b[39mcopy)\n",
      "\u001b[0;31mValueError\u001b[0m: could not convert string to float: '              '"
     ]
    }
   ],
   "source": [
    "# sqft_basement to float 64\n",
    "\n",
    "df['sqft_basement'] = df['sqft_basement'].astype(float)\n",
    "\n",
    "df.sqft_basement.head()"
   ]
  },
  {
   "cell_type": "code",
   "execution_count": null,
   "metadata": {},
   "outputs": [
    {
     "data": {
      "text/plain": [
       "0   1955-01-01\n",
       "1   1951-01-01\n",
       "2   1933-01-01\n",
       "3   1965-01-01\n",
       "4   1987-01-01\n",
       "Name: yr_built, dtype: datetime64[ns]"
      ]
     },
     "execution_count": 55,
     "metadata": {},
     "output_type": "execute_result"
    }
   ],
   "source": [
    "# transform yr_built to date\n",
    "\n",
    "df['yr_built'] = df['yr_built'].astype(str).str[:4]\n",
    "df['yr_built'] = pd.to_datetime(df['yr_built'], format='%Y', errors='coerce')\n",
    "df.yr_built.head()\n"
   ]
  },
  {
   "cell_type": "code",
   "execution_count": 31,
   "metadata": {},
   "outputs": [
    {
     "data": {
      "text/plain": [
       "0   2014-10-13\n",
       "1   2014-12-09\n",
       "2   2015-02-25\n",
       "3   2014-12-09\n",
       "4   2015-02-18\n",
       "Name: date, dtype: datetime64[ns]"
      ]
     },
     "execution_count": 31,
     "metadata": {},
     "output_type": "execute_result"
    }
   ],
   "source": [
    "#transform date to Datetime format\n",
    "\n",
    "df['date'] = pd.to_datetime(df['date'], format='mixed')\n",
    "\n",
    "df['date'].head()"
   ]
  },
  {
   "cell_type": "code",
   "execution_count": null,
   "metadata": {},
   "outputs": [
    {
     "data": {
      "text/plain": [
       "house_id\n",
       "False    21420\n",
       "True       177\n",
       "Name: count, dtype: int64"
      ]
     },
     "execution_count": 188,
     "metadata": {},
     "output_type": "execute_result"
    }
   ],
   "source": [
    "# Check for Duplicates in house_id \n",
    "\n",
    "df.house_id.duplicated().value_counts()"
   ]
  },
  {
   "cell_type": "markdown",
   "metadata": {},
   "source": [
    "There are 177 duplicates in house_id, which means that some houses were frequently sold (probably just bought as an investment). We will keep this in mind, but for now duplicates won't be removed from data."
   ]
  },
  {
   "cell_type": "code",
   "execution_count": null,
   "metadata": {},
   "outputs": [
    {
     "data": {
      "text/plain": [
       "array([3, 5, 4, 1, 2])"
      ]
     },
     "execution_count": 57,
     "metadata": {},
     "output_type": "execute_result"
    }
   ],
   "source": [
    "df.condition.unique() #check unique values for column condition to better understand these categorical values "
   ]
  },
  {
   "cell_type": "code",
   "execution_count": null,
   "metadata": {},
   "outputs": [
    {
     "data": {
      "text/html": [
       "<div>\n",
       "<style scoped>\n",
       "    .dataframe tbody tr th:only-of-type {\n",
       "        vertical-align: middle;\n",
       "    }\n",
       "\n",
       "    .dataframe tbody tr th {\n",
       "        vertical-align: top;\n",
       "    }\n",
       "\n",
       "    .dataframe thead th {\n",
       "        text-align: right;\n",
       "    }\n",
       "</style>\n",
       "<table border=\"1\" class=\"dataframe\">\n",
       "  <thead>\n",
       "    <tr style=\"text-align: right;\">\n",
       "      <th></th>\n",
       "      <th>bedrooms</th>\n",
       "      <th>bathrooms</th>\n",
       "      <th>sqft_living</th>\n",
       "      <th>sqft_lot</th>\n",
       "      <th>floors</th>\n",
       "      <th>condition</th>\n",
       "      <th>grade</th>\n",
       "      <th>sqft_above</th>\n",
       "      <th>sqft_basement</th>\n",
       "      <th>yr_built</th>\n",
       "      <th>zipcode</th>\n",
       "      <th>lat</th>\n",
       "      <th>long</th>\n",
       "      <th>sqft_living15</th>\n",
       "      <th>sqft_lot15</th>\n",
       "      <th>date</th>\n",
       "      <th>price</th>\n",
       "      <th>house_id</th>\n",
       "    </tr>\n",
       "  </thead>\n",
       "  <tbody>\n",
       "    <tr>\n",
       "      <th>count</th>\n",
       "      <td>21597.000</td>\n",
       "      <td>21597.000</td>\n",
       "      <td>21597.000</td>\n",
       "      <td>21597.000</td>\n",
       "      <td>21597.000</td>\n",
       "      <td>21597.000</td>\n",
       "      <td>21597.000</td>\n",
       "      <td>21597.000</td>\n",
       "      <td>21145.000</td>\n",
       "      <td>21597</td>\n",
       "      <td>21597.000</td>\n",
       "      <td>21597.000</td>\n",
       "      <td>21597.000</td>\n",
       "      <td>21597.000</td>\n",
       "      <td>21597.000</td>\n",
       "      <td>21597</td>\n",
       "      <td>21597.000</td>\n",
       "      <td>21597.000</td>\n",
       "    </tr>\n",
       "    <tr>\n",
       "      <th>mean</th>\n",
       "      <td>3.373</td>\n",
       "      <td>2.116</td>\n",
       "      <td>2080.322</td>\n",
       "      <td>15099.409</td>\n",
       "      <td>1.494</td>\n",
       "      <td>3.410</td>\n",
       "      <td>7.658</td>\n",
       "      <td>1788.597</td>\n",
       "      <td>291.857</td>\n",
       "      <td>1971-01-01 00:15:16.127239876</td>\n",
       "      <td>98077.952</td>\n",
       "      <td>47.560</td>\n",
       "      <td>-122.214</td>\n",
       "      <td>1986.620</td>\n",
       "      <td>12758.284</td>\n",
       "      <td>2014-10-29 04:20:38.171968512</td>\n",
       "      <td>540296.574</td>\n",
       "      <td>4580474287.771</td>\n",
       "    </tr>\n",
       "    <tr>\n",
       "      <th>min</th>\n",
       "      <td>1.000</td>\n",
       "      <td>0.500</td>\n",
       "      <td>370.000</td>\n",
       "      <td>520.000</td>\n",
       "      <td>1.000</td>\n",
       "      <td>1.000</td>\n",
       "      <td>3.000</td>\n",
       "      <td>370.000</td>\n",
       "      <td>0.000</td>\n",
       "      <td>1900-01-01 00:00:00</td>\n",
       "      <td>98001.000</td>\n",
       "      <td>47.156</td>\n",
       "      <td>-122.519</td>\n",
       "      <td>399.000</td>\n",
       "      <td>651.000</td>\n",
       "      <td>2014-05-02 00:00:00</td>\n",
       "      <td>78000.000</td>\n",
       "      <td>1000102.000</td>\n",
       "    </tr>\n",
       "    <tr>\n",
       "      <th>25%</th>\n",
       "      <td>3.000</td>\n",
       "      <td>1.750</td>\n",
       "      <td>1430.000</td>\n",
       "      <td>5040.000</td>\n",
       "      <td>1.000</td>\n",
       "      <td>3.000</td>\n",
       "      <td>7.000</td>\n",
       "      <td>1190.000</td>\n",
       "      <td>0.000</td>\n",
       "      <td>1951-01-01 00:00:00</td>\n",
       "      <td>98033.000</td>\n",
       "      <td>47.471</td>\n",
       "      <td>-122.328</td>\n",
       "      <td>1490.000</td>\n",
       "      <td>5100.000</td>\n",
       "      <td>2014-07-22 00:00:00</td>\n",
       "      <td>322000.000</td>\n",
       "      <td>2123049175.000</td>\n",
       "    </tr>\n",
       "    <tr>\n",
       "      <th>50%</th>\n",
       "      <td>3.000</td>\n",
       "      <td>2.250</td>\n",
       "      <td>1910.000</td>\n",
       "      <td>7618.000</td>\n",
       "      <td>1.500</td>\n",
       "      <td>3.000</td>\n",
       "      <td>7.000</td>\n",
       "      <td>1560.000</td>\n",
       "      <td>0.000</td>\n",
       "      <td>1975-01-01 00:00:00</td>\n",
       "      <td>98065.000</td>\n",
       "      <td>47.572</td>\n",
       "      <td>-122.231</td>\n",
       "      <td>1840.000</td>\n",
       "      <td>7620.000</td>\n",
       "      <td>2014-10-16 00:00:00</td>\n",
       "      <td>450000.000</td>\n",
       "      <td>3904930410.000</td>\n",
       "    </tr>\n",
       "    <tr>\n",
       "      <th>75%</th>\n",
       "      <td>4.000</td>\n",
       "      <td>2.500</td>\n",
       "      <td>2550.000</td>\n",
       "      <td>10685.000</td>\n",
       "      <td>2.000</td>\n",
       "      <td>4.000</td>\n",
       "      <td>8.000</td>\n",
       "      <td>2210.000</td>\n",
       "      <td>560.000</td>\n",
       "      <td>1997-01-01 00:00:00</td>\n",
       "      <td>98118.000</td>\n",
       "      <td>47.678</td>\n",
       "      <td>-122.125</td>\n",
       "      <td>2360.000</td>\n",
       "      <td>10083.000</td>\n",
       "      <td>2015-02-17 00:00:00</td>\n",
       "      <td>645000.000</td>\n",
       "      <td>7308900490.000</td>\n",
       "    </tr>\n",
       "    <tr>\n",
       "      <th>max</th>\n",
       "      <td>33.000</td>\n",
       "      <td>8.000</td>\n",
       "      <td>13540.000</td>\n",
       "      <td>1651359.000</td>\n",
       "      <td>3.500</td>\n",
       "      <td>5.000</td>\n",
       "      <td>13.000</td>\n",
       "      <td>9410.000</td>\n",
       "      <td>4820.000</td>\n",
       "      <td>2015-01-01 00:00:00</td>\n",
       "      <td>98199.000</td>\n",
       "      <td>47.778</td>\n",
       "      <td>-121.315</td>\n",
       "      <td>6210.000</td>\n",
       "      <td>871200.000</td>\n",
       "      <td>2015-05-27 00:00:00</td>\n",
       "      <td>7700000.000</td>\n",
       "      <td>9900000190.000</td>\n",
       "    </tr>\n",
       "    <tr>\n",
       "      <th>std</th>\n",
       "      <td>0.926</td>\n",
       "      <td>0.769</td>\n",
       "      <td>918.106</td>\n",
       "      <td>41412.637</td>\n",
       "      <td>0.540</td>\n",
       "      <td>0.651</td>\n",
       "      <td>1.173</td>\n",
       "      <td>827.760</td>\n",
       "      <td>442.491</td>\n",
       "      <td>NaN</td>\n",
       "      <td>53.513</td>\n",
       "      <td>0.139</td>\n",
       "      <td>0.141</td>\n",
       "      <td>685.230</td>\n",
       "      <td>27274.442</td>\n",
       "      <td>NaN</td>\n",
       "      <td>367368.140</td>\n",
       "      <td>2876735715.748</td>\n",
       "    </tr>\n",
       "  </tbody>\n",
       "</table>\n",
       "</div>"
      ],
      "text/plain": [
       "       bedrooms  bathrooms  sqft_living    sqft_lot    floors  condition  \\\n",
       "count 21597.000  21597.000    21597.000   21597.000 21597.000  21597.000   \n",
       "mean      3.373      2.116     2080.322   15099.409     1.494      3.410   \n",
       "min       1.000      0.500      370.000     520.000     1.000      1.000   \n",
       "25%       3.000      1.750     1430.000    5040.000     1.000      3.000   \n",
       "50%       3.000      2.250     1910.000    7618.000     1.500      3.000   \n",
       "75%       4.000      2.500     2550.000   10685.000     2.000      4.000   \n",
       "max      33.000      8.000    13540.000 1651359.000     3.500      5.000   \n",
       "std       0.926      0.769      918.106   41412.637     0.540      0.651   \n",
       "\n",
       "          grade  sqft_above  sqft_basement                       yr_built  \\\n",
       "count 21597.000   21597.000      21145.000                          21597   \n",
       "mean      7.658    1788.597        291.857  1971-01-01 00:15:16.127239876   \n",
       "min       3.000     370.000          0.000            1900-01-01 00:00:00   \n",
       "25%       7.000    1190.000          0.000            1951-01-01 00:00:00   \n",
       "50%       7.000    1560.000          0.000            1975-01-01 00:00:00   \n",
       "75%       8.000    2210.000        560.000            1997-01-01 00:00:00   \n",
       "max      13.000    9410.000       4820.000            2015-01-01 00:00:00   \n",
       "std       1.173     827.760        442.491                            NaN   \n",
       "\n",
       "        zipcode       lat      long  sqft_living15  sqft_lot15  \\\n",
       "count 21597.000 21597.000 21597.000      21597.000   21597.000   \n",
       "mean  98077.952    47.560  -122.214       1986.620   12758.284   \n",
       "min   98001.000    47.156  -122.519        399.000     651.000   \n",
       "25%   98033.000    47.471  -122.328       1490.000    5100.000   \n",
       "50%   98065.000    47.572  -122.231       1840.000    7620.000   \n",
       "75%   98118.000    47.678  -122.125       2360.000   10083.000   \n",
       "max   98199.000    47.778  -121.315       6210.000  871200.000   \n",
       "std      53.513     0.139     0.141        685.230   27274.442   \n",
       "\n",
       "                                date       price       house_id  \n",
       "count                          21597   21597.000      21597.000  \n",
       "mean   2014-10-29 04:20:38.171968512  540296.574 4580474287.771  \n",
       "min              2014-05-02 00:00:00   78000.000    1000102.000  \n",
       "25%              2014-07-22 00:00:00  322000.000 2123049175.000  \n",
       "50%              2014-10-16 00:00:00  450000.000 3904930410.000  \n",
       "75%              2015-02-17 00:00:00  645000.000 7308900490.000  \n",
       "max              2015-05-27 00:00:00 7700000.000 9900000190.000  \n",
       "std                              NaN  367368.140 2876735715.748  "
      ]
     },
     "execution_count": 60,
     "metadata": {},
     "output_type": "execute_result"
    }
   ],
   "source": [
    "df.describe() #get an overview over general statistics "
   ]
  },
  {
   "cell_type": "code",
   "execution_count": null,
   "metadata": {},
   "outputs": [
    {
     "data": {
      "text/plain": [
       "count     21597.000\n",
       "mean     540296.574\n",
       "std      367368.140\n",
       "min       78000.000\n",
       "25%      322000.000\n",
       "50%      450000.000\n",
       "75%      645000.000\n",
       "max     7700000.000\n",
       "Name: price, dtype: float64"
      ]
     },
     "execution_count": 59,
     "metadata": {},
     "output_type": "execute_result"
    }
   ],
   "source": [
    "\n",
    "df.price.describe() #get an overview about the price range"
   ]
  },
  {
   "cell_type": "markdown",
   "metadata": {},
   "source": [
    "The middle range price will be defined by the IQR (interquartile range) and would range from 322000 (25% quartile) to 645000 (75% quartile)."
   ]
  },
  {
   "cell_type": "markdown",
   "metadata": {},
   "source": [
    "**Price range and distribution**"
   ]
  },
  {
   "cell_type": "code",
   "execution_count": null,
   "metadata": {},
   "outputs": [
    {
     "data": {
      "image/png": "[encoded data removed]",
      "text/plain": [
       "<Figure size 800x500 with 1 Axes>"
      ]
     },
     "metadata": {},
     "output_type": "display_data"
    }
   ],
   "source": [
    "df.boxplot(column = 'price') #boxplot of price range \n",
    "plt.yticks(range(0, 7000001, 2000000))\n",
    "plt.show()"
   ]
  },
  {
   "cell_type": "markdown",
   "metadata": {},
   "source": [
    "The price range is huge and there are many outliers with extreme values. For this business case we will focus only on the middle-price range house (we will take the interquartile range of 'price')"
   ]
  },
  {
   "cell_type": "code",
   "execution_count": null,
   "metadata": {},
   "outputs": [
    {
     "data": {
      "image/png": "[encoded data removed]",
      "text/plain": [
       "<Figure size 1000x800 with 1 Axes>"
      ]
     },
     "metadata": {},
     "output_type": "display_data"
    }
   ],
   "source": [
    "#make it nice/ change axes!\n",
    "df.hist(column = 'price', bins = 50, figsize = (10, 8))\n",
    "#adding labels and title\n",
    "plt.xlabel('Price')\n",
    "plt.ylabel('Count')\n",
    "plt.title('Price distribution')\n",
    "plt.show()\n"
   ]
  },
  {
   "cell_type": "markdown",
   "metadata": {},
   "source": [
    "The distribution of prices is positively/right skewed. "
   ]
  },
  {
   "cell_type": "markdown",
   "metadata": {},
   "source": [
    "***Distribution of numeric variables of interest***"
   ]
  },
  {
   "cell_type": "code",
   "execution_count": null,
   "metadata": {},
   "outputs": [
    {
     "data": {
      "image/png": "[encoded data removed]",
      "text/plain": [
       "<Figure size 1600x2000 with 6 Axes>"
      ]
     },
     "metadata": {},
     "output_type": "display_data"
    }
   ],
   "source": [
    "#select columns of interest\n",
    "columns_of_interest = ['sqft_living', 'sqft_lot', 'sqft_above', 'sqft_basement', 'bedrooms', 'bathrooms', 'floors']\n",
    "\n",
    "# Plot histograms\n",
    "df[columns_of_interest].hist(figsize=(16, 20), bins=50, xlabelsize=8, ylabelsize=8)\n",
    "plt.show()"
   ]
  },
  {
   "cell_type": "markdown",
   "metadata": {},
   "source": [
    "Living space is positively skewed. "
   ]
  },
  {
   "cell_type": "markdown",
   "metadata": {},
   "source": [
    "# Check for correlations"
   ]
  },
  {
   "cell_type": "code",
   "execution_count": null,
   "metadata": {},
   "outputs": [
    {
     "data": {
      "image/png": "[encoded data removed]",
      "text/plain": [
       "<Figure size 1000x1000 with 2 Axes>"
      ]
     },
     "metadata": {},
     "output_type": "display_data"
    }
   ],
   "source": [
    "# Calculate correlation matrix\n",
    "data_corr = df[columns_of_interest].corr()\n",
    "\n",
    "# Generate a mask for the upper triangle\n",
    "mask = np.triu(np.ones_like(data_corr, dtype=bool))\n",
    "\n",
    "# Set up the matplotlib figure\n",
    "plt.figure(figsize=(10,10))\n",
    "\n",
    "# Draw the heatmap with the mask and correct aspect ratio\n",
    "sns.heatmap(data_corr, \n",
    "            mask=mask,\n",
    "            xticklabels=data_corr.columns.values, # x labels\n",
    "            yticklabels=data_corr.columns.values, # y labels\n",
    "            vmin=-1, # color scale the min value\n",
    "            vmax=1, # color scale the max\n",
    "            center=0, # color scale place at the center at 0\n",
    "            cmap=sns.diverging_palette(20, 220, n=200), # color palette\n",
    "            square=True) # each cell will be square-shaped\n",
    "\n",
    "plt.show()"
   ]
  },
  {
   "cell_type": "markdown",
   "metadata": {},
   "source": [
    "Living space (sqft_living, sgft_above) and grade correlate with the price. sqft_living positively correlates wth sgft_above. As most houses do not have a basement, it does not surprise there is no correlation with sgft_lving."
   ]
  },
  {
   "cell_type": "markdown",
   "metadata": {},
   "source": [
    "# Select only houses that are of interest for the client"
   ]
  },
  {
   "cell_type": "markdown",
   "metadata": {},
   "source": [
    "House with the following criteria:  \n",
    "\n",
    "* middle price class --> in interquartile range of prices\n",
    "* areas close to the city center "
   ]
  },
  {
   "cell_type": "code",
   "execution_count": null,
   "metadata": {},
   "outputs": [],
   "source": [
    "# houses in middle price class\n",
    "\n",
    "# Calculate the lower and upper quartiles\n",
    "Q1 = df['price'].quantile(0.25)\n",
    "Q3 = df['price'].quantile(0.75)\n",
    "\n",
    "# Calculate the interquartile range (IQR)\n",
    "IQR = Q3 - Q1\n",
    "\n",
    "# Define the lower and upper bounds for the IQR\n",
    "lower_bound = Q1 - 1.5 * IQR\n",
    "upper_bound = Q3 + 1.5 * IQR\n",
    "\n",
    "# Select houses within the interquartile range\n",
    "df_middle_price = df[(df['price'] >= lower_bound) & (df['price'] <= upper_bound)]\n"
   ]
  },
  {
   "cell_type": "markdown",
   "metadata": {},
   "source": [
    "Find central areas. Definition of central areas: radius of "
   ]
  },
  {
   "cell_type": "code",
   "execution_count": null,
   "metadata": {},
   "outputs": [
    {
     "data": {
      "text/html": [
       "<div>\n",
       "<style scoped>\n",
       "    .dataframe tbody tr th:only-of-type {\n",
       "        vertical-align: middle;\n",
       "    }\n",
       "\n",
       "    .dataframe tbody tr th {\n",
       "        vertical-align: top;\n",
       "    }\n",
       "\n",
       "    .dataframe thead th {\n",
       "        text-align: right;\n",
       "    }\n",
       "</style>\n",
       "<table border=\"1\" class=\"dataframe\">\n",
       "  <thead>\n",
       "    <tr style=\"text-align: right;\">\n",
       "      <th></th>\n",
       "      <th>bedrooms</th>\n",
       "      <th>bathrooms</th>\n",
       "      <th>sqft_living</th>\n",
       "      <th>sqft_lot</th>\n",
       "      <th>floors</th>\n",
       "      <th>waterfront</th>\n",
       "      <th>view</th>\n",
       "      <th>condition</th>\n",
       "      <th>grade</th>\n",
       "      <th>sqft_above</th>\n",
       "      <th>...</th>\n",
       "      <th>yr_built</th>\n",
       "      <th>yr_renovated</th>\n",
       "      <th>zipcode</th>\n",
       "      <th>lat</th>\n",
       "      <th>long</th>\n",
       "      <th>sqft_living15</th>\n",
       "      <th>sqft_lot15</th>\n",
       "      <th>date</th>\n",
       "      <th>price</th>\n",
       "      <th>house_id</th>\n",
       "    </tr>\n",
       "  </thead>\n",
       "  <tbody>\n",
       "    <tr>\n",
       "      <th>21561</th>\n",
       "      <td>4.000</td>\n",
       "      <td>3.250</td>\n",
       "      <td>1900.000</td>\n",
       "      <td>2631.000</td>\n",
       "      <td>2.000</td>\n",
       "      <td>0.0</td>\n",
       "      <td>0.0</td>\n",
       "      <td>3</td>\n",
       "      <td>9</td>\n",
       "      <td>1250.000</td>\n",
       "      <td>...</td>\n",
       "      <td>2014</td>\n",
       "      <td>0.0</td>\n",
       "      <td>98144</td>\n",
       "      <td>47.587</td>\n",
       "      <td>-122.311</td>\n",
       "      <td>1710.000</td>\n",
       "      <td>4502.000</td>\n",
       "      <td>2015-01-23</td>\n",
       "      <td>579000.000</td>\n",
       "      <td>3881900317</td>\n",
       "    </tr>\n",
       "    <tr>\n",
       "      <th>21563</th>\n",
       "      <td>3.000</td>\n",
       "      <td>3.250</td>\n",
       "      <td>1730.000</td>\n",
       "      <td>1229.000</td>\n",
       "      <td>2.000</td>\n",
       "      <td>0.0</td>\n",
       "      <td>2.0</td>\n",
       "      <td>3</td>\n",
       "      <td>9</td>\n",
       "      <td>1320.000</td>\n",
       "      <td>...</td>\n",
       "      <td>2008</td>\n",
       "      <td>0.0</td>\n",
       "      <td>98119</td>\n",
       "      <td>47.637</td>\n",
       "      <td>-122.369</td>\n",
       "      <td>1710.000</td>\n",
       "      <td>1686.000</td>\n",
       "      <td>2014-05-29</td>\n",
       "      <td>645000.000</td>\n",
       "      <td>7011201004</td>\n",
       "    </tr>\n",
       "    <tr>\n",
       "      <th>21567</th>\n",
       "      <td>2.000</td>\n",
       "      <td>1.000</td>\n",
       "      <td>710.000</td>\n",
       "      <td>1157.000</td>\n",
       "      <td>2.000</td>\n",
       "      <td></td>\n",
       "      <td>0.0</td>\n",
       "      <td>4</td>\n",
       "      <td>7</td>\n",
       "      <td>710.000</td>\n",
       "      <td>...</td>\n",
       "      <td>1943</td>\n",
       "      <td>0.0</td>\n",
       "      <td>98102</td>\n",
       "      <td>47.641</td>\n",
       "      <td>-122.329</td>\n",
       "      <td>1370.000</td>\n",
       "      <td>1173.000</td>\n",
       "      <td>2014-06-10</td>\n",
       "      <td>399950.000</td>\n",
       "      <td>2025049203</td>\n",
       "    </tr>\n",
       "    <tr>\n",
       "      <th>21576</th>\n",
       "      <td>3.000</td>\n",
       "      <td>2.250</td>\n",
       "      <td>1190.000</td>\n",
       "      <td>1200.000</td>\n",
       "      <td>3.000</td>\n",
       "      <td>0.0</td>\n",
       "      <td>0.0</td>\n",
       "      <td>3</td>\n",
       "      <td>8</td>\n",
       "      <td>1190.000</td>\n",
       "      <td>...</td>\n",
       "      <td>2008</td>\n",
       "      <td></td>\n",
       "      <td>98103</td>\n",
       "      <td>47.654</td>\n",
       "      <td>-122.346</td>\n",
       "      <td>1180.000</td>\n",
       "      <td>1224.000</td>\n",
       "      <td>2015-04-16</td>\n",
       "      <td>475000.000</td>\n",
       "      <td>1931300412</td>\n",
       "    </tr>\n",
       "    <tr>\n",
       "      <th>21579</th>\n",
       "      <td>2.000</td>\n",
       "      <td>2.250</td>\n",
       "      <td>1530.000</td>\n",
       "      <td>981.000</td>\n",
       "      <td>3.000</td>\n",
       "      <td>0.0</td>\n",
       "      <td>0.0</td>\n",
       "      <td>3</td>\n",
       "      <td>8</td>\n",
       "      <td>1480.000</td>\n",
       "      <td>...</td>\n",
       "      <td>2006</td>\n",
       "      <td></td>\n",
       "      <td>98103</td>\n",
       "      <td>47.653</td>\n",
       "      <td>-122.346</td>\n",
       "      <td>1530.000</td>\n",
       "      <td>1282.000</td>\n",
       "      <td>2014-10-31</td>\n",
       "      <td>520000.000</td>\n",
       "      <td>1972201967</td>\n",
       "    </tr>\n",
       "  </tbody>\n",
       "</table>\n",
       "<p>5 rows × 21 columns</p>\n",
       "</div>"
      ],
      "text/plain": [
       "       bedrooms  bathrooms  sqft_living  sqft_lot  floors   waterfront   view  \\\n",
       "21561     4.000      3.250     1900.000  2631.000   2.000         0.0    0.0    \n",
       "21563     3.000      3.250     1730.000  1229.000   2.000         0.0    2.0    \n",
       "21567     2.000      1.000      710.000  1157.000   2.000                0.0    \n",
       "21576     3.000      2.250     1190.000  1200.000   3.000         0.0    0.0    \n",
       "21579     2.000      2.250     1530.000   981.000   3.000         0.0    0.0    \n",
       "\n",
       "       condition  grade  sqft_above  ... yr_built   yr_renovated zipcode  \\\n",
       "21561          3      9    1250.000  ...     2014           0.0    98144   \n",
       "21563          3      9    1320.000  ...     2008           0.0    98119   \n",
       "21567          4      7     710.000  ...     1943           0.0    98102   \n",
       "21576          3      8    1190.000  ...     2008                  98103   \n",
       "21579          3      8    1480.000  ...     2006                  98103   \n",
       "\n",
       "         lat     long  sqft_living15  sqft_lot15         date      price  \\\n",
       "21561 47.587 -122.311       1710.000    4502.000  2015-01-23  579000.000   \n",
       "21563 47.637 -122.369       1710.000    1686.000  2014-05-29  645000.000   \n",
       "21567 47.641 -122.329       1370.000    1173.000  2014-06-10  399950.000   \n",
       "21576 47.654 -122.346       1180.000    1224.000  2015-04-16  475000.000   \n",
       "21579 47.653 -122.346       1530.000    1282.000  2014-10-31  520000.000   \n",
       "\n",
       "         house_id  \n",
       "21561  3881900317  \n",
       "21563  7011201004  \n",
       "21567  2025049203  \n",
       "21576  1931300412  \n",
       "21579  1972201967  \n",
       "\n",
       "[5 rows x 21 columns]"
      ]
     },
     "execution_count": 16,
     "metadata": {},
     "output_type": "execute_result"
    }
   ],
   "source": [
    "# Find central areas\n",
    "\n",
    "#using geopy library to calculate distances between zipcodes and the city center (pre-defined city center by coodinates)\n",
    "\n",
    "from geopy.distance import distance \n",
    "\n",
    "#Define coordinates of the city center \n",
    "city_center_coordinates = (47.620564, -122.350616 )\n",
    "\n",
    "\n",
    "# Calculation of distance between two coordinates\n",
    "def calc_dist(house_coordinates):\n",
    "    return distance(city_center_coordinates, house_coordinates).miles\n",
    "\n",
    "# Iterate through dataset and filter houses close to the city center\n",
    "central_houses = []\n",
    "for index, row in df_middle_price.iterrows():\n",
    "    house_coordinates = (row['lat'], row['long'])\n",
    "    distance_to_city_center = calc_dist(house_coordinates)\n",
    "    if distance_to_city_center <= 3:\n",
    "        central_houses.append(row)\n",
    "\n",
    "#convert to DataFrame\n",
    "central_houses_df = pd.DataFrame(central_houses)\n",
    "central_houses_df.tail()\n"
   ]
  },
  {
   "cell_type": "markdown",
   "metadata": {},
   "source": [
    "***Visualization of central houses in Geomap***"
   ]
  },
  {
   "cell_type": "code",
   "execution_count": null,
   "metadata": {},
   "outputs": [
    {
     "name": "stdout",
     "output_type": "stream",
     "text": [
      "[98119 98112 98122 98199 98102 98109 98107 98103 98144 98116 98105 98126]\n"
     ]
    }
   ],
   "source": [
    "zipcode_lst = (central_houses_df.zipcode.unique()) #check for individual zipcodes \n",
    "print(zipcode_lst)"
   ]
  },
  {
   "cell_type": "code",
   "execution_count": null,
   "metadata": {},
   "outputs": [
    {
     "data": {
      "text/html": [
       "<div style=\"width:100%;\"><div style=\"position:relative;width:100%;height:0;padding-bottom:60%;\"><span style=\"color:#565656\">Make this Notebook Trusted to load map: File -> Trust Notebook</span><iframe srcdoc=\"&lt;!DOCTYPE html&gt;\n",
       "&lt;html&gt;\n",
       "&lt;head&gt;\n",
       "    \n",
       "    &lt;meta http-equiv=&quot;content-type&quot; content=&quot;text/html; charset=UTF-8&quot; /&gt;\n",
       "    \n",
       "        &lt;script&gt;\n",
       "            L_NO_TOUCH = false;\n",
       "            L_DISABLE_3D = false;\n",
       "        &lt;/script&gt;\n",
       "    \n",
       "    &lt;style&gt;html, body {width: 100%;height: 100%;margin: 0;padding: 0;}&lt;/style&gt;\n",
       "    &lt;style&gt;#map {position:absolute;top:0;bottom:0;right:0;left:0;}&lt;/style&gt;\n",
       "    &lt;script src=&quot;https://cdn.jsdelivr.net/npm/leaflet@1.9.3/dist/leaflet.js&quot;&gt;&lt;/script&gt;\n",
       "    &lt;script src=&quot;https://code.jquery.com/jquery-3.7.1.min.js&quot;&gt;&lt;/script&gt;\n",
       "    &lt;script src=&quot;https://cdn.jsdelivr.net/npm/bootstrap@5.2.2/dist/js/bootstrap.bundle.min.js&quot;&gt;&lt;/script&gt;\n",
       "    &lt;script src=&quot;https://cdnjs.cloudflare.com/ajax/libs/Leaflet.awesome-markers/2.0.2/leaflet.awesome-markers.js&quot;&gt;&lt;/script&gt;\n",
       "    &lt;link rel=&quot;stylesheet&quot; href=&quot;https://cdn.jsdelivr.net/npm/leaflet@1.9.3/dist/leaflet.css&quot;/&gt;\n",
       "    &lt;link rel=&quot;stylesheet&quot; href=&quot;https://cdn.jsdelivr.net/npm/bootstrap@5.2.2/dist/css/bootstrap.min.css&quot;/&gt;\n",
       "    &lt;link rel=&quot;stylesheet&quot; href=&quot;https://netdna.bootstrapcdn.com/bootstrap/3.0.0/css/bootstrap.min.css&quot;/&gt;\n",
       "    &lt;link rel=&quot;stylesheet&quot; href=&quot;https://cdn.jsdelivr.net/npm/@fortawesome/fontawesome-free@6.2.0/css/all.min.css&quot;/&gt;\n",
       "    &lt;link rel=&quot;stylesheet&quot; href=&quot;https://cdnjs.cloudflare.com/ajax/libs/Leaflet.awesome-markers/2.0.2/leaflet.awesome-markers.css&quot;/&gt;\n",
       "    &lt;link rel=&quot;stylesheet&quot; href=&quot;https://cdn.jsdelivr.net/gh/python-visualization/folium/folium/templates/leaflet.awesome.rotate.min.css&quot;/&gt;\n",
       "    \n",
       "            &lt;meta name=&quot;viewport&quot; content=&quot;width=device-width,\n",
       "                initial-scale=1.0, maximum-scale=1.0, user-scalable=no&quot; /&gt;\n",
       "            &lt;style&gt;\n",
       "                #map_a0fe27bd6588e2adad56ee6301fb06b1 {\n",
       "                    position: relative;\n",
       "                    width: 100.0%;\n",
       "                    height: 100.0%;\n",
       "                    left: 0.0%;\n",
       "                    top: 0.0%;\n",
       "                }\n",
       "                .leaflet-container { font-size: 1rem; }\n",
       "            &lt;/style&gt;\n",
       "        \n",
       "    &lt;script src=&quot;https://cdn.jsdelivr.net/gh/python-visualization/folium@main/folium/templates/leaflet_heat.min.js&quot;&gt;&lt;/script&gt;\n",
       "&lt;/head&gt;\n",
       "&lt;body&gt;\n",
       "    \n",
       "    \n",
       "            &lt;div class=&quot;folium-map&quot; id=&quot;map_a0fe27bd6588e2adad56ee6301fb06b1&quot; &gt;&lt;/div&gt;\n",
       "        \n",
       "&lt;/body&gt;\n",
       "&lt;script&gt;\n",
       "    \n",
       "    \n",
       "            var map_a0fe27bd6588e2adad56ee6301fb06b1 = L.map(\n",
       "                &quot;map_a0fe27bd6588e2adad56ee6301fb06b1&quot;,\n",
       "                {\n",
       "                    center: [47.6306598367347, -122.33674367346939],\n",
       "                    crs: L.CRS.EPSG3857,\n",
       "                    zoom: 11,\n",
       "                    zoomControl: true,\n",
       "                    preferCanvas: false,\n",
       "                }\n",
       "            );\n",
       "\n",
       "            \n",
       "\n",
       "        \n",
       "    \n",
       "            var tile_layer_4559e041b00a3d72b9a4c8db96350b28 = L.tileLayer(\n",
       "                &quot;https://tile.openstreetmap.org/{z}/{x}/{y}.png&quot;,\n",
       "                {&quot;attribution&quot;: &quot;\\u0026copy; \\u003ca href=\\&quot;https://www.openstreetmap.org/copyright\\&quot;\\u003eOpenStreetMap\\u003c/a\\u003e contributors&quot;, &quot;detectRetina&quot;: false, &quot;maxNativeZoom&quot;: 19, &quot;maxZoom&quot;: 19, &quot;minZoom&quot;: 0, &quot;noWrap&quot;: false, &quot;opacity&quot;: 1, &quot;subdomains&quot;: &quot;abc&quot;, &quot;tms&quot;: false}\n",
       "            );\n",
       "        \n",
       "    \n",
       "            tile_layer_4559e041b00a3d72b9a4c8db96350b28.addTo(map_a0fe27bd6588e2adad56ee6301fb06b1);\n",
       "        \n",
       "    \n",
       "            var heat_map_663a1ea3c85ae81128afd9484cdbb51b = L.heatLayer(\n",
       "                [[47.5826, -122.378, 1.0], [47.5828, -122.382, 1.0], [47.5829, -122.382, 1.0], [47.583, -122.379, 1.0], [47.5837, -122.382, 1.0], [47.5838, -122.382, 1.0], [47.5839, -122.383, 1.0], [47.584, -122.375, 1.0], [47.5841, -122.383, 1.0], [47.5843, -122.385, 1.0], [47.5844, -122.316, 1.0], [47.5846, -122.383, 1.0], [47.5848, -122.384, 1.0], [47.5849, -122.384, 1.0], [47.5854, -122.313, 1.0], [47.5855, -122.383, 1.0], [47.5857, -122.314, 1.0], [47.5858, -122.379, 1.0], [47.5859, -122.385, 1.0], [47.586, -122.383, 1.0], [47.586, -122.313, 1.0], [47.5862, -122.387, 1.0], [47.5866, -122.389, 1.0], [47.5867, -122.311, 1.0], [47.5869, -122.311, 1.0], [47.587, -122.384, 1.0], [47.5871, -122.317, 1.0], [47.5872, -122.39, 1.0], [47.5872, -122.316, 1.0], [47.5874, -122.387, 1.0], [47.5874, -122.386, 1.0], [47.5874, -122.311, 1.0], [47.5875, -122.315, 1.0], [47.5876, -122.391, 1.0], [47.5876, -122.309, 1.0], [47.5877, -122.316, 1.0], [47.5878, -122.381, 1.0], [47.5878, -122.312, 1.0], [47.5883, -122.384, 1.0], [47.5883, -122.311, 1.0], [47.5889, -122.389, 1.0], [47.589, -122.387, 2.0], [47.589, -122.313, 1.0], [47.5891, -122.387, 3.0], [47.5892, -122.387, 1.0], [47.5892, -122.312, 1.0], [47.5892, -122.309, 1.0], [47.5893, -122.317, 2.0], [47.5893, -122.309, 1.0], [47.5894, -122.315, 1.0], [47.5895, -122.385, 1.0], [47.5895, -122.311, 1.0], [47.5896, -122.389, 1.0], [47.5897, -122.314, 1.0], [47.5901, -122.388, 1.0], [47.5902, -122.387, 1.0], [47.5902, -122.311, 1.0], [47.5903, -122.388, 1.0], [47.5903, -122.386, 1.0], [47.5904, -122.389, 1.0], [47.5904, -122.315, 1.0], [47.5906, -122.316, 1.0], [47.592, -122.307, 1.0], [47.5924, -122.302, 1.0], [47.5925, -122.391, 1.0], [47.5925, -122.302, 2.0], [47.5927, -122.306, 1.0], [47.5929, -122.308, 1.0], [47.5929, -122.306, 1.0], [47.5929, -122.303, 1.0], [47.5933, -122.308, 1.0], [47.5934, -122.39, 1.0], [47.5934, -122.308, 1.0], [47.5935, -122.39, 1.0], [47.5936, -122.301, 1.0], [47.5937, -122.301, 1.0], [47.5938, -122.315, 1.0], [47.5939, -122.302, 1.0], [47.5943, -122.302, 1.0], [47.5949, -122.308, 1.0], [47.5949, -122.307, 1.0], [47.595, -122.308, 1.0], [47.595, -122.306, 1.0], [47.5951, -122.307, 1.0], [47.5951, -122.301, 1.0], [47.5955, -122.306, 1.0], [47.5958, -122.306, 1.0], [47.5958, -122.299, 1.0], [47.5959, -122.3, 1.0], [47.5959, -122.298, 1.0], [47.596, -122.311, 1.0], [47.596, -122.298, 2.0], [47.5961, -122.305, 1.0], [47.5962, -122.301, 1.0], [47.5964, -122.299, 1.0], [47.5965, -122.311, 1.0], [47.5973, -122.298, 1.0], [47.5976, -122.298, 1.0], [47.5978, -122.299, 1.0], [47.5979, -122.297, 1.0], [47.5982, -122.299, 1.0], [47.5985, -122.298, 2.0], [47.5986, -122.298, 1.0], [47.5997, -122.312, 1.0], [47.5998, -122.312, 1.0], [47.5998, -122.311, 1.0], [47.5998, -122.306, 1.0], [47.5998, -122.3, 1.0], [47.5999, -122.3, 2.0], [47.6, -122.298, 1.0], [47.6001, -122.298, 1.0], [47.6003, -122.306, 1.0], [47.6004, -122.299, 1.0], [47.6005, -122.306, 1.0], [47.6005, -122.296, 1.0], [47.6006, -122.305, 1.0], [47.6007, -122.305, 1.0], [47.601, -122.294, 1.0], [47.6012, -122.296, 1.0], [47.6013, -122.299, 1.0], [47.6018, -122.299, 1.0], [47.6018, -122.297, 1.0], [47.602, -122.311, 1.0], [47.602, -122.308, 1.0], [47.602, -122.306, 1.0], [47.6021, -122.295, 1.0], [47.6021, -122.294, 1.0], [47.6022, -122.311, 1.0], [47.6023, -122.314, 1.0], [47.6024, -122.296, 1.0], [47.6024, -122.295, 1.0], [47.6025, -122.313, 1.0], [47.6025, -122.31, 1.0], [47.6025, -122.303, 1.0], [47.6025, -122.294, 1.0], [47.6027, -122.295, 1.0], [47.6028, -122.312, 1.0], [47.6028, -122.309, 1.0], [47.6028, -122.298, 1.0], [47.6029, -122.309, 1.0], [47.6029, -122.307, 1.0], [47.6029, -122.304, 1.0], [47.6029, -122.302, 1.0], [47.6031, -122.309, 1.0], [47.6031, -122.303, 1.0], [47.6031, -122.296, 1.0], [47.6032, -122.311, 1.0], [47.6032, -122.31, 1.0], [47.6032, -122.308, 1.0], [47.6033, -122.309, 1.0], [47.6033, -122.303, 1.0], [47.6033, -122.3, 1.0], [47.6033, -122.295, 1.0], [47.6034, -122.309, 1.0], [47.6036, -122.305, 1.0], [47.6037, -122.311, 1.0], [47.6037, -122.307, 1.0], [47.6038, -122.314, 1.0], [47.6038, -122.303, 1.0], [47.6038, -122.294, 1.0], [47.6039, -122.307, 1.0], [47.6039, -122.298, 1.0], [47.604, -122.311, 1.0], [47.604, -122.307, 1.0], [47.604, -122.306, 1.0], [47.6041, -122.31, 1.0], [47.6042, -122.303, 1.0], [47.6044, -122.299, 1.0], [47.6045, -122.307, 1.0], [47.6046, -122.3, 1.0], [47.6047, -122.305, 1.0], [47.6048, -122.312, 1.0], [47.6048, -122.298, 1.0], [47.605, -122.304, 2.0], [47.605, -122.3, 1.0], [47.6051, -122.319, 1.0], [47.6051, -122.311, 1.0], [47.6051, -122.304, 1.0], [47.6051, -122.298, 1.0], [47.6052, -122.3, 1.0], [47.6053, -122.306, 1.0], [47.6053, -122.291, 1.0], [47.6054, -122.314, 1.0], [47.6054, -122.295, 1.0], [47.6055, -122.305, 1.0], [47.6056, -122.311, 1.0], [47.6056, -122.305, 1.0], [47.6058, -122.319, 1.0], [47.6058, -122.313, 1.0], [47.6058, -122.3, 1.0], [47.6059, -122.313, 1.0], [47.6059, -122.31, 1.0], [47.6059, -122.307, 1.0], [47.6059, -122.303, 1.0], [47.6059, -122.3, 1.0], [47.6059, -122.295, 1.0], [47.606, -122.307, 1.0], [47.606, -122.299, 1.0], [47.6063, -122.305, 1.0], [47.6063, -122.292, 1.0], [47.6065, -122.291, 1.0], [47.6066, -122.304, 1.0], [47.6067, -122.298, 1.0], [47.607, -122.305, 1.0], [47.607, -122.297, 1.0], [47.6073, -122.308, 1.0], [47.6073, -122.304, 1.0], [47.6074, -122.305, 1.0], [47.6074, -122.299, 1.0], [47.6074, -122.294, 1.0], [47.6075, -122.295, 1.0], [47.6076, -122.304, 1.0], [47.6076, -122.298, 1.0], [47.6078, -122.307, 1.0], [47.6078, -122.292, 1.0], [47.6078, -122.291, 1.0], [47.6082, -122.299, 1.0], [47.6084, -122.304, 1.0], [47.6085, -122.311, 1.0], [47.6086, -122.303, 1.0], [47.6086, -122.294, 1.0], [47.6088, -122.311, 2.0], [47.6088, -122.307, 1.0], [47.6088, -122.294, 1.0], [47.6088, -122.293, 1.0], [47.6089, -122.303, 1.0], [47.609, -122.314, 1.0], [47.609, -122.307, 1.0], [47.6092, -122.294, 1.0], [47.6093, -122.31, 1.0], [47.6093, -122.297, 1.0], [47.6094, -122.31, 1.0], [47.6094, -122.291, 1.0], [47.6095, -122.296, 1.0], [47.6098, -122.292, 1.0], [47.6099, -122.297, 1.0], [47.6099, -122.293, 1.0], [47.61, -122.293, 1.0], [47.6101, -122.307, 1.0], [47.6101, -122.295, 1.0], [47.6102, -122.314, 2.0], [47.6102, -122.309, 1.0], [47.6102, -122.299, 1.0], [47.6102, -122.296, 1.0], [47.6103, -122.3, 1.0], [47.6103, -122.297, 1.0], [47.6103, -122.296, 1.0], [47.6104, -122.303, 1.0], [47.6105, -122.309, 2.0], [47.6106, -122.31, 3.0], [47.6108, -122.308, 1.0], [47.6108, -122.303, 1.0], [47.6109, -122.303, 1.0], [47.6109, -122.302, 1.0], [47.6111, -122.308, 1.0], [47.6112, -122.309, 1.0], [47.6112, -122.303, 1.0], [47.6112, -122.293, 1.0], [47.6113, -122.314, 1.0], [47.6113, -122.297, 1.0], [47.6113, -122.292, 1.0], [47.6114, -122.31, 1.0], [47.6115, -122.292, 1.0], [47.6117, -122.313, 1.0], [47.6117, -122.301, 1.0], [47.6117, -122.297, 1.0], [47.6118, -122.306, 1.0], [47.6118, -122.299, 1.0], [47.612, -122.295, 1.0], [47.612, -122.292, 1.0], [47.6121, -122.294, 1.0], [47.6122, -122.298, 1.0], [47.6122, -122.297, 1.0], [47.6122, -122.288, 1.0], [47.6123, -122.314, 1.0], [47.6124, -122.314, 1.0], [47.6124, -122.309, 1.0], [47.6124, -122.293, 1.0], [47.6126, -122.313, 1.0], [47.6127, -122.299, 1.0], [47.6131, -122.297, 1.0], [47.6132, -122.297, 2.0], [47.6132, -122.292, 1.0], [47.6133, -122.308, 1.0], [47.6133, -122.306, 1.0], [47.6134, -122.308, 1.0], [47.6135, -122.307, 1.0], [47.6135, -122.297, 1.0], [47.6136, -122.303, 1.0], [47.6136, -122.299, 1.0], [47.6136, -122.297, 1.0], [47.6138, -122.299, 1.0], [47.6138, -122.298, 1.0], [47.614, -122.294, 1.0], [47.6143, -122.305, 1.0], [47.6144, -122.295, 1.0], [47.6145, -122.295, 1.0], [47.6146, -122.306, 1.0], [47.6146, -122.299, 1.0], [47.6147, -122.302, 1.0], [47.6147, -122.3, 2.0], [47.6147, -122.298, 1.0], [47.6148, -122.309, 1.0], [47.6149, -122.293, 1.0], [47.615, -122.288, 1.0], [47.6154, -122.291, 1.0], [47.6155, -122.306, 1.0], [47.6155, -122.3, 1.0], [47.6155, -122.29, 1.0], [47.6156, -122.299, 1.0], [47.6156, -122.297, 1.0], [47.6156, -122.295, 1.0], [47.6157, -122.291, 1.0], [47.6157, -122.29, 1.0], [47.6158, -122.293, 1.0], [47.6158, -122.291, 1.0], [47.6159, -122.306, 1.0], [47.616, -122.314, 1.0], [47.6161, -122.302, 1.0], [47.6163, -122.294, 1.0], [47.6163, -122.293, 1.0], [47.6163, -122.292, 1.0], [47.6167, -122.29, 1.0], [47.6168, -122.314, 1.0], [47.6168, -122.303, 1.0], [47.6168, -122.301, 1.0], [47.6168, -122.298, 1.0], [47.6169, -122.309, 1.0], [47.6169, -122.294, 1.0], [47.617, -122.309, 1.0], [47.617, -122.291, 1.0], [47.6172, -122.31, 1.0], [47.6172, -122.298, 1.0], [47.6173, -122.31, 1.0], [47.6174, -122.308, 1.0], [47.6175, -122.301, 1.0], [47.6175, -122.298, 1.0], [47.6175, -122.297, 1.0], [47.6177, -122.308, 1.0], [47.6178, -122.299, 1.0], [47.6178, -122.292, 1.0], [47.6178, -122.29, 1.0], [47.6179, -122.318, 1.0], [47.6179, -122.312, 1.0], [47.6179, -122.301, 1.0], [47.618, -122.311, 1.0], [47.6181, -122.318, 1.0], [47.6181, -122.302, 1.0], [47.6181, -122.301, 1.0], [47.6182, -122.302, 1.0], [47.6183, -122.3, 1.0], [47.6183, -122.298, 1.0], [47.6184, -122.301, 2.0], [47.6185, -122.295, 1.0], [47.6186, -122.288, 2.0], [47.6187, -122.301, 1.0], [47.6187, -122.299, 1.0], [47.6187, -122.295, 1.0], [47.6188, -122.308, 1.0], [47.6188, -122.306, 1.0], [47.619, -122.311, 1.0], [47.6191, -122.301, 1.0], [47.6191, -122.296, 1.0], [47.6192, -122.319, 1.0], [47.6192, -122.316, 1.0], [47.6192, -122.307, 1.0], [47.6192, -122.301, 2.0], [47.6192, -122.299, 1.0], [47.6192, -122.297, 1.0], [47.6193, -122.304, 1.0], [47.6195, -122.313, 1.0], [47.6195, -122.299, 1.0], [47.6196, -122.298, 1.0], [47.6196, -122.297, 2.0], [47.6196, -122.292, 1.0], [47.6197, -122.3, 1.0], [47.6197, -122.287, 1.0], [47.6198, -122.299, 1.0], [47.6199, -122.304, 1.0], [47.6199, -122.3, 2.0], [47.62, -122.309, 1.0], [47.62, -122.3, 1.0], [47.6201, -122.309, 1.0], [47.6204, -122.296, 1.0], [47.6204, -122.292, 1.0], [47.6205, -122.3, 1.0], [47.6205, -122.299, 1.0], [47.6205, -122.294, 1.0], [47.6205, -122.291, 1.0], [47.6206, -122.3, 1.0], [47.6206, -122.299, 1.0], [47.6206, -122.297, 1.0], [47.6207, -122.301, 1.0], [47.6207, -122.297, 1.0], [47.6207, -122.295, 1.0], [47.6208, -122.319, 1.0], [47.6209, -122.317, 1.0], [47.6209, -122.302, 1.0], [47.621, -122.303, 1.0], [47.621, -122.302, 1.0], [47.621, -122.298, 2.0], [47.6212, -122.298, 2.0], [47.6212, -122.296, 1.0], [47.6215, -122.29, 1.0], [47.6217, -122.309, 1.0], [47.622, -122.3, 1.0], [47.6221, -122.325, 1.0], [47.6221, -122.314, 1.0], [47.6222, -122.287, 1.0], [47.6223, -122.294, 1.0], [47.6224, -122.326, 1.0], [47.6224, -122.304, 1.0], [47.6226, -122.319, 1.0], [47.6226, -122.313, 1.0], [47.6226, -122.292, 1.0], [47.6227, -122.323, 1.0], [47.6228, -122.319, 1.0], [47.6228, -122.307, 1.0], [47.6229, -122.298, 1.0], [47.623, -122.304, 1.0], [47.6231, -122.293, 1.0], [47.6231, -122.292, 1.0], [47.6232, -122.299, 1.0], [47.6233, -122.319, 3.0], [47.6233, -122.3, 1.0], [47.6235, -122.306, 1.0], [47.6235, -122.298, 1.0], [47.6236, -122.318, 1.0], [47.6236, -122.306, 2.0], [47.6236, -122.299, 1.0], [47.6238, -122.311, 1.0], [47.6239, -122.298, 1.0], [47.6239, -122.297, 1.0], [47.6241, -122.305, 1.0], [47.6242, -122.306, 1.0], [47.6244, -122.326, 1.0], [47.6245, -122.327, 1.0], [47.6245, -122.316, 1.0], [47.6246, -122.312, 1.0], [47.6248, -122.319, 1.0], [47.6248, -122.301, 1.0], [47.6249, -122.298, 1.0], [47.625, -122.3, 1.0], [47.6251, -122.3, 1.0], [47.6254, -122.292, 1.0], [47.6256, -122.362, 1.0], [47.6256, -122.299, 1.0], [47.6259, -122.321, 1.0], [47.6261, -122.355, 1.0], [47.6261, -122.324, 1.0], [47.6261, -122.296, 1.0], [47.6264, -122.323, 1.0], [47.6264, -122.302, 1.0], [47.6265, -122.364, 1.0], [47.6265, -122.323, 1.0], [47.6265, -122.312, 1.0], [47.6265, -122.3, 1.0], [47.6265, -122.296, 2.0], [47.6265, -122.295, 1.0], [47.6268, -122.353, 1.0], [47.6268, -122.297, 1.0], [47.627, -122.361, 2.0], [47.627, -122.353, 1.0], [47.627, -122.345, 1.0], [47.627, -122.303, 1.0], [47.6271, -122.324, 1.0], [47.6272, -122.297, 1.0], [47.6272, -122.29, 1.0], [47.6273, -122.359, 1.0], [47.6273, -122.345, 1.0], [47.6275, -122.321, 1.0], [47.6276, -122.359, 2.0], [47.6277, -122.345, 1.0], [47.6278, -122.292, 1.0], [47.628, -122.299, 1.0], [47.6282, -122.293, 1.0], [47.6283, -122.301, 1.0], [47.6284, -122.291, 1.0], [47.6285, -122.303, 1.0], [47.6285, -122.301, 1.0], [47.6287, -122.351, 1.0], [47.6287, -122.3, 1.0], [47.6288, -122.321, 1.0], [47.6288, -122.3, 1.0], [47.6289, -122.309, 1.0], [47.6291, -122.347, 1.0], [47.6294, -122.344, 1.0], [47.6295, -122.346, 1.0], [47.6295, -122.32, 1.0], [47.6296, -122.308, 1.0], [47.6296, -122.3, 1.0], [47.6298, -122.321, 1.0], [47.63, -122.349, 1.0], [47.6302, -122.344, 1.0], [47.6304, -122.309, 1.0], [47.6304, -122.301, 1.0], [47.6305, -122.347, 1.0], [47.6305, -122.3, 1.0], [47.6308, -122.312, 1.0], [47.6308, -122.302, 1.0], [47.6311, -122.312, 1.0], [47.6312, -122.353, 1.0], [47.6312, -122.307, 1.0], [47.6313, -122.37, 1.0], [47.6313, -122.368, 1.0], [47.6315, -122.362, 1.0], [47.6315, -122.311, 1.0], [47.6316, -122.303, 1.0], [47.6317, -122.301, 1.0], [47.6318, -122.369, 1.0], [47.6319, -122.362, 1.0], [47.632, -122.361, 1.0], [47.6321, -122.371, 1.0], [47.6321, -122.361, 1.0], [47.6321, -122.306, 1.0], [47.6325, -122.394, 1.0], [47.6325, -122.371, 1.0], [47.6325, -122.303, 1.0], [47.6327, -122.395, 1.0], [47.6327, -122.346, 1.0], [47.633, -122.37, 1.0], [47.6332, -122.362, 1.0], [47.6333, -122.362, 1.0], [47.6334, -122.371, 1.0], [47.6334, -122.356, 1.0], [47.6334, -122.35, 1.0], [47.6336, -122.397, 1.0], [47.6337, -122.371, 1.0], [47.6337, -122.365, 1.0], [47.6338, -122.358, 1.0], [47.6339, -122.396, 1.0], [47.6339, -122.392, 1.0], [47.6339, -122.354, 1.0], [47.6341, -122.361, 1.0], [47.6341, -122.342, 1.0], [47.6342, -122.353, 1.0], [47.6342, -122.342, 1.0], [47.6343, -122.352, 1.0], [47.6344, -122.305, 1.0], [47.6345, -122.366, 1.0], [47.6347, -122.396, 1.0], [47.6347, -122.355, 1.0], [47.6347, -122.352, 1.0], [47.6348, -122.301, 1.0], [47.635, -122.353, 1.0], [47.6351, -122.352, 1.0], [47.6352, -122.358, 1.0], [47.6352, -122.352, 1.0], [47.6353, -122.371, 1.0], [47.6354, -122.353, 1.0], [47.6354, -122.346, 1.0], [47.6355, -122.324, 1.0], [47.6356, -122.367, 1.0], [47.6356, -122.346, 1.0], [47.6357, -122.397, 1.0], [47.6357, -122.373, 1.0], [47.6357, -122.324, 2.0], [47.6357, -122.322, 1.0], [47.6358, -122.364, 1.0], [47.6358, -122.356, 1.0], [47.6358, -122.322, 1.0], [47.6359, -122.351, 1.0], [47.6359, -122.3, 1.0], [47.636, -122.391, 1.0], [47.636, -122.302, 1.0], [47.636, -122.301, 1.0], [47.6361, -122.399, 1.0], [47.6361, -122.371, 1.0], [47.6361, -122.368, 1.0], [47.6361, -122.343, 1.0], [47.6362, -122.369, 1.0], [47.6362, -122.363, 1.0], [47.6362, -122.324, 1.0], [47.6362, -122.302, 1.0], [47.6363, -122.371, 2.0], [47.6363, -122.368, 1.0], [47.6363, -122.32, 1.0], [47.6364, -122.371, 1.0], [47.6364, -122.351, 2.0], [47.6364, -122.3, 1.0], [47.6365, -122.391, 1.0], [47.6365, -122.361, 1.0], [47.6366, -122.401, 1.0], [47.6366, -122.369, 1.0], [47.6366, -122.365, 1.0], [47.6366, -122.363, 1.0], [47.6367, -122.37, 1.0], [47.6367, -122.364, 1.0], [47.6367, -122.318, 1.0], [47.6367, -122.301, 1.0], [47.6368, -122.388, 1.0], [47.6368, -122.371, 1.0], [47.6368, -122.37, 1.0], [47.6368, -122.355, 1.0], [47.6368, -122.354, 1.0], [47.6368, -122.351, 1.0], [47.6368, -122.306, 1.0], [47.6369, -122.365, 1.0], [47.6369, -122.327, 1.0], [47.637, -122.4, 1.0], [47.637, -122.371, 1.0], [47.637, -122.367, 1.0], [47.637, -122.363, 1.0], [47.637, -122.355, 1.0], [47.637, -122.341, 1.0], [47.637, -122.327, 1.0], [47.637, -122.324, 1.0], [47.6371, -122.393, 1.0], [47.6371, -122.327, 2.0], [47.6372, -122.395, 1.0], [47.6372, -122.392, 1.0], [47.6372, -122.352, 1.0], [47.6372, -122.324, 1.0], [47.6373, -122.369, 1.0], [47.6373, -122.358, 1.0], [47.6373, -122.35, 1.0], [47.6373, -122.3, 1.0], [47.6374, -122.388, 1.0], [47.6374, -122.375, 1.0], [47.6374, -122.369, 1.0], [47.6374, -122.324, 1.0], [47.6374, -122.307, 1.0], [47.6374, -122.304, 1.0], [47.6375, -122.391, 1.0], [47.6375, -122.389, 1.0], [47.6375, -122.388, 1.0], [47.6375, -122.387, 1.0], [47.6375, -122.354, 1.0], [47.6376, -122.394, 1.0], [47.6376, -122.353, 1.0], [47.6376, -122.326, 1.0], [47.6376, -122.307, 1.0], [47.6378, -122.372, 1.0], [47.6378, -122.301, 1.0], [47.6379, -122.4, 1.0], [47.6379, -122.387, 1.0], [47.638, -122.375, 2.0], [47.638, -122.317, 1.0], [47.638, -122.306, 1.0], [47.6381, -122.401, 1.0], [47.6381, -122.375, 2.0], [47.6382, -122.399, 1.0], [47.6382, -122.397, 1.0], [47.6382, -122.368, 1.0], [47.6382, -122.359, 1.0], [47.6382, -122.307, 1.0], [47.6384, -122.404, 1.0], [47.6384, -122.403, 1.0], [47.6384, -122.4, 1.0], [47.6384, -122.373, 1.0], [47.6384, -122.35, 1.0], [47.6384, -122.343, 1.0], [47.6384, -122.342, 1.0], [47.6385, -122.401, 1.0], [47.6385, -122.37, 1.0], [47.6385, -122.344, 2.0], [47.6386, -122.388, 1.0], [47.6386, -122.365, 1.0], [47.6386, -122.36, 1.0], [47.6387, -122.396, 1.0], [47.6387, -122.363, 1.0], [47.6388, -122.399, 1.0], [47.6388, -122.397, 1.0], [47.6388, -122.35, 1.0], [47.6388, -122.302, 1.0], [47.6388, -122.3, 1.0], [47.6389, -122.371, 1.0], [47.6389, -122.349, 2.0], [47.639, -122.347, 1.0], [47.639, -122.31, 1.0], [47.6391, -122.403, 1.0], [47.6391, -122.36, 1.0], [47.6392, -122.406, 1.0], [47.6392, -122.318, 1.0], [47.6393, -122.403, 1.0], [47.6393, -122.392, 1.0], [47.6393, -122.317, 1.0], [47.6393, -122.311, 1.0], [47.6393, -122.308, 1.0], [47.6393, -122.301, 1.0], [47.6394, -122.321, 1.0], [47.6394, -122.308, 1.0], [47.6395, -122.329, 1.0], [47.6396, -122.329, 1.0], [47.6397, -122.395, 1.0], [47.6397, -122.388, 1.0], [47.6397, -122.345, 2.0], [47.6398, -122.403, 1.0], [47.6398, -122.393, 1.0], [47.6398, -122.356, 1.0], [47.6398, -122.345, 1.0], [47.6398, -122.306, 1.0], [47.6399, -122.32, 2.0], [47.6399, -122.311, 1.0], [47.64, -122.394, 1.0], [47.6401, -122.32, 1.0], [47.6401, -122.303, 1.0], [47.6401, -122.299, 1.0], [47.6402, -122.405, 1.0], [47.6402, -122.395, 1.0], [47.6402, -122.371, 1.0], [47.6402, -122.37, 1.0], [47.6402, -122.357, 1.0], [47.6402, -122.314, 1.0], [47.6403, -122.372, 1.0], [47.6404, -122.361, 1.0], [47.6404, -122.325, 1.0], [47.6405, -122.367, 1.0], [47.6405, -122.324, 1.0], [47.6405, -122.301, 1.0], [47.6406, -122.344, 1.0], [47.6406, -122.317, 1.0], [47.6408, -122.403, 1.0], [47.6408, -122.327, 1.0], [47.6408, -122.307, 1.0], [47.6408, -122.3, 1.0], [47.6409, -122.401, 1.0], [47.6409, -122.353, 1.0], [47.641, -122.315, 1.0], [47.6412, -122.329, 1.0], [47.6412, -122.302, 1.0], [47.6413, -122.401, 1.0], [47.6413, -122.364, 1.0], [47.6413, -122.357, 1.0], [47.6413, -122.354, 1.0], [47.6413, -122.346, 1.0], [47.6413, -122.329, 2.0], [47.6414, -122.329, 1.0], [47.6414, -122.327, 1.0], [47.6415, -122.401, 1.0], [47.6415, -122.392, 1.0], [47.6415, -122.373, 1.0], [47.6415, -122.315, 1.0], [47.6415, -122.303, 1.0], [47.6416, -122.397, 1.0], [47.6416, -122.386, 1.0], [47.6416, -122.361, 1.0], [47.6417, -122.397, 1.0], [47.6417, -122.325, 1.0], [47.6418, -122.394, 1.0], [47.6418, -122.372, 1.0], [47.6418, -122.351, 1.0], [47.6419, -122.394, 1.0], [47.6419, -122.374, 1.0], [47.6419, -122.368, 1.0], [47.6419, -122.351, 1.0], [47.6419, -122.306, 1.0], [47.642, -122.405, 1.0], [47.642, -122.374, 1.0], [47.642, -122.36, 1.0], [47.642, -122.358, 1.0], [47.6421, -122.348, 1.0], [47.6422, -122.403, 1.0], [47.6422, -122.361, 1.0], [47.6422, -122.36, 1.0], [47.6423, -122.375, 1.0], [47.6423, -122.37, 1.0], [47.6423, -122.361, 1.0], [47.6423, -122.329, 1.0], [47.6424, -122.386, 1.0], [47.6424, -122.374, 1.0], [47.6425, -122.374, 2.0], [47.6425, -122.358, 1.0], [47.6426, -122.403, 1.0], [47.6426, -122.388, 1.0], [47.6426, -122.327, 1.0], [47.6427, -122.363, 1.0], [47.6427, -122.327, 1.0], [47.6428, -122.348, 1.0], [47.6428, -122.302, 1.0], [47.6429, -122.371, 1.0], [47.6429, -122.36, 1.0], [47.6429, -122.327, 1.0], [47.643, -122.397, 1.0], [47.643, -122.37, 1.0], [47.643, -122.361, 1.0], [47.643, -122.359, 1.0], [47.643, -122.355, 1.0], [47.6431, -122.359, 1.0], [47.6431, -122.356, 1.0], [47.6433, -122.404, 1.0], [47.6433, -122.3, 1.0], [47.6434, -122.324, 1.0], [47.6434, -122.3, 1.0], [47.6435, -122.399, 1.0], [47.6435, -122.373, 1.0], [47.6435, -122.354, 1.0], [47.6435, -122.353, 1.0], [47.6436, -122.405, 1.0], [47.6436, -122.352, 1.0], [47.6436, -122.303, 1.0], [47.6437, -122.396, 1.0], [47.6438, -122.403, 1.0], [47.6438, -122.373, 1.0], [47.6438, -122.357, 2.0], [47.6439, -122.319, 1.0], [47.644, -122.385, 1.0], [47.644, -122.369, 1.0], [47.644, -122.353, 1.0], [47.644, -122.327, 1.0], [47.644, -122.319, 1.0], [47.6441, -122.385, 1.0], [47.6442, -122.372, 1.0], [47.6442, -122.369, 1.0], [47.6443, -122.385, 1.0], [47.6444, -122.357, 1.0], [47.6445, -122.374, 1.0], [47.6446, -122.403, 1.0], [47.6447, -122.327, 1.0], [47.6448, -122.358, 1.0], [47.6448, -122.317, 1.0], [47.6449, -122.389, 1.0], [47.645, -122.386, 1.0], [47.6451, -122.387, 1.0], [47.6451, -122.375, 1.0], [47.6451, -122.35, 1.0], [47.6451, -122.319, 1.0], [47.6452, -122.373, 1.0], [47.6452, -122.371, 1.0], [47.6452, -122.369, 1.0], [47.6452, -122.352, 1.0], [47.6453, -122.403, 1.0], [47.6453, -122.371, 1.0], [47.6453, -122.358, 1.0], [47.6453, -122.327, 1.0], [47.6453, -122.302, 1.0], [47.6454, -122.373, 1.0], [47.6454, -122.354, 1.0], [47.6454, -122.316, 1.0], [47.6455, -122.352, 1.0], [47.6456, -122.389, 1.0], [47.6456, -122.387, 1.0], [47.6456, -122.383, 1.0], [47.6457, -122.374, 1.0], [47.6458, -122.306, 1.0], [47.646, -122.39, 1.0], [47.646, -122.384, 1.0], [47.646, -122.363, 1.0], [47.646, -122.362, 1.0], [47.6461, -122.397, 1.0], [47.6461, -122.392, 1.0], [47.6461, -122.362, 1.0], [47.6461, -122.357, 1.0], [47.6461, -122.356, 1.0], [47.6461, -122.317, 1.0], [47.6462, -122.384, 1.0], [47.6462, -122.351, 1.0], [47.6462, -122.318, 1.0], [47.6464, -122.401, 1.0], [47.6464, -122.391, 1.0], [47.6465, -122.395, 1.0], [47.6465, -122.358, 1.0], [47.6465, -122.357, 1.0], [47.6466, -122.389, 1.0], [47.6466, -122.321, 1.0], [47.6466, -122.304, 1.0], [47.6467, -122.394, 1.0], [47.6467, -122.304, 1.0], [47.6469, -122.389, 1.0], [47.647, -122.369, 1.0], [47.6471, -122.397, 1.0], [47.6472, -122.393, 1.0], [47.6472, -122.383, 1.0], [47.6472, -122.373, 1.0], [47.6472, -122.367, 1.0], [47.6472, -122.362, 1.0], [47.6472, -122.357, 1.0], [47.6473, -122.374, 1.0], [47.6474, -122.396, 1.0], [47.6474, -122.389, 1.0], [47.6474, -122.362, 1.0], [47.6475, -122.397, 2.0], [47.6475, -122.396, 1.0], [47.6475, -122.371, 1.0], [47.6475, -122.359, 1.0], [47.6476, -122.356, 1.0], [47.6476, -122.32, 1.0], [47.6476, -122.318, 1.0], [47.6478, -122.396, 1.0], [47.6478, -122.383, 1.0], [47.6479, -122.367, 2.0], [47.648, -122.396, 1.0], [47.648, -122.395, 1.0], [47.648, -122.386, 1.0], [47.648, -122.384, 1.0], [47.648, -122.358, 1.0], [47.6482, -122.393, 1.0], [47.6482, -122.358, 1.0], [47.6485, -122.397, 1.0], [47.6485, -122.334, 2.0], [47.6487, -122.388, 1.0], [47.6488, -122.385, 1.0], [47.6488, -122.334, 1.0], [47.6489, -122.372, 1.0], [47.6489, -122.337, 1.0], [47.6489, -122.335, 1.0], [47.649, -122.383, 1.0], [47.649, -122.336, 1.0], [47.649, -122.335, 1.0], [47.6491, -122.367, 1.0], [47.6491, -122.334, 1.0], [47.6492, -122.391, 1.0], [47.6493, -122.398, 1.0], [47.6493, -122.384, 1.0], [47.6494, -122.395, 1.0], [47.6496, -122.392, 1.0], [47.6496, -122.391, 1.0], [47.6497, -122.393, 1.0], [47.6497, -122.336, 1.0], [47.6498, -122.396, 1.0], [47.6498, -122.388, 1.0], [47.6498, -122.346, 1.0], [47.6498, -122.321, 2.0], [47.6498, -122.32, 1.0], [47.6499, -122.391, 1.0], [47.65, -122.34, 2.0], [47.6501, -122.395, 1.0], [47.6501, -122.384, 1.0], [47.6501, -122.37, 1.0], [47.6503, -122.393, 1.0], [47.6503, -122.368, 1.0], [47.6503, -122.366, 1.0], [47.6503, -122.338, 1.0], [47.6505, -122.39, 1.0], [47.6505, -122.384, 1.0], [47.6505, -122.375, 1.0], [47.6506, -122.391, 1.0], [47.6506, -122.384, 1.0], [47.6506, -122.383, 1.0], [47.6506, -122.346, 1.0], [47.6507, -122.32, 1.0], [47.6508, -122.383, 1.0], [47.6508, -122.373, 1.0], [47.6508, -122.368, 1.0], [47.6509, -122.37, 1.0], [47.651, -122.384, 1.0], [47.651, -122.369, 1.0], [47.651, -122.368, 1.0], [47.651, -122.341, 1.0], [47.6511, -122.368, 1.0], [47.6512, -122.345, 1.0], [47.6512, -122.338, 1.0], [47.6513, -122.386, 1.0], [47.6513, -122.385, 1.0], [47.6513, -122.384, 1.0], [47.6513, -122.368, 1.0], [47.6513, -122.346, 1.0], [47.6514, -122.386, 1.0], [47.6514, -122.385, 1.0], [47.6514, -122.369, 1.0], [47.6515, -122.384, 1.0], [47.6515, -122.375, 2.0], [47.6515, -122.346, 1.0], [47.6516, -122.375, 1.0], [47.6516, -122.337, 1.0], [47.6517, -122.374, 1.0], [47.6518, -122.384, 1.0], [47.6518, -122.335, 1.0], [47.6519, -122.384, 1.0], [47.652, -122.384, 1.0], [47.6522, -122.366, 1.0], [47.6522, -122.348, 1.0], [47.6522, -122.346, 1.0], [47.6523, -122.346, 2.0], [47.6524, -122.353, 1.0], [47.6525, -122.345, 1.0], [47.6525, -122.333, 1.0], [47.6526, -122.384, 2.0], [47.6526, -122.349, 1.0], [47.6526, -122.345, 1.0], [47.6526, -122.342, 1.0], [47.6527, -122.386, 1.0], [47.6528, -122.331, 1.0], [47.6529, -122.384, 1.0], [47.6529, -122.372, 1.0], [47.6529, -122.355, 1.0], [47.6529, -122.339, 1.0], [47.6529, -122.334, 1.0], [47.653, -122.352, 1.0], [47.653, -122.331, 1.0], [47.6531, -122.373, 1.0], [47.6531, -122.352, 1.0], [47.6532, -122.348, 1.0], [47.6532, -122.34, 1.0], [47.6533, -122.346, 3.0], [47.6533, -122.341, 1.0], [47.6534, -122.356, 1.0], [47.6534, -122.355, 2.0], [47.6534, -122.353, 1.0], [47.6534, -122.346, 2.0], [47.6535, -122.353, 1.0], [47.6536, -122.358, 1.0], [47.6536, -122.356, 1.0], [47.6536, -122.354, 4.0], [47.6536, -122.341, 1.0], [47.6536, -122.34, 1.0], [47.6537, -122.34, 1.0], [47.6537, -122.335, 1.0], [47.6538, -122.357, 1.0], [47.6538, -122.356, 1.0], [47.6538, -122.352, 1.0], [47.6539, -122.352, 1.0], [47.6539, -122.351, 1.0], [47.6539, -122.329, 1.0], [47.654, -122.35, 1.0], [47.654, -122.346, 1.0], [47.654, -122.342, 1.0], [47.654, -122.337, 1.0], [47.6541, -122.329, 1.0], [47.6542, -122.385, 1.0], [47.6542, -122.346, 1.0], [47.6543, -122.373, 1.0], [47.6543, -122.358, 1.0], [47.6543, -122.356, 1.0], [47.6543, -122.354, 1.0], [47.6543, -122.347, 1.0], [47.6543, -122.345, 1.0], [47.6544, -122.386, 1.0], [47.6544, -122.373, 1.0], [47.6545, -122.348, 1.0], [47.6545, -122.344, 1.0], [47.6545, -122.336, 1.0], [47.6545, -122.333, 1.0], [47.6546, -122.356, 1.0], [47.6546, -122.344, 1.0], [47.6546, -122.337, 1.0], [47.6547, -122.34, 1.0], [47.6549, -122.352, 1.0], [47.6549, -122.331, 1.0], [47.655, -122.359, 1.0], [47.655, -122.358, 1.0], [47.6551, -122.36, 1.0], [47.6551, -122.353, 1.0], [47.6551, -122.344, 1.0], [47.6554, -122.333, 1.0], [47.6556, -122.345, 1.0], [47.6557, -122.388, 1.0], [47.6557, -122.348, 1.0], [47.6557, -122.344, 1.0], [47.6557, -122.327, 1.0], [47.6558, -122.348, 1.0], [47.6558, -122.334, 1.0], [47.6558, -122.331, 1.0], [47.6559, -122.344, 1.0], [47.6559, -122.339, 1.0], [47.6559, -122.338, 1.0], [47.656, -122.359, 1.0], [47.6561, -122.341, 1.0], [47.6561, -122.332, 1.0], [47.6561, -122.325, 1.0], [47.6562, -122.354, 2.0], [47.6563, -122.353, 1.0], [47.6563, -122.351, 1.0], [47.6564, -122.325, 1.0], [47.6565, -122.355, 1.0], [47.6565, -122.348, 1.0], [47.6566, -122.36, 1.0], [47.6566, -122.358, 1.0], [47.6567, -122.358, 1.0], [47.6567, -122.327, 1.0], [47.6567, -122.325, 1.0], [47.6568, -122.321, 1.0], [47.6569, -122.348, 1.0], [47.6569, -122.346, 1.0], [47.657, -122.345, 1.0], [47.6571, -122.326, 1.0], [47.6572, -122.346, 2.0], [47.6572, -122.335, 1.0], [47.6572, -122.333, 1.0], [47.6574, -122.345, 1.0], [47.6575, -122.346, 1.0], [47.6576, -122.348, 1.0], [47.6578, -122.324, 1.0], [47.6581, -122.354, 1.0], [47.6582, -122.345, 1.0], [47.6582, -122.336, 1.0], [47.6583, -122.362, 1.0], [47.6583, -122.351, 1.0], [47.6583, -122.344, 1.0], [47.6584, -122.35, 1.0], [47.6584, -122.346, 1.0], [47.6585, -122.363, 1.0], [47.6585, -122.348, 1.0], [47.6587, -122.344, 1.0], [47.6588, -122.362, 1.0], [47.6588, -122.344, 1.0], [47.6589, -122.341, 1.0], [47.659, -122.346, 1.0], [47.659, -122.339, 1.0], [47.6592, -122.349, 1.0], [47.6593, -122.337, 1.0], [47.6593, -122.327, 1.0], [47.6594, -122.355, 1.0], [47.6594, -122.345, 1.0], [47.6595, -122.354, 1.0], [47.6595, -122.351, 1.0], [47.6595, -122.337, 1.0], [47.6596, -122.338, 1.0], [47.6597, -122.355, 1.0], [47.6597, -122.352, 1.0], [47.6597, -122.345, 1.0], [47.6597, -122.331, 1.0], [47.6598, -122.355, 2.0], [47.6598, -122.349, 1.0], [47.6598, -122.348, 2.0], [47.6599, -122.363, 1.0], [47.6601, -122.332, 1.0], [47.6601, -122.331, 1.0], [47.6604, -122.352, 2.0], [47.6605, -122.355, 1.0], [47.6605, -122.335, 1.0], [47.6605, -122.331, 1.0], [47.6605, -122.326, 1.0], [47.6606, -122.365, 1.0], [47.6606, -122.331, 1.0], [47.6607, -122.354, 1.0], [47.6607, -122.352, 1.0], [47.6607, -122.333, 1.0], [47.6608, -122.359, 1.0], [47.6608, -122.335, 1.0], [47.6608, -122.333, 1.0], [47.6609, -122.344, 1.0], [47.6609, -122.343, 1.0], [47.661, -122.344, 1.0], [47.661, -122.338, 1.0], [47.6611, -122.346, 1.0], [47.6612, -122.363, 1.0], [47.6616, -122.356, 1.0], [47.6617, -122.356, 1.0], [47.6617, -122.349, 3.0], [47.6618, -122.355, 1.0], [47.6619, -122.352, 2.0], [47.6619, -122.351, 2.0], [47.6619, -122.343, 1.0], [47.662, -122.363, 1.0], [47.662, -122.349, 1.0], [47.6623, -122.339, 1.0], [47.6624, -122.361, 1.0], [47.6624, -122.354, 1.0], [47.6624, -122.349, 1.0], [47.6624, -122.348, 2.0], [47.6624, -122.347, 1.0], [47.6624, -122.336, 1.0], [47.6625, -122.352, 1.0], [47.6626, -122.361, 1.0], [47.6626, -122.337, 1.0], [47.6627, -122.355, 1.0], [47.6631, -122.361, 1.0], [47.6631, -122.357, 1.0], [47.6631, -122.348, 1.0], [47.6631, -122.345, 1.0], [47.6633, -122.357, 1.0], [47.6634, -122.359, 1.0], [47.6634, -122.358, 1.0], [47.6634, -122.351, 1.0], [47.6637, -122.346, 1.0], [47.6638, -122.348, 1.0], [47.6638, -122.345, 1.0]],\n",
       "                {&quot;blur&quot;: 15, &quot;maxZoom&quot;: 13, &quot;minOpacity&quot;: 0.5, &quot;radius&quot;: 8}\n",
       "            );\n",
       "        \n",
       "    \n",
       "            heat_map_663a1ea3c85ae81128afd9484cdbb51b.addTo(map_a0fe27bd6588e2adad56ee6301fb06b1);\n",
       "        \n",
       "    \n",
       "            var layer_control_2183a124b82267989c7897d376289835_layers = {\n",
       "                base_layers : {\n",
       "                    &quot;openstreetmap&quot; : tile_layer_4559e041b00a3d72b9a4c8db96350b28,\n",
       "                },\n",
       "                overlays :  {\n",
       "                    &quot;Heat Map&quot; : heat_map_663a1ea3c85ae81128afd9484cdbb51b,\n",
       "                },\n",
       "            };\n",
       "            let layer_control_2183a124b82267989c7897d376289835 = L.control.layers(\n",
       "                layer_control_2183a124b82267989c7897d376289835_layers.base_layers,\n",
       "                layer_control_2183a124b82267989c7897d376289835_layers.overlays,\n",
       "                {&quot;autoZIndex&quot;: true, &quot;collapsed&quot;: false, &quot;position&quot;: &quot;topright&quot;}\n",
       "            ).addTo(map_a0fe27bd6588e2adad56ee6301fb06b1);\n",
       "\n",
       "        \n",
       "&lt;/script&gt;\n",
       "&lt;/html&gt;\" style=\"position:absolute;width:100%;height:100%;left:0;top:0;border:none !important;\" allowfullscreen webkitallowfullscreen mozallowfullscreen></iframe></div></div>"
      ],
      "text/plain": [
       "<folium.folium.Map at 0x2827f2910>"
      ]
     },
     "execution_count": 35,
     "metadata": {},
     "output_type": "execute_result"
    }
   ],
   "source": [
    "# create a base map of Central area of King County  \n",
    "basemap = folium.Map(location=[central_houses_df['lat'].mean(),central_houses_df['long'].mean()], zoom_start = 11)\n",
    "\n",
    "# add heatmap to show housing density\n",
    "coordinate_copy = central_houses_df[['lat','long']].copy()\n",
    "coordinate_copy['count'] = 1\n",
    "HeatMap(data = coordinate_copy.groupby(['lat','long']).sum().reset_index().values.tolist()\n",
    "                       , radius=8, max_zoom=13, name='Heat Map').add_to(basemap)\n",
    "folium.LayerControl(collapsed = False).add_to(basemap) # turn off the heatmap toggle\n",
    "basemap # render the map"
   ]
  },
  {
   "cell_type": "markdown",
   "metadata": {},
   "source": [
    "***Select houses that are in a lively area***  \n",
    "\n",
    "All the areas located around the city center seem to be densely populated.  \n",
    "\n",
    "Add-on could be to display restaurants/bars and define lively areas around that "
   ]
  },
  {
   "cell_type": "code",
   "execution_count": null,
   "metadata": {},
   "outputs": [
    {
     "data": {
      "application/vnd.plotly.v1+json": {
       "config": {
        "plotlyServerURL": "https://plot.ly"
       },
       "data": [
        {
         "customdata": [
          [
           98119,
           937000,
           -122.36,
           47.6386
          ],
          [
           98112,
           667000,
           -122.314,
           47.6221
          ],
          [
           98119,
           685000,
           -122.364,
           47.6413
          ],
          [
           98122,
           425000,
           -122.297,
           47.6113
          ],
          [
           98119,
           940000,
           -122.365,
           47.6337
          ],
          [
           98199,
           1100000,
           -122.391,
           47.6506
          ],
          [
           98102,
           850830,
           -122.315,
           47.6415
          ],
          [
           98119,
           665000,
           -122.358,
           47.6338
          ],
          [
           98109,
           890000,
           -122.353,
           47.6354
          ],
          [
           98107,
           560000,
           -122.359,
           47.655
          ],
          [
           98122,
           425000,
           -122.31,
           47.6106
          ],
          [
           98122,
           385000,
           -122.307,
           47.6101
          ],
          [
           98103,
           615000,
           -122.34,
           47.65
          ],
          [
           98122,
           410000,
           -122.303,
           47.6136
          ],
          [
           98112,
           780000,
           -122.302,
           47.6362
          ],
          [
           98144,
           425000,
           -122.299,
           47.5964
          ],
          [
           98112,
           725000,
           -122.298,
           47.6239
          ],
          [
           98144,
           834000,
           -122.294,
           47.601
          ],
          [
           98103,
           548000,
           -122.345,
           47.6638
          ],
          [
           98102,
           740000,
           -122.319,
           47.644
          ],
          [
           98144,
           435000,
           -122.307,
           47.592
          ],
          [
           98122,
           557000,
           -122.305,
           47.6055
          ],
          [
           98103,
           450000,
           -122.344,
           47.6609
          ],
          [
           98122,
           375000,
           -122.308,
           47.6073
          ],
          [
           98112,
           490000,
           -122.301,
           47.6192
          ],
          [
           98116,
           625000,
           -122.39,
           47.5872
          ],
          [
           98119,
           615000,
           -122.373,
           47.6454
          ],
          [
           98103,
           595000,
           -122.345,
           47.6582
          ],
          [
           98109,
           610000,
           -122.353,
           47.6376
          ],
          [
           98122,
           650000,
           -122.299,
           47.6136
          ],
          [
           98122,
           640000,
           -122.307,
           47.6045
          ],
          [
           98199,
           650000,
           -122.395,
           47.6372
          ],
          [
           98144,
           559950,
           -122.309,
           47.5876
          ],
          [
           98102,
           865000,
           -122.318,
           47.6462
          ],
          [
           98119,
           485000,
           -122.37,
           47.6385
          ],
          [
           98122,
           493000,
           -122.295,
           47.6101
          ],
          [
           98103,
           715000,
           -122.351,
           47.6583
          ],
          [
           98103,
           650000,
           -122.335,
           47.6518
          ],
          [
           98122,
           419000,
           -122.309,
           47.6124
          ],
          [
           98199,
           1100000,
           -122.396,
           47.6347
          ],
          [
           98144,
           910000,
           -122.307,
           47.5951
          ],
          [
           98119,
           930000,
           -122.37,
           47.6402
          ],
          [
           98122,
           700000,
           -122.291,
           47.6094
          ],
          [
           98103,
           466000,
           -122.333,
           47.6608
          ],
          [
           98102,
           1010000,
           -122.318,
           47.6476
          ],
          [
           98112,
           915000,
           -122.3,
           47.6364
          ],
          [
           98103,
           720000,
           -122.356,
           47.6617
          ],
          [
           98103,
           700000,
           -122.331,
           47.6606
          ],
          [
           98102,
           425000,
           -122.319,
           47.6233
          ],
          [
           98105,
           700000,
           -122.327,
           47.6593
          ],
          [
           98122,
           429000,
           -122.291,
           47.6078
          ],
          [
           98199,
           543115,
           -122.399,
           47.6382
          ],
          [
           98199,
           980000,
           -122.395,
           47.6327
          ],
          [
           98199,
           410000,
           -122.385,
           47.6542
          ],
          [
           98199,
           699000,
           -122.397,
           47.6416
          ],
          [
           98109,
           550000,
           -122.352,
           47.6347
          ],
          [
           98112,
           515000,
           -122.293,
           47.6231
          ],
          [
           98199,
           775000,
           -122.388,
           47.6397
          ],
          [
           98122,
           490000,
           -122.292,
           47.6163
          ],
          [
           98109,
           453500,
           -122.355,
           47.6261
          ],
          [
           98122,
           631000,
           -122.319,
           47.6051
          ],
          [
           98119,
           609850,
           -122.373,
           47.6544
          ],
          [
           98103,
           690000,
           -122.332,
           47.6561
          ],
          [
           98112,
           505000,
           -122.296,
           47.6261
          ],
          [
           98144,
           380000,
           -122.311,
           47.5965
          ],
          [
           98109,
           725000,
           -122.352,
           47.6372
          ],
          [
           98119,
           655000,
           -122.37,
           47.6368
          ],
          [
           98109,
           479000,
           -122.345,
           47.6277
          ],
          [
           98109,
           682000,
           -122.353,
           47.644
          ],
          [
           98112,
           831000,
           -122.292,
           47.6196
          ],
          [
           98102,
           600000,
           -122.321,
           47.6498
          ],
          [
           98122,
           625000,
           -122.305,
           47.607
          ],
          [
           98122,
           495000,
           -122.31,
           47.6106
          ],
          [
           98109,
           464950,
           -122.342,
           47.6384
          ],
          [
           98122,
           842500,
           -122.31,
           47.6106
          ],
          [
           98199,
           815000,
           -122.395,
           47.648
          ],
          [
           98119,
           749950,
           -122.367,
           47.6491
          ],
          [
           98103,
           830000,
           -122.342,
           47.654
          ],
          [
           98103,
           715000,
           -122.331,
           47.6558
          ],
          [
           98103,
           352950,
           -122.348,
           47.6598
          ],
          [
           98109,
           707500,
           -122.353,
           47.627
          ],
          [
           98144,
           499950,
           -122.298,
           47.596
          ],
          [
           98119,
           850000,
           -122.372,
           47.6378
          ],
          [
           98102,
           550000,
           -122.317,
           47.6209
          ],
          [
           98103,
           610000,
           -122.346,
           47.6515
          ],
          [
           98112,
           895000,
           -122.311,
           47.6393
          ],
          [
           98122,
           349500,
           -122.297,
           47.6099
          ],
          [
           98112,
           169317,
           -122.301,
           47.6248
          ],
          [
           98112,
           880000,
           -122.303,
           47.6325
          ],
          [
           98199,
           570000,
           -122.403,
           47.6446
          ],
          [
           98122,
           490000,
           -122.303,
           47.6086
          ],
          [
           98109,
           550000,
           -122.345,
           47.6273
          ],
          [
           98103,
           635000,
           -122.348,
           47.6638
          ],
          [
           98112,
           600000,
           -122.311,
           47.619
          ],
          [
           98122,
           800000,
           -122.292,
           47.612
          ],
          [
           98122,
           469000,
           -122.307,
           47.609
          ],
          [
           98103,
           487250,
           -122.346,
           47.6637
          ],
          [
           98103,
           712000,
           -122.341,
           47.651
          ],
          [
           98119,
           950000,
           -122.358,
           47.6453
          ],
          [
           98116,
           580000,
           -122.387,
           47.589
          ],
          [
           98103,
           805000,
           -122.338,
           47.6503
          ],
          [
           98116,
           625000,
           -122.383,
           47.5846
          ],
          [
           98122,
           618000,
           -122.307,
           47.6059
          ],
          [
           98144,
           345000,
           -122.306,
           47.5998
          ],
          [
           98122,
           599000,
           -122.291,
           47.6053
          ],
          [
           98119,
           1050000,
           -122.363,
           47.6362
          ],
          [
           98199,
           605000,
           -122.403,
           47.6391
          ],
          [
           98103,
           725000,
           -122.346,
           47.6513
          ],
          [
           98112,
           625000,
           -122.308,
           47.6296
          ],
          [
           98102,
           1020000,
           -122.318,
           47.6367
          ],
          [
           98102,
           580000,
           -122.324,
           47.6357
          ],
          [
           98112,
           875000,
           -122.312,
           47.6265
          ],
          [
           98103,
           800000,
           -122.333,
           47.6545
          ],
          [
           98122,
           491000,
           -122.298,
           47.6039
          ],
          [
           98102,
           852000,
           -122.321,
           47.6288
          ],
          [
           98103,
           440000,
           -122.354,
           47.6624
          ],
          [
           98122,
           570000,
           -122.309,
           47.6169
          ],
          [
           98122,
           638000,
           -122.3,
           47.6052
          ],
          [
           98119,
           460000,
           -122.368,
           47.6508
          ],
          [
           98199,
           783000,
           -122.403,
           47.6422
          ],
          [
           98199,
           1050000,
           -122.389,
           47.6456
          ],
          [
           98199,
           608000,
           -122.389,
           47.6466
          ],
          [
           98119,
           1000000,
           -122.37,
           47.6501
          ],
          [
           98103,
           500000,
           -122.354,
           47.6562
          ],
          [
           98122,
           660000,
           -122.308,
           47.6108
          ],
          [
           98112,
           569000,
           -122.29,
           47.6272
          ],
          [
           98112,
           585000,
           -122.3,
           47.6388
          ],
          [
           98199,
           545000,
           -122.387,
           47.6379
          ],
          [
           98144,
           290000,
           -122.312,
           47.5878
          ],
          [
           98109,
           700000,
           -122.353,
           47.6268
          ],
          [
           98122,
           415000,
           -122.306,
           47.6118
          ],
          [
           98116,
           595000,
           -122.384,
           47.5848
          ],
          [
           98199,
           785000,
           -122.397,
           47.6357
          ],
          [
           98122,
           890000,
           -122.293,
           47.6158
          ],
          [
           98122,
           499000,
           -122.311,
           47.6037
          ],
          [
           98103,
           695000,
           -122.333,
           47.6554
          ],
          [
           98144,
           450000,
           -122.308,
           47.5934
          ],
          [
           98116,
           558000,
           -122.387,
           47.5891
          ],
          [
           98112,
           820000,
           -122.3,
           47.6305
          ],
          [
           98122,
           412000,
           -122.312,
           47.6048
          ],
          [
           98107,
           373500,
           -122.358,
           47.6566
          ],
          [
           98112,
           780000,
           -122.3,
           47.6233
          ],
          [
           98199,
           390000,
           -122.384,
           47.6506
          ],
          [
           98122,
           425000,
           -122.301,
           47.6168
          ],
          [
           98122,
           534000,
           -122.305,
           47.6056
          ],
          [
           98112,
           856000,
           -122.304,
           47.623
          ],
          [
           98122,
           582000,
           -122.302,
           47.6182
          ],
          [
           98103,
           479000,
           -122.351,
           47.6619
          ],
          [
           98144,
           700000,
           -122.302,
           47.5924
          ],
          [
           98144,
           313000,
           -122.305,
           47.5961
          ],
          [
           98199,
           415000,
           -122.386,
           47.6527
          ],
          [
           98199,
           510000,
           -122.398,
           47.6493
          ],
          [
           98199,
           495000,
           -122.393,
           47.6497
          ],
          [
           98199,
           604000,
           -122.399,
           47.6388
          ],
          [
           98112,
           570000,
           -122.298,
           47.6196
          ],
          [
           98122,
           441000,
           -122.295,
           47.6033
          ],
          [
           98119,
           800000,
           -122.361,
           47.643
          ],
          [
           98112,
           728000,
           -122.291,
           47.6205
          ],
          [
           98199,
           708000,
           -122.392,
           47.6496
          ],
          [
           98119,
           691000,
           -122.362,
           47.6474
          ],
          [
           98112,
           975000,
           -122.304,
           47.6467
          ],
          [
           98112,
           350000,
           -122.292,
           47.6231
          ],
          [
           98199,
           640000,
           -122.393,
           47.6398
          ],
          [
           98107,
           752500,
           -122.363,
           47.6612
          ],
          [
           98116,
           580000,
           -122.388,
           47.5903
          ],
          [
           98199,
           345000,
           -122.384,
           47.6462
          ],
          [
           98122,
           402500,
           -122.307,
           47.6135
          ],
          [
           98119,
           450000,
           -122.373,
           47.6531
          ],
          [
           98103,
           440000,
           -122.348,
           47.6545
          ],
          [
           98112,
           710000,
           -122.301,
           47.6405
          ],
          [
           98116,
           680000,
           -122.385,
           47.5843
          ],
          [
           98144,
           374950,
           -122.316,
           47.5877
          ],
          [
           98122,
           464000,
           -122.298,
           47.6028
          ],
          [
           98122,
           439000,
           -122.299,
           47.6178
          ],
          [
           98119,
           1100000,
           -122.359,
           47.643
          ],
          [
           98112,
           885000,
           -122.312,
           47.6308
          ],
          [
           98119,
           820000,
           -122.368,
           47.6503
          ],
          [
           98112,
           487028,
           -122.299,
           47.6192
          ],
          [
           98144,
           247300,
           -122.311,
           47.596
          ],
          [
           98109,
           430000,
           -122.342,
           47.6342
          ],
          [
           98112,
           553650,
           -122.292,
           47.6254
          ],
          [
           98102,
           390000,
           -122.322,
           47.6357
          ],
          [
           98119,
           955500,
           -122.363,
           47.6427
          ],
          [
           98112,
           640000,
           -122.301,
           47.6317
          ],
          [
           98199,
           629000,
           -122.403,
           47.6408
          ],
          [
           98103,
           525000,
           -122.335,
           47.6572
          ],
          [
           98119,
           700000,
           -122.361,
           47.627
          ],
          [
           98122,
           548500,
           -122.3,
           47.6059
          ],
          [
           98109,
           494400,
           -122.355,
           47.6347
          ],
          [
           98199,
           862000,
           -122.394,
           47.6418
          ],
          [
           98102,
           933000,
           -122.325,
           47.6221
          ],
          [
           98109,
           563000,
           -122.353,
           47.6342
          ],
          [
           98199,
           777000,
           -122.388,
           47.6557
          ],
          [
           98103,
           695000,
           -122.337,
           47.654
          ],
          [
           98144,
           397000,
           -122.315,
           47.5904
          ],
          [
           98122,
           430000,
           -122.303,
           47.6112
          ],
          [
           98112,
           579000,
           -122.3,
           47.6197
          ],
          [
           98102,
           500000,
           -122.324,
           47.6357
          ],
          [
           98112,
           549000,
           -122.294,
           47.6205
          ],
          [
           98119,
           750000,
           -122.373,
           47.6452
          ],
          [
           98103,
           440000,
           -122.349,
           47.6617
          ],
          [
           98119,
           795000,
           -122.361,
           47.6422
          ],
          [
           98109,
           736000,
           -122.344,
           47.6294
          ],
          [
           98126,
           790000,
           -122.378,
           47.5826
          ],
          [
           98199,
           330000,
           -122.397,
           47.6475
          ],
          [
           98109,
           716000,
           -122.354,
           47.6368
          ],
          [
           98112,
           965000,
           -122.293,
           47.6282
          ],
          [
           98116,
           825000,
           -122.389,
           47.5896
          ],
          [
           98112,
           880000,
           -122.305,
           47.6344
          ],
          [
           98122,
           665000,
           -122.293,
           47.6163
          ],
          [
           98116,
           210000,
           -122.382,
           47.5828
          ],
          [
           98122,
           202000,
           -122.299,
           47.6082
          ],
          [
           98103,
           720000,
           -122.348,
           47.6624
          ],
          [
           98109,
           762000,
           -122.35,
           47.6373
          ],
          [
           98119,
           550000,
           -122.359,
           47.6475
          ],
          [
           98112,
           761000,
           -122.306,
           47.6235
          ],
          [
           98102,
           625000,
           -122.319,
           47.6248
          ],
          [
           98144,
           399950,
           -122.298,
           47.6
          ],
          [
           98122,
           545000,
           -122.306,
           47.6053
          ],
          [
           98199,
           585000,
           -122.405,
           47.6436
          ],
          [
           98103,
           1050000,
           -122.333,
           47.6525
          ],
          [
           98102,
           755000,
           -122.329,
           47.6423
          ],
          [
           98199,
           509500,
           -122.387,
           47.6375
          ],
          [
           98119,
           475000,
           -122.366,
           47.6522
          ],
          [
           98102,
           700000,
           -122.324,
           47.6374
          ],
          [
           98109,
           710000,
           -122.351,
           47.6418
          ],
          [
           98119,
           1010000,
           -122.373,
           47.6472
          ],
          [
           98199,
           585000,
           -122.385,
           47.6441
          ],
          [
           98119,
           649950,
           -122.375,
           47.6451
          ],
          [
           98199,
           395000,
           -122.383,
           47.6508
          ],
          [
           98119,
           659950,
           -122.375,
           47.6423
          ],
          [
           98119,
           926300,
           -122.358,
           47.6352
          ],
          [
           98102,
           796000,
           -122.327,
           47.6429
          ],
          [
           98103,
           680000,
           -122.339,
           47.6529
          ],
          [
           98199,
           425000,
           -122.393,
           47.6482
          ],
          [
           98119,
           819000,
           -122.366,
           47.6345
          ],
          [
           98112,
           500000,
           -122.299,
           47.6198
          ],
          [
           98102,
           840000,
           -122.327,
           47.6245
          ],
          [
           98122,
           520000,
           -122.302,
           47.6029
          ],
          [
           98119,
           716000,
           -122.364,
           47.6367
          ],
          [
           98122,
           785200,
           -122.292,
           47.6063
          ],
          [
           98199,
           875000,
           -122.404,
           47.6384
          ],
          [
           98119,
           530000,
           -122.372,
           47.6403
          ],
          [
           98199,
           1020000,
           -122.403,
           47.6393
          ],
          [
           98103,
           725000,
           -122.348,
           47.6631
          ],
          [
           98122,
           302000,
           -122.312,
           47.6028
          ],
          [
           98199,
           886000,
           -122.393,
           47.6472
          ],
          [
           98122,
           670000,
           -122.292,
           47.6113
          ],
          [
           98122,
           650000,
           -122.297,
           47.6117
          ],
          [
           98112,
           690000,
           -122.3,
           47.6408
          ],
          [
           98122,
           558000,
           -122.303,
           47.6089
          ],
          [
           98122,
           670000,
           -122.297,
           47.6136
          ],
          [
           98103,
           775000,
           -122.339,
           47.6559
          ],
          [
           98199,
           323000,
           -122.397,
           47.6475
          ],
          [
           98102,
           750000,
           -122.316,
           47.6454
          ],
          [
           98122,
           800000,
           -122.291,
           47.617
          ],
          [
           98119,
           497000,
           -122.373,
           47.6543
          ],
          [
           98103,
           716100,
           -122.351,
           47.6563
          ],
          [
           98109,
           895000,
           -122.347,
           47.639
          ],
          [
           98122,
           650500,
           -122.292,
           47.6115
          ],
          [
           98107,
           550000,
           -122.358,
           47.655
          ],
          [
           98112,
           950000,
           -122.3,
           47.6434
          ],
          [
           98112,
           840000,
           -122.3,
           47.6359
          ],
          [
           98103,
           465000,
           -122.353,
           47.6524
          ],
          [
           98122,
           278000,
           -122.302,
           47.6147
          ],
          [
           98116,
           568000,
           -122.387,
           47.5891
          ],
          [
           98199,
           860000,
           -122.4,
           47.637
          ],
          [
           98103,
           798750,
           -122.354,
           47.6607
          ],
          [
           98103,
           515000,
           -122.343,
           47.6609
          ],
          [
           98102,
           600000,
           -122.327,
           47.6453
          ],
          [
           98122,
           430000,
           -122.307,
           47.6037
          ],
          [
           98103,
           475000,
           -122.345,
           47.6526
          ],
          [
           98122,
           420000,
           -122.297,
           47.6132
          ],
          [
           98119,
           800000,
           -122.371,
           47.6452
          ],
          [
           98103,
           832600,
           -122.332,
           47.6601
          ],
          [
           98119,
           755000,
           -122.369,
           47.6514
          ],
          [
           98199,
           700000,
           -122.391,
           47.6365
          ],
          [
           98102,
           525000,
           -122.321,
           47.6275
          ],
          [
           98119,
           792500,
           -122.37,
           47.6423
          ],
          [
           98109,
           648475,
           -122.344,
           47.6406
          ],
          [
           98112,
           760000,
           -122.302,
           47.621
          ],
          [
           98107,
           485000,
           -122.36,
           47.6551
          ],
          [
           98119,
           625000,
           -122.371,
           47.6364
          ],
          [
           98199,
           779000,
           -122.389,
           47.6449
          ],
          [
           98102,
           935000,
           -122.316,
           47.6245
          ],
          [
           98122,
           823000,
           -122.295,
           47.6024
          ],
          [
           98144,
           525000,
           -122.3,
           47.5959
          ],
          [
           98122,
           540000,
           -122.3,
           47.6046
          ],
          [
           98116,
           719000,
           -122.383,
           47.5841
          ],
          [
           98103,
           640000,
           -122.34,
           47.65
          ],
          [
           98122,
           682000,
           -122.311,
           47.6051
          ],
          [
           98103,
           578888,
           -122.337,
           47.6626
          ],
          [
           98122,
           302282,
           -122.313,
           47.6058
          ],
          [
           98119,
           710000,
           -122.369,
           47.6442
          ],
          [
           98103,
           480000,
           -122.352,
           47.6619
          ],
          [
           98103,
           720000,
           -122.329,
           47.6541
          ],
          [
           98103,
           1000000,
           -122.336,
           47.6497
          ],
          [
           98112,
           770000,
           -122.31,
           47.639
          ],
          [
           98144,
           404500,
           -122.307,
           47.5949
          ],
          [
           98119,
           800000,
           -122.372,
           47.6418
          ],
          [
           98112,
           739375,
           -122.308,
           47.6188
          ],
          [
           98103,
           665000,
           -122.34,
           47.6532
          ],
          [
           98119,
           450000,
           -122.374,
           47.642
          ],
          [
           98122,
           435000,
           -122.307,
           47.604
          ],
          [
           98107,
           860000,
           -122.361,
           47.6624
          ],
          [
           98122,
           295000,
           -122.297,
           47.607
          ],
          [
           98103,
           370000,
           -122.356,
           47.6546
          ],
          [
           98144,
           345000,
           -122.296,
           47.6012
          ],
          [
           98112,
           399000,
           -122.296,
           47.6212
          ],
          [
           98122,
           449950,
           -122.303,
           47.6031
          ],
          [
           98144,
           230000,
           -122.299,
           47.5982
          ],
          [
           98119,
           595000,
           -122.37,
           47.6509
          ],
          [
           98144,
           350000,
           -122.298,
           47.5985
          ],
          [
           98119,
           925000,
           -122.37,
           47.633
          ],
          [
           98105,
           575000,
           -122.325,
           47.6561
          ],
          [
           98119,
           750000,
           -122.371,
           47.6429
          ],
          [
           98144,
           677000,
           -122.306,
           47.5958
          ],
          [
           98103,
           526000,
           -122.346,
           47.654
          ],
          [
           98103,
           620000,
           -122.331,
           47.6528
          ],
          [
           98112,
           724800,
           -122.303,
           47.6436
          ],
          [
           98116,
           1050000,
           -122.381,
           47.5878
          ],
          [
           98112,
           920000,
           -122.307,
           47.6376
          ],
          [
           98109,
           680000,
           -122.346,
           47.6354
          ],
          [
           98119,
           650000,
           -122.369,
           47.6452
          ],
          [
           98199,
           415000,
           -122.397,
           47.6471
          ],
          [
           98122,
           330000,
           -122.299,
           47.6146
          ],
          [
           98144,
           495000,
           -122.306,
           47.595
          ],
          [
           98122,
           345000,
           -122.307,
           47.6078
          ],
          [
           98122,
           863500,
           -122.303,
           47.6104
          ],
          [
           98199,
           517500,
           -122.403,
           47.6453
          ],
          [
           98122,
           382000,
           -122.3,
           47.6058
          ],
          [
           98199,
           575000,
           -122.393,
           47.6371
          ],
          [
           98109,
           626700,
           -122.357,
           47.6402
          ],
          [
           98122,
           421500,
           -122.298,
           47.6051
          ],
          [
           98199,
           535000,
           -122.384,
           47.6505
          ],
          [
           98112,
           650000,
           -122.3,
           47.622
          ],
          [
           98102,
           635000,
           -122.326,
           47.6224
          ],
          [
           98144,
           525000,
           -122.309,
           47.5892
          ],
          [
           98112,
           675000,
           -122.313,
           47.6195
          ],
          [
           98102,
           670000,
           -122.323,
           47.6265
          ],
          [
           98102,
           799200,
           -122.323,
           47.6227
          ],
          [
           98122,
           550000,
           -122.303,
           47.6033
          ],
          [
           98112,
           751750,
           -122.311,
           47.6238
          ],
          [
           98122,
           580000,
           -122.298,
           47.6122
          ],
          [
           98109,
           755000,
           -122.356,
           47.6476
          ],
          [
           98122,
           260000,
           -122.3,
           47.6147
          ],
          [
           98122,
           430000,
           -122.3,
           47.6147
          ],
          [
           98144,
           384000,
           -122.313,
           47.586
          ],
          [
           98119,
           817000,
           -122.359,
           47.6431
          ],
          [
           98112,
           690500,
           -122.301,
           47.6283
          ],
          [
           98144,
           350000,
           -122.311,
           47.5895
          ],
          [
           98199,
           473000,
           -122.385,
           47.6488
          ],
          [
           98119,
           940000,
           -122.362,
           47.6332
          ],
          [
           98144,
           595000,
           -122.301,
           47.5936
          ],
          [
           98112,
           950000,
           -122.309,
           47.6289
          ],
          [
           98116,
           810000,
           -122.391,
           47.5925
          ],
          [
           98103,
           550000,
           -122.349,
           47.6598
          ],
          [
           98199,
           503500,
           -122.386,
           47.6513
          ],
          [
           98103,
           539000,
           -122.347,
           47.6543
          ],
          [
           98112,
           750000,
           -122.302,
           47.6428
          ],
          [
           98109,
           740000,
           -122.35,
           47.6451
          ],
          [
           98109,
           990000,
           -122.354,
           47.6413
          ],
          [
           98109,
           700000,
           -122.357,
           47.6465
          ],
          [
           98122,
           390000,
           -122.303,
           47.6042
          ],
          [
           98112,
           508000,
           -122.301,
           47.6304
          ],
          [
           98112,
           685000,
           -122.304,
           47.6466
          ],
          [
           98119,
           900000,
           -122.371,
           47.6321
          ],
          [
           98199,
           710000,
           -122.395,
           47.6501
          ],
          [
           98109,
           546000,
           -122.357,
           47.6444
          ],
          [
           98122,
           612000,
           -122.309,
           47.6102
          ],
          [
           98122,
           591000,
           -122.3,
           47.6155
          ],
          [
           98199,
           650000,
           -122.403,
           47.6438
          ],
          [
           98122,
           447500,
           -122.31,
           47.6032
          ],
          [
           98122,
           690000,
           -122.314,
           47.6102
          ],
          [
           98103,
           560000,
           -122.337,
           47.6489
          ],
          [
           98122,
           631000,
           -122.299,
           47.6156
          ],
          [
           98112,
           560000,
           -122.302,
           47.6264
          ],
          [
           98103,
           499950,
           -122.351,
           47.6619
          ],
          [
           98199,
           990000,
           -122.392,
           47.6415
          ],
          [
           98103,
           587206,
           -122.349,
           47.6592
          ],
          [
           98102,
           482000,
           -122.32,
           47.6399
          ],
          [
           98122,
           750000,
           -122.308,
           47.6134
          ],
          [
           98119,
           605000,
           -122.361,
           47.6341
          ],
          [
           98122,
           605000,
           -122.294,
           47.6121
          ],
          [
           98116,
           738000,
           -122.383,
           47.5839
          ],
          [
           98102,
           900000,
           -122.317,
           47.6461
          ],
          [
           98144,
           304000,
           -122.306,
           47.6005
          ],
          [
           98122,
           375000,
           -122.298,
           47.6076
          ],
          [
           98112,
           1050000,
           -122.3,
           47.6265
          ],
          [
           98119,
           606400,
           -122.371,
           47.6475
          ],
          [
           98122,
           440000,
           -122.292,
           47.6178
          ],
          [
           98107,
           767500,
           -122.359,
           47.6634
          ],
          [
           98199,
           654000,
           -122.397,
           47.6417
          ],
          [
           98116,
           570000,
           -122.391,
           47.5876
          ],
          [
           98109,
           595000,
           -122.352,
           47.6455
          ],
          [
           98122,
           250000,
           -122.306,
           47.6155
          ],
          [
           98126,
           295000,
           -122.375,
           47.584
          ],
          [
           98199,
           585000,
           -122.386,
           47.648
          ],
          [
           98199,
           450000,
           -122.399,
           47.6361
          ],
          [
           98144,
           339950,
           -122.311,
           47.5867
          ],
          [
           98199,
           615000,
           -122.383,
           47.6478
          ],
          [
           98112,
           1030000,
           -122.311,
           47.6315
          ],
          [
           98116,
           375000,
           -122.382,
           47.5838
          ],
          [
           98122,
           450000,
           -122.304,
           47.6066
          ],
          [
           98122,
           935000,
           -122.306,
           47.6133
          ],
          [
           98112,
           809000,
           -122.307,
           47.6312
          ],
          [
           98112,
           1050000,
           -122.295,
           47.6265
          ],
          [
           98109,
           625000,
           -122.352,
           47.6352
          ],
          [
           98112,
           575000,
           -122.3,
           47.6296
          ],
          [
           98122,
           387500,
           -122.295,
           47.6145
          ],
          [
           98119,
           865000,
           -122.36,
           47.6391
          ],
          [
           98122,
           507200,
           -122.306,
           47.6159
          ],
          [
           98102,
           960000,
           -122.314,
           47.6402
          ],
          [
           98112,
           1110000,
           -122.309,
           47.6217
          ],
          [
           98144,
           345000,
           -122.299,
           47.6013
          ],
          [
           98199,
           592500,
           -122.403,
           47.6384
          ],
          [
           98116,
           410000,
           -122.385,
           47.5859
          ],
          [
           98102,
           626000,
           -122.321,
           47.6498
          ],
          [
           98109,
           658000,
           -122.351,
           47.6368
          ],
          [
           98109,
           620000,
           -122.346,
           47.6413
          ],
          [
           98119,
           585000,
           -122.369,
           47.6373
          ],
          [
           98122,
           387000,
           -122.297,
           47.6131
          ],
          [
           98112,
           713500,
           -122.301,
           47.6285
          ],
          [
           98144,
           300000,
           -122.317,
           47.5871
          ],
          [
           98103,
           585000,
           -122.355,
           47.6618
          ],
          [
           98103,
           785000,
           -122.345,
           47.657
          ],
          [
           98199,
           525000,
           -122.384,
           47.6501
          ],
          [
           98112,
           332000,
           -122.294,
           47.6223
          ],
          [
           98199,
           895000,
           -122.397,
           47.6336
          ],
          [
           98122,
           622000,
           -122.297,
           47.6156
          ],
          [
           98144,
           390000,
           -122.298,
           47.5986
          ],
          [
           98103,
           775000,
           -122.355,
           47.6627
          ],
          [
           98144,
           455000,
           -122.298,
           47.6001
          ],
          [
           98119,
           825000,
           -122.373,
           47.6415
          ],
          [
           98119,
           560000,
           -122.375,
           47.6516
          ],
          [
           98122,
           485500,
           -122.309,
           47.617
          ],
          [
           98199,
           560000,
           -122.4,
           47.6384
          ],
          [
           98103,
           459500,
           -122.333,
           47.6607
          ],
          [
           98122,
           733500,
           -122.307,
           47.606
          ],
          [
           98122,
           613000,
           -122.293,
           47.6099
          ],
          [
           98102,
           350000,
           -122.324,
           47.6261
          ],
          [
           98122,
           650000,
           -122.298,
           47.6172
          ],
          [
           98102,
           525000,
           -122.327,
           47.637
          ],
          [
           98102,
           875000,
           -122.32,
           47.6476
          ],
          [
           98119,
           756000,
           -122.372,
           47.6442
          ],
          [
           98122,
           446000,
           -122.307,
           47.6039
          ],
          [
           98103,
           510000,
           -122.346,
           47.6534
          ],
          [
           98199,
           1110000,
           -122.396,
           47.6339
          ],
          [
           98199,
           640000,
           -122.369,
           47.651
          ],
          [
           98102,
           752000,
           -122.319,
           47.6233
          ],
          [
           98122,
           470000,
           -122.293,
           47.6088
          ],
          [
           98109,
           1010000,
           -122.341,
           47.637
          ],
          [
           98102,
           440000,
           -122.324,
           47.6405
          ],
          [
           98103,
           588000,
           -122.349,
           47.662
          ],
          [
           98112,
           958000,
           -122.3,
           47.625
          ],
          [
           98116,
           540000,
           -122.384,
           47.5849
          ],
          [
           98103,
           760500,
           -122.333,
           47.6572
          ],
          [
           98116,
           490000,
           -122.387,
           47.5862
          ],
          [
           98122,
           460000,
           -122.301,
           47.6191
          ],
          [
           98199,
           640000,
           -122.392,
           47.6372
          ],
          [
           98122,
           659000,
           -122.299,
           47.6138
          ],
          [
           98122,
           1000000,
           -122.29,
           47.6155
          ],
          [
           98103,
           604000,
           -122.344,
           47.6587
          ],
          [
           98112,
           1010000,
           -122.306,
           47.6242
          ],
          [
           98199,
           601000,
           -122.385,
           47.644
          ],
          [
           98107,
           455000,
           -122.363,
           47.6585
          ],
          [
           98199,
           875000,
           -122.388,
           47.6426
          ],
          [
           98144,
           190500,
           -122.306,
           47.5929
          ],
          [
           98122,
           482500,
           -122.301,
           47.6184
          ],
          [
           98122,
           454000,
           -122.293,
           47.61
          ],
          [
           98122,
           552500,
           -122.294,
           47.6074
          ],
          [
           98102,
           1050000,
           -122.321,
           47.6394
          ],
          [
           98112,
           680000,
           -122.308,
           47.6393
          ],
          [
           98144,
           431000,
           -122.301,
           47.5937
          ],
          [
           98122,
           770000,
           -122.29,
           47.6157
          ],
          [
           98119,
           952000,
           -122.372,
           47.6529
          ],
          [
           98109,
           625000,
           -122.344,
           47.6385
          ],
          [
           98103,
           842000,
           -122.339,
           47.659
          ],
          [
           98112,
           883000,
           -122.29,
           47.6215
          ],
          [
           98109,
           570000,
           -122.35,
           47.6388
          ],
          [
           98102,
           660000,
           -122.315,
           47.641
          ],
          [
           98102,
           670000,
           -122.324,
           47.6362
          ],
          [
           98109,
           1070000,
           -122.349,
           47.6389
          ],
          [
           98112,
           490000,
           -122.306,
           47.6236
          ],
          [
           98109,
           465000,
           -122.343,
           47.6361
          ],
          [
           98103,
           715000,
           -122.355,
           47.6598
          ],
          [
           98103,
           780000,
           -122.355,
           47.6598
          ],
          [
           98119,
           370000,
           -122.375,
           47.6374
          ],
          [
           98112,
           727000,
           -122.302,
           47.6412
          ],
          [
           98199,
           1100000,
           -122.395,
           47.6402
          ],
          [
           98109,
           925000,
           -122.352,
           47.6351
          ],
          [
           98103,
           533000,
           -122.346,
           47.6569
          ],
          [
           98103,
           913000,
           -122.337,
           47.6546
          ],
          [
           98109,
           792000,
           -122.356,
           47.6358
          ],
          [
           98112,
           375000,
           -122.296,
           47.6191
          ],
          [
           98122,
           500000,
           -122.304,
           47.605
          ],
          [
           98199,
           425000,
           -122.404,
           47.6433
          ],
          [
           98119,
           600000,
           -122.368,
           47.6313
          ],
          [
           98103,
           850000,
           -122.346,
           47.6572
          ],
          [
           98119,
           365000,
           -122.368,
           47.651
          ],
          [
           98122,
           615000,
           -122.295,
           47.6144
          ],
          [
           98112,
           785950,
           -122.3,
           47.6287
          ],
          [
           98122,
           563250,
           -122.291,
           47.6157
          ],
          [
           98119,
           608000,
           -122.374,
           47.6473
          ],
          [
           98122,
           358000,
           -122.298,
           47.6183
          ],
          [
           98116,
           920000,
           -122.387,
           47.5874
          ],
          [
           98199,
           505000,
           -122.396,
           47.6474
          ],
          [
           98103,
           432000,
           -122.344,
           47.661
          ],
          [
           98122,
           390000,
           -122.309,
           47.6029
          ],
          [
           98119,
           780000,
           -122.371,
           47.637
          ],
          [
           98112,
           500000,
           -122.304,
           47.6224
          ],
          [
           98103,
           920000,
           -122.344,
           47.6557
          ],
          [
           98103,
           475000,
           -122.339,
           47.6623
          ],
          [
           98112,
           650000,
           -122.306,
           47.6236
          ],
          [
           98122,
           448175,
           -122.295,
           47.6021
          ],
          [
           98199,
           494000,
           -122.384,
           47.652
          ],
          [
           98102,
           1100000,
           -122.317,
           47.6448
          ],
          [
           98109,
           885000,
           -122.353,
           47.635
          ],
          [
           98199,
           386000,
           -122.384,
           47.6526
          ],
          [
           98107,
           563000,
           -122.365,
           47.6606
          ],
          [
           98122,
           317500,
           -122.307,
           47.6088
          ],
          [
           98122,
           535000,
           -122.292,
           47.6098
          ],
          [
           98103,
           749500,
           -122.344,
           47.6551
          ],
          [
           98112,
           1050000,
           -122.307,
           47.6382
          ],
          [
           98122,
           497000,
           -122.299,
           47.6102
          ],
          [
           98109,
           655000,
           -122.348,
           47.6421
          ],
          [
           98112,
           632750,
           -122.302,
           47.6388
          ],
          [
           98112,
           808000,
           -122.306,
           47.6419
          ],
          [
           98103,
           578500,
           -122.331,
           47.6549
          ],
          [
           98112,
           620000,
           -122.303,
           47.6415
          ],
          [
           98103,
           435000,
           -122.345,
           47.6525
          ],
          [
           98112,
           1100000,
           -122.301,
           47.6348
          ],
          [
           98199,
           550000,
           -122.397,
           47.6461
          ],
          [
           98109,
           660000,
           -122.355,
           47.637
          ],
          [
           98107,
           775000,
           -122.361,
           47.6626
          ],
          [
           98103,
           657100,
           -122.338,
           47.6596
          ],
          [
           98103,
           485000,
           -122.352,
           47.6531
          ],
          [
           98103,
           720001,
           -122.331,
           47.6601
          ],
          [
           98122,
           625000,
           -122.297,
           47.6122
          ],
          [
           98103,
           829000,
           -122.345,
           47.6594
          ],
          [
           98199,
           575000,
           -122.386,
           47.6424
          ],
          [
           98122,
           601000,
           -122.297,
           47.6103
          ],
          [
           98112,
           462500,
           -122.303,
           47.621
          ],
          [
           98122,
           500000,
           -122.296,
           47.6103
          ],
          [
           98119,
           750000,
           -122.359,
           47.6382
          ],
          [
           98144,
           443000,
           -122.306,
           47.5955
          ],
          [
           98199,
           979700,
           -122.406,
           47.6392
          ],
          [
           98119,
           750000,
           -122.367,
           47.6479
          ],
          [
           98103,
           601450,
           -122.354,
           47.6595
          ],
          [
           98122,
           575000,
           -122.292,
           47.6132
          ],
          [
           98122,
           630000,
           -122.313,
           47.6025
          ],
          [
           98109,
           650000,
           -122.351,
           47.6462
          ],
          [
           98107,
           402500,
           -122.362,
           47.6588
          ],
          [
           98105,
           465000,
           -122.327,
           47.6567
          ],
          [
           98103,
           770000,
           -122.34,
           47.6537
          ],
          [
           98122,
           510000,
           -122.295,
           47.6059
          ],
          [
           98112,
           480000,
           -122.298,
           47.6249
          ],
          [
           98199,
           951250,
           -122.39,
           47.6505
          ],
          [
           98119,
           783200,
           -122.367,
           47.637
          ],
          [
           98112,
           563225,
           -122.297,
           47.6268
          ],
          [
           98103,
           645000,
           -122.351,
           47.6634
          ],
          [
           98102,
           995000,
           -122.317,
           47.638
          ],
          [
           98103,
           738000,
           -122.336,
           47.6545
          ],
          [
           98112,
           489000,
           -122.298,
           47.621
          ],
          [
           98102,
           615000,
           -122.327,
           47.6408
          ],
          [
           98119,
           595000,
           -122.371,
           47.6389
          ],
          [
           98122,
           428000,
           -122.294,
           47.6169
          ],
          [
           98122,
           520000,
           -122.3,
           47.6033
          ],
          [
           98102,
           555000,
           -122.32,
           47.6399
          ],
          [
           98103,
           521000,
           -122.353,
           47.6535
          ],
          [
           98109,
           825000,
           -122.351,
           47.6359
          ],
          [
           98199,
           976000,
           -122.39,
           47.646
          ],
          [
           98122,
           600000,
           -122.311,
           47.604
          ],
          [
           98109,
           485000,
           -122.355,
           47.6368
          ],
          [
           98116,
           462500,
           -122.384,
           47.587
          ],
          [
           98122,
           440000,
           -122.298,
           47.6175
          ],
          [
           98199,
           535000,
           -122.401,
           47.6415
          ],
          [
           98144,
           360000,
           -122.297,
           47.5979
          ],
          [
           98112,
           463000,
           -122.292,
           47.6226
          ],
          [
           98112,
           675000,
           -122.291,
           47.6284
          ],
          [
           98103,
           875000,
           -122.331,
           47.6605
          ],
          [
           98122,
           360000,
           -122.294,
           47.6163
          ],
          [
           98199,
           535000,
           -122.396,
           47.6475
          ],
          [
           98122,
           742500,
           -122.291,
           47.6158
          ],
          [
           98122,
           408000,
           -122.305,
           47.6063
          ],
          [
           98112,
           998500,
           -122.312,
           47.6311
          ],
          [
           98122,
           500000,
           -122.314,
           47.609
          ],
          [
           98126,
           870000,
           -122.379,
           47.5858
          ],
          [
           98102,
           690000,
           -122.32,
           47.6401
          ],
          [
           98119,
           629950,
           -122.374,
           47.6425
          ],
          [
           98122,
           660000,
           -122.31,
           47.6041
          ],
          [
           98107,
           595000,
           -122.358,
           47.6634
          ],
          [
           98119,
           595000,
           -122.365,
           47.6366
          ],
          [
           98122,
           640000,
           -122.311,
           47.6085
          ],
          [
           98102,
           635000,
           -122.319,
           47.6228
          ],
          [
           98122,
           549000,
           -122.303,
           47.6025
          ],
          [
           98122,
           436000,
           -122.293,
           47.6149
          ],
          [
           98119,
           740000,
           -122.371,
           47.6337
          ],
          [
           98112,
           695000,
           -122.307,
           47.6374
          ],
          [
           98122,
           687500,
           -122.308,
           47.6174
          ],
          [
           98119,
           874000,
           -122.364,
           47.6265
          ],
          [
           98199,
           790000,
           -122.401,
           47.6366
          ],
          [
           98103,
           565000,
           -122.335,
           47.649
          ],
          [
           98103,
           438600,
           -122.345,
           47.6597
          ],
          [
           98144,
           499950,
           -122.298,
           47.596
          ],
          [
           98122,
           920000,
           -122.288,
           47.615
          ],
          [
           98116,
           568000,
           -122.387,
           47.5892
          ],
          [
           98103,
           543000,
           -122.346,
           47.6498
          ],
          [
           98199,
           855000,
           -122.397,
           47.6382
          ],
          [
           98144,
           499000,
           -122.308,
           47.5949
          ],
          [
           98102,
           615000,
           -122.318,
           47.6392
          ],
          [
           98199,
           950000,
           -122.386,
           47.6416
          ],
          [
           98119,
           808250,
           -122.368,
           47.6419
          ],
          [
           98112,
           479000,
           -122.301,
           47.6192
          ],
          [
           98122,
           680000,
           -122.299,
           47.6044
          ],
          [
           98112,
           625000,
           -122.302,
           47.636
          ],
          [
           98122,
           625000,
           -122.296,
           47.6024
          ],
          [
           98103,
           565000,
           -122.348,
           47.6522
          ],
          [
           98119,
           613000,
           -122.371,
           47.6402
          ],
          [
           98119,
           472000,
           -122.375,
           47.6381
          ],
          [
           98119,
           800000,
           -122.363,
           47.6387
          ],
          [
           98105,
           550000,
           -122.327,
           47.6557
          ],
          [
           98103,
           675000,
           -122.334,
           47.6529
          ],
          [
           98122,
           332888,
           -122.299,
           47.6018
          ],
          [
           98122,
           400000,
           -122.302,
           47.6181
          ],
          [
           98109,
           740000,
           -122.351,
           47.6419
          ],
          [
           98122,
           370000,
           -122.301,
           47.6175
          ],
          [
           98103,
           870300,
           -122.335,
           47.6605
          ],
          [
           98109,
           410500,
           -122.352,
           47.6436
          ],
          [
           98102,
           402000,
           -122.329,
           47.6412
          ],
          [
           98119,
           636000,
           -122.361,
           47.6423
          ],
          [
           98122,
           900000,
           -122.295,
           47.6187
          ],
          [
           98103,
           525000,
           -122.348,
           47.6557
          ],
          [
           98105,
           785000,
           -122.325,
           47.6564
          ],
          [
           98103,
           831000,
           -122.34,
           47.6547
          ],
          [
           98116,
           750000,
           -122.383,
           47.5855
          ],
          [
           98122,
           739000,
           -122.306,
           47.6146
          ],
          [
           98102,
           845000,
           -122.327,
           47.6447
          ],
          [
           98144,
           350000,
           -122.298,
           47.5976
          ],
          [
           98122,
           700000,
           -122.309,
           47.6105
          ],
          [
           98119,
           605000,
           -122.371,
           47.6325
          ],
          [
           98122,
           575000,
           -122.299,
           47.6074
          ],
          [
           98109,
           885000,
           -122.346,
           47.6295
          ],
          [
           98119,
           700000,
           -122.363,
           47.646
          ],
          [
           98107,
           710500,
           -122.359,
           47.6608
          ],
          [
           98126,
           1020000,
           -122.379,
           47.583
          ],
          [
           98199,
           565000,
           -122.4,
           47.6379
          ],
          [
           98107,
           545000,
           -122.363,
           47.6599
          ],
          [
           98122,
           518000,
           -122.314,
           47.6124
          ],
          [
           98109,
           524000,
           -122.354,
           47.6454
          ],
          [
           98119,
           570500,
           -122.361,
           47.6416
          ],
          [
           98116,
           705000,
           -122.389,
           47.5866
          ],
          [
           98119,
           840500,
           -122.361,
           47.6365
          ],
          [
           98102,
           530000,
           -122.316,
           47.6192
          ],
          [
           98109,
           550000,
           -122.357,
           47.6461
          ],
          [
           98112,
           940000,
           -122.303,
           47.6316
          ],
          [
           98144,
           375000,
           -122.306,
           47.5927
          ],
          [
           98119,
           608000,
           -122.36,
           47.6422
          ],
          [
           98199,
           990000,
           -122.387,
           47.6451
          ],
          [
           98199,
           478000,
           -122.395,
           47.6494
          ],
          [
           98199,
           469775,
           -122.395,
           47.6465
          ],
          [
           98119,
           677915,
           -122.358,
           47.6448
          ],
          [
           98119,
           670000,
           -122.362,
           47.646
          ],
          [
           98122,
           458500,
           -122.301,
           47.6117
          ],
          [
           98119,
           705000,
           -122.373,
           47.6438
          ],
          [
           98112,
           747000,
           -122.295,
           47.6207
          ],
          [
           98144,
           450000,
           -122.299,
           47.5958
          ],
          [
           98122,
           510000,
           -122.303,
           47.6168
          ],
          [
           98199,
           395000,
           -122.386,
           47.6544
          ],
          [
           98122,
           498000,
           -122.305,
           47.6036
          ],
          [
           98116,
           850000,
           -122.39,
           47.5934
          ],
          [
           98144,
           388500,
           -122.312,
           47.5997
          ],
          [
           98119,
           614950,
           -122.362,
           47.6333
          ],
          [
           98122,
           998500,
           -122.293,
           47.6112
          ],
          [
           98103,
           580000,
           -122.348,
           47.6624
          ],
          [
           98144,
           300000,
           -122.311,
           47.5874
          ],
          [
           98119,
           870000,
           -122.368,
           47.6382
          ],
          [
           98109,
           931000,
           -122.351,
           47.6364
          ],
          [
           98116,
           677500,
           -122.385,
           47.5895
          ],
          [
           98112,
           600000,
           -122.298,
           47.6212
          ],
          [
           98119,
           710000,
           -122.358,
           47.6373
          ],
          [
           98102,
           525000,
           -122.319,
           47.6208
          ],
          [
           98199,
           658500,
           -122.387,
           47.6456
          ],
          [
           98122,
           455000,
           -122.304,
           47.6029
          ],
          [
           98103,
           543000,
           -122.345,
           47.6631
          ],
          [
           98112,
           1010000,
           -122.299,
           47.6232
          ],
          [
           98119,
           683500,
           -122.367,
           47.6479
          ],
          [
           98119,
           499950,
           -122.374,
           47.6419
          ],
          [
           98122,
           602000,
           -122.3,
           47.6103
          ],
          [
           98103,
           781000,
           -122.356,
           47.6616
          ],
          [
           98199,
           905000,
           -122.395,
           47.6397
          ],
          [
           98199,
           717500,
           -122.392,
           47.6393
          ],
          [
           98105,
           435000,
           -122.324,
           47.6578
          ],
          [
           98102,
           800000,
           -122.327,
           47.6414
          ],
          [
           98144,
           520000,
           -122.3,
           47.6199
          ],
          [
           98199,
           375000,
           -122.384,
           47.646
          ],
          [
           98199,
           810000,
           -122.394,
           47.6376
          ],
          [
           98102,
           690000,
           -122.32,
           47.6363
          ],
          [
           98112,
           785000,
           -122.301,
           47.6378
          ],
          [
           98109,
           860000,
           -122.356,
           47.6431
          ],
          [
           98122,
           485000,
           -122.306,
           47.604
          ],
          [
           98122,
           375000,
           -122.309,
           47.6028
          ],
          [
           98122,
           400000,
           -122.297,
           47.6132
          ],
          [
           98122,
           505000,
           -122.314,
           47.6054
          ],
          [
           98103,
           390000,
           -122.354,
           47.6562
          ],
          [
           98119,
           780000,
           -122.371,
           47.6363
          ],
          [
           98107,
           460000,
           -122.359,
           47.656
          ],
          [
           98102,
           825000,
           -122.321,
           47.6259
          ],
          [
           98103,
           550000,
           -122.348,
           47.6569
          ],
          [
           98103,
           597000,
           -122.355,
           47.6605
          ],
          [
           98112,
           910000,
           -122.296,
           47.6265
          ],
          [
           98112,
           1020000,
           -122.296,
           47.6265
          ],
          [
           98116,
           775000,
           -122.382,
           47.5837
          ],
          [
           98144,
           400000,
           -122.306,
           47.6003
          ],
          [
           98103,
           705000,
           -122.338,
           47.6512
          ],
          [
           98103,
           575000,
           -122.352,
           47.6549
          ],
          [
           98112,
           690000,
           -122.311,
           47.6399
          ],
          [
           98199,
           950000,
           -122.389,
           47.6469
          ],
          [
           98199,
           640000,
           -122.385,
           47.6443
          ],
          [
           98119,
           850000,
           -122.362,
           47.6315
          ],
          [
           98144,
           345000,
           -122.3,
           47.5998
          ],
          [
           98103,
           712500,
           -122.357,
           47.6631
          ],
          [
           98119,
           589000,
           -122.358,
           47.648
          ],
          [
           98199,
           485000,
           -122.401,
           47.6413
          ],
          [
           98122,
           750000,
           -122.305,
           47.6143
          ],
          [
           98112,
           834000,
           -122.297,
           47.6272
          ],
          [
           98122,
           518000,
           -122.298,
           47.6048
          ],
          [
           98122,
           915000,
           -122.288,
           47.6186
          ],
          [
           98144,
           355000,
           -122.316,
           47.5844
          ],
          [
           98102,
           920000,
           -122.325,
           47.6404
          ],
          [
           98112,
           640000,
           -122.299,
           47.6195
          ],
          [
           98116,
           715000,
           -122.39,
           47.5935
          ],
          [
           98112,
           750000,
           -122.298,
           47.6235
          ],
          [
           98102,
           675000,
           -122.325,
           47.6417
          ],
          [
           98102,
           810000,
           -122.32,
           47.6498
          ],
          [
           98144,
           295000,
           -122.312,
           47.5892
          ],
          [
           98144,
           750000,
           -122.316,
           47.5906
          ],
          [
           98122,
           427500,
           -122.298,
           47.6147
          ],
          [
           98119,
           525000,
           -122.371,
           47.6368
          ],
          [
           98199,
           824000,
           -122.393,
           47.6503
          ],
          [
           98122,
           689888,
           -122.29,
           47.6167
          ],
          [
           98103,
           705000,
           -122.336,
           47.6582
          ],
          [
           98119,
           815000,
           -122.36,
           47.6429
          ],
          [
           98199,
           862500,
           -122.394,
           47.6325
          ],
          [
           98119,
           589000,
           -122.365,
           47.6386
          ],
          [
           98122,
           655000,
           -122.293,
           47.6124
          ],
          [
           98199,
           487500,
           -122.385,
           47.6513
          ],
          [
           98103,
           575000,
           -122.345,
           47.6556
          ],
          [
           98109,
           848000,
           -122.349,
           47.6389
          ],
          [
           98103,
           570000,
           -122.352,
           47.6597
          ],
          [
           98119,
           775000,
           -122.367,
           47.6405
          ],
          [
           98112,
           600000,
           -122.306,
           47.6188
          ],
          [
           98122,
           546000,
           -122.311,
           47.6032
          ],
          [
           98144,
           450000,
           -122.308,
           47.5933
          ],
          [
           98103,
           725000,
           -122.336,
           47.649
          ],
          [
           98102,
           550000,
           -122.319,
           47.6233
          ],
          [
           98122,
           593000,
           -122.3,
           47.605
          ],
          [
           98103,
           525000,
           -122.353,
           47.6563
          ],
          [
           98122,
           825000,
           -122.288,
           47.6186
          ],
          [
           98119,
           782000,
           -122.363,
           47.6366
          ],
          [
           98103,
           488000,
           -122.331,
           47.653
          ],
          [
           98199,
           500000,
           -122.385,
           47.6514
          ],
          [
           98199,
           508000,
           -122.388,
           47.6498
          ],
          [
           98103,
           355000,
           -122.348,
           47.6565
          ],
          [
           98103,
           1030000,
           -122.355,
           47.6565
          ],
          [
           98103,
           930000,
           -122.337,
           47.6593
          ],
          [
           98102,
           1050000,
           -122.317,
           47.6393
          ],
          [
           98122,
           592500,
           -122.299,
           47.606
          ],
          [
           98112,
           525000,
           -122.297,
           47.6206
          ],
          [
           98144,
           569500,
           -122.296,
           47.6005
          ],
          [
           98102,
           729000,
           -122.319,
           47.6192
          ],
          [
           98112,
           721000,
           -122.301,
           47.6367
          ],
          [
           98107,
           550000,
           -122.363,
           47.662
          ],
          [
           98112,
           465000,
           -122.298,
           47.621
          ],
          [
           98144,
           435000,
           -122.308,
           47.595
          ],
          [
           98122,
           560000,
           -122.314,
           47.6038
          ],
          [
           98103,
           513000,
           -122.346,
           47.6534
          ],
          [
           98122,
           365000,
           -122.304,
           47.6084
          ],
          [
           98119,
           300523,
           -122.366,
           47.6503
          ],
          [
           98102,
           952000,
           -122.319,
           47.6439
          ],
          [
           98199,
           825000,
           -122.392,
           47.6461
          ],
          [
           98112,
           605000,
           -122.298,
           47.6229
          ],
          [
           98122,
           638000,
           -122.299,
           47.6187
          ],
          [
           98122,
           599000,
           -122.294,
           47.6025
          ],
          [
           98107,
           530000,
           -122.357,
           47.6633
          ],
          [
           98199,
           671000,
           -122.383,
           47.6472
          ],
          [
           98119,
           385000,
           -122.368,
           47.6361
          ],
          [
           98107,
           724950,
           -122.361,
           47.6631
          ],
          [
           98122,
           432500,
           -122.296,
           47.6031
          ],
          [
           98109,
           1110000,
           -122.352,
           47.6343
          ],
          [
           98199,
           970000,
           -122.389,
           47.6375
          ],
          [
           98103,
           562500,
           -122.345,
           47.6574
          ],
          [
           98119,
           447000,
           -122.375,
           47.638
          ],
          [
           98122,
           905000,
           -122.295,
           47.6027
          ],
          [
           98112,
           683000,
           -122.287,
           47.6197
          ],
          [
           98103,
           650000,
           -122.337,
           47.6595
          ],
          [
           98103,
           380000,
           -122.346,
           47.6506
          ],
          [
           98122,
           660000,
           -122.314,
           47.6102
          ],
          [
           98112,
           600000,
           -122.301,
           47.6393
          ],
          [
           98109,
           872500,
           -122.35,
           47.6334
          ],
          [
           98119,
           735000,
           -122.375,
           47.6505
          ],
          [
           98109,
           930000,
           -122.347,
           47.6305
          ],
          [
           98119,
           612125,
           -122.374,
           47.6517
          ],
          [
           98109,
           710000,
           -122.348,
           47.6428
          ],
          [
           98109,
           915000,
           -122.354,
           47.6339
          ],
          [
           98109,
           935000,
           -122.35,
           47.6384
          ],
          [
           98122,
           480000,
           -122.303,
           47.6109
          ],
          [
           98199,
           607500,
           -122.384,
           47.648
          ],
          [
           98119,
           1120000,
           -122.369,
           47.6362
          ],
          [
           98102,
           550000,
           -122.324,
           47.6355
          ],
          [
           98122,
           493000,
           -122.298,
           47.6138
          ],
          [
           98119,
           650000,
           -122.374,
           47.6445
          ],
          [
           98122,
           546000,
           -122.313,
           47.6117
          ],
          [
           98199,
           700000,
           -122.399,
           47.6435
          ],
          [
           98144,
           431000,
           -122.298,
           47.5985
          ],
          [
           98112,
           1050000,
           -122.299,
           47.628
          ],
          [
           98199,
           730000,
           -122.396,
           47.6437
          ],
          [
           98109,
           797000,
           -122.354,
           47.6375
          ],
          [
           98116,
           723000,
           -122.389,
           47.5904
          ],
          [
           98199,
           740000,
           -122.391,
           47.6464
          ],
          [
           98112,
           570000,
           -122.3,
           47.6205
          ],
          [
           98112,
           680000,
           -122.305,
           47.6241
          ],
          [
           98103,
           640000,
           -122.352,
           47.6604
          ],
          [
           98112,
           700000,
           -122.302,
           47.6209
          ],
          [
           98109,
           642000,
           -122.356,
           47.6461
          ],
          [
           98112,
           855000,
           -122.303,
           47.6401
          ],
          [
           98119,
           989000,
           -122.361,
           47.6404
          ],
          [
           98144,
           336000,
           -122.311,
           47.5883
          ],
          [
           98199,
           784000,
           -122.394,
           47.6467
          ],
          [
           98122,
           540000,
           -122.309,
           47.6148
          ],
          [
           98199,
           696000,
           -122.401,
           47.6464
          ],
          [
           98103,
           500000,
           -122.344,
           47.6588
          ],
          [
           98199,
           994000,
           -122.391,
           47.6496
          ],
          [
           98119,
           525000,
           -122.368,
           47.6511
          ],
          [
           98122,
           850000,
           -122.288,
           47.6122
          ],
          [
           98119,
           615000,
           -122.373,
           47.6357
          ],
          [
           98103,
           608000,
           -122.336,
           47.6624
          ],
          [
           98103,
           500000,
           -122.349,
           47.6526
          ],
          [
           98103,
           509000,
           -122.344,
           47.6545
          ],
          [
           98102,
           505000,
           -122.31,
           47.6025
          ],
          [
           98199,
           396500,
           -122.384,
           47.6526
          ],
          [
           98103,
           600000,
           -122.347,
           47.6624
          ],
          [
           98122,
           589000,
           -122.309,
           47.6105
          ],
          [
           98144,
           600000,
           -122.313,
           47.589
          ],
          [
           98112,
           780500,
           -122.312,
           47.6246
          ],
          [
           98144,
           450000,
           -122.314,
           47.5897
          ],
          [
           98119,
           840000,
           -122.357,
           47.6413
          ],
          [
           98199,
           750000,
           -122.391,
           47.6499
          ],
          [
           98119,
           865000,
           -122.368,
           47.6513
          ],
          [
           98144,
           261500,
           -122.299,
           47.5978
          ],
          [
           98122,
           550000,
           -122.302,
           47.6109
          ],
          [
           98122,
           847000,
           -122.294,
           47.6092
          ],
          [
           98199,
           672500,
           -122.392,
           47.6339
          ],
          [
           98119,
           620000,
           -122.373,
           47.6435
          ],
          [
           98103,
           620000,
           -122.352,
           47.6539
          ],
          [
           98199,
           1030000,
           -122.396,
           47.6387
          ],
          [
           98102,
           475000,
           -122.319,
           47.6226
          ],
          [
           98122,
           890000,
           -122.294,
           47.6038
          ],
          [
           98112,
           575000,
           -122.307,
           47.6408
          ],
          [
           98103,
           580000,
           -122.334,
           47.6558
          ],
          [
           98119,
           629950,
           -122.374,
           47.6425
          ],
          [
           98199,
           578000,
           -122.401,
           47.6409
          ],
          [
           98119,
           575000,
           -122.36,
           47.642
          ],
          [
           98144,
           352750,
           -122.3,
           47.5999
          ],
          [
           98103,
           677000,
           -122.341,
           47.6561
          ],
          [
           98144,
           410000,
           -122.315,
           47.5938
          ],
          [
           98119,
           625000,
           -122.358,
           47.6482
          ],
          [
           98122,
           619500,
           -122.292,
           47.6078
          ],
          [
           98119,
           485000,
           -122.369,
           47.644
          ],
          [
           98102,
           403950,
           -122.329,
           47.6414
          ],
          [
           98112,
           1000000,
           -122.302,
           47.6453
          ],
          [
           98119,
           980000,
           -122.358,
           47.642
          ],
          [
           98112,
           950000,
           -122.303,
           47.6285
          ],
          [
           98112,
           799500,
           -122.303,
           47.627
          ],
          [
           98119,
           1020000,
           -122.367,
           47.6356
          ],
          [
           98122,
           590000,
           -122.303,
           47.6108
          ],
          [
           98199,
           540000,
           -122.396,
           47.6478
          ],
          [
           98112,
           1050000,
           -122.306,
           47.638
          ],
          [
           98103,
           569000,
           -122.349,
           47.6624
          ],
          [
           98122,
           890000,
           -122.291,
           47.6154
          ],
          [
           98199,
           450000,
           -122.384,
           47.651
          ],
          [
           98112,
           540000,
           -122.304,
           47.6193
          ],
          [
           98144,
           364000,
           -122.302,
           47.5939
          ],
          [
           98122,
           425000,
           -122.307,
           47.6029
          ],
          [
           98122,
           835000,
           -122.311,
           47.6056
          ],
          [
           98199,
           1020000,
           -122.405,
           47.642
          ],
          [
           98112,
           610000,
           -122.299,
           47.6236
          ],
          [
           98112,
           427000,
           -122.3,
           47.6251
          ],
          [
           98199,
           736500,
           -122.386,
           47.645
          ],
          [
           98116,
           542500,
           -122.388,
           47.5901
          ],
          [
           98122,
           720000,
           -122.294,
           47.614
          ],
          [
           98122,
           730000,
           -122.291,
           47.6065
          ],
          [
           98119,
           975000,
           -122.37,
           47.643
          ],
          [
           98103,
           645000,
           -122.344,
           47.6546
          ],
          [
           98119,
           636100,
           -122.357,
           47.6438
          ],
          [
           98102,
           670500,
           -122.317,
           47.6406
          ],
          [
           98109,
           988000,
           -122.355,
           47.643
          ],
          [
           98122,
           350000,
           -122.305,
           47.6074
          ],
          [
           98122,
           590000,
           -122.296,
           47.6102
          ],
          [
           98119,
           499000,
           -122.374,
           47.6457
          ],
          [
           98119,
           629950,
           -122.374,
           47.6424
          ],
          [
           98112,
           669000,
           -122.292,
           47.6204
          ],
          [
           98103,
           747000,
           -122.341,
           47.6589
          ],
          [
           98109,
           427500,
           -122.342,
           47.6341
          ],
          [
           98112,
           739000,
           -122.304,
           47.6374
          ],
          [
           98119,
           525000,
           -122.364,
           47.6358
          ],
          [
           98109,
           826000,
           -122.353,
           47.6312
          ],
          [
           98112,
           842500,
           -122.306,
           47.6321
          ],
          [
           98199,
           334000,
           -122.397,
           47.6485
          ],
          [
           98103,
           480000,
           -122.338,
           47.661
          ],
          [
           98144,
           353500,
           -122.316,
           47.5872
          ],
          [
           98102,
           979700,
           -122.32,
           47.6507
          ],
          [
           98102,
           407500,
           -122.322,
           47.6358
          ],
          [
           98103,
           474800,
           -122.353,
           47.6534
          ],
          [
           98144,
           395000,
           -122.301,
           47.5962
          ],
          [
           98112,
           1050000,
           -122.3,
           47.6433
          ],
          [
           98199,
           1050000,
           -122.405,
           47.6402
          ],
          [
           98105,
           650000,
           -122.326,
           47.6571
          ],
          [
           98112,
           605000,
           -122.306,
           47.6368
          ],
          [
           98119,
           879000,
           -122.369,
           47.647
          ],
          [
           98122,
           512500,
           -122.31,
           47.6094
          ],
          [
           98199,
           600000,
           -122.394,
           47.6419
          ],
          [
           98199,
           680000,
           -122.391,
           47.636
          ],
          [
           98102,
           982218,
           -122.319,
           47.6451
          ],
          [
           98199,
           970000,
           -122.388,
           47.6487
          ],
          [
           98103,
           700000,
           -122.354,
           47.6581
          ],
          [
           98105,
           920000,
           -122.325,
           47.6567
          ],
          [
           98102,
           625000,
           -122.326,
           47.6244
          ],
          [
           98102,
           800000,
           -122.324,
           47.637
          ],
          [
           98199,
           515000,
           -122.403,
           47.6426
          ],
          [
           98122,
           565000,
           -122.294,
           47.6086
          ],
          [
           98107,
           460000,
           -122.36,
           47.6566
          ],
          [
           98112,
           895000,
           -122.3,
           47.6373
          ],
          [
           98103,
           427000,
           -122.348,
           47.6576
          ],
          [
           98112,
           886000,
           -122.306,
           47.6398
          ],
          [
           98112,
           370000,
           -122.302,
           47.6308
          ],
          [
           98122,
           600000,
           -122.296,
           47.6095
          ],
          [
           98112,
           700000,
           -122.306,
           47.6458
          ],
          [
           98119,
           620047,
           -122.373,
           47.6508
          ],
          [
           98116,
           560000,
           -122.389,
           47.5889
          ],
          [
           98144,
           397500,
           -122.312,
           47.5998
          ],
          [
           98103,
           420000,
           -122.342,
           47.6526
          ],
          [
           98107,
           623500,
           -122.362,
           47.6583
          ],
          [
           98112,
           906000,
           -122.3,
           47.6199
          ],
          [
           98103,
           599950,
           -122.329,
           47.6539
          ],
          [
           98103,
           850000,
           -122.344,
           47.6559
          ],
          [
           98103,
           615000,
           -122.337,
           47.6516
          ],
          [
           98122,
           715000,
           -122.303,
           47.6038
          ],
          [
           98122,
           742000,
           -122.308,
           47.6177
          ],
          [
           98103,
           700000,
           -122.346,
           47.6575
          ],
          [
           98199,
           625000,
           -122.391,
           47.6375
          ],
          [
           98119,
           820000,
           -122.367,
           47.6472
          ],
          [
           98144,
           435000,
           -122.303,
           47.5929
          ],
          [
           98199,
           705000,
           -122.403,
           47.6398
          ],
          [
           98144,
           390000,
           -122.302,
           47.5943
          ],
          [
           98109,
           770000,
           -122.356,
           47.6334
          ],
          [
           98103,
           791000,
           -122.335,
           47.6537
          ],
          [
           98119,
           590000,
           -122.37,
           47.6367
          ],
          [
           98103,
           818000,
           -122.353,
           47.6551
          ],
          [
           98103,
           660000,
           -122.331,
           47.6597
          ],
          [
           98199,
           529999,
           -122.383,
           47.6456
          ],
          [
           98122,
           581000,
           -122.3,
           47.6183
          ],
          [
           98122,
           591000,
           -122.314,
           47.6123
          ],
          [
           98112,
           480000,
           -122.298,
           47.6212
          ],
          [
           98119,
           425000,
           -122.368,
           47.6363
          ],
          [
           98112,
           715000,
           -122.308,
           47.6394
          ],
          [
           98109,
           539950,
           -122.356,
           47.6398
          ],
          [
           98116,
           130000,
           -122.384,
           47.5883
          ],
          [
           98112,
           952500,
           -122.301,
           47.636
          ],
          [
           98102,
           1050000,
           -122.327,
           47.6426
          ],
          [
           98112,
           718500,
           -122.287,
           47.6222
          ],
          [
           98109,
           474000,
           -122.344,
           47.6385
          ],
          [
           98109,
           822500,
           -122.349,
           47.63
          ],
          [
           98109,
           705000,
           -122.353,
           47.6435
          ],
          [
           98122,
           685000,
           -122.308,
           47.6133
          ],
          [
           98112,
           1060000,
           -122.299,
           47.6401
          ],
          [
           98109,
           780000,
           -122.352,
           47.6452
          ],
          [
           98144,
           380000,
           -122.305,
           47.6007
          ],
          [
           98119,
           552700,
           -122.371,
           47.6361
          ],
          [
           98112,
           529000,
           -122.296,
           47.6204
          ],
          [
           98199,
           689800,
           -122.391,
           47.6492
          ],
          [
           98199,
           849000,
           -122.401,
           47.6381
          ],
          [
           98199,
           1100000,
           -122.389,
           47.6474
          ],
          [
           98112,
           770000,
           -122.307,
           47.6192
          ],
          [
           98122,
           574000,
           -122.304,
           47.6199
          ],
          [
           98122,
           651000,
           -122.308,
           47.6111
          ],
          [
           98122,
           815000,
           -122.298,
           47.6168
          ],
          [
           98122,
           710000,
           -122.297,
           47.6093
          ],
          [
           98122,
           517000,
           -122.299,
           47.6118
          ],
          [
           98122,
           575000,
           -122.313,
           47.6059
          ],
          [
           98107,
           725000,
           -122.358,
           47.6567
          ],
          [
           98103,
           399950,
           -122.346,
           47.659
          ],
          [
           98109,
           1000000,
           -122.351,
           47.6287
          ],
          [
           98109,
           631500,
           -122.357,
           47.6438
          ],
          [
           98119,
           740000,
           -122.371,
           47.6453
          ],
          [
           98122,
           740000,
           -122.295,
           47.6054
          ],
          [
           98122,
           415000,
           -122.303,
           47.6059
          ],
          [
           98103,
           575000,
           -122.354,
           47.6543
          ],
          [
           98119,
           855000,
           -122.358,
           47.6425
          ],
          [
           98119,
           390000,
           -122.371,
           47.6334
          ],
          [
           98199,
           511200,
           -122.397,
           47.643
          ],
          [
           98119,
           850000,
           -122.363,
           47.637
          ],
          [
           98103,
           435000,
           -122.35,
           47.654
          ],
          [
           98122,
           507000,
           -122.301,
           47.6184
          ],
          [
           98122,
           350000,
           -122.319,
           47.6058
          ],
          [
           98105,
           580000,
           -122.326,
           47.6605
          ],
          [
           98102,
           950000,
           -122.321,
           47.6466
          ],
          [
           98119,
           550000,
           -122.372,
           47.6489
          ],
          [
           98109,
           736000,
           -122.353,
           47.6409
          ],
          [
           98122,
           295000,
           -122.295,
           47.6185
          ],
          [
           98199,
           690000,
           -122.397,
           47.6388
          ],
          [
           98103,
           560000,
           -122.344,
           47.6583
          ],
          [
           98122,
           774900,
           -122.295,
           47.6075
          ],
          [
           98109,
           707000,
           -122.351,
           47.6364
          ],
          [
           98103,
           476000,
           -122.356,
           47.6543
          ],
          [
           98103,
           517000,
           -122.343,
           47.6619
          ],
          [
           98122,
           345600,
           -122.31,
           47.6059
          ],
          [
           98112,
           1000000,
           -122.309,
           47.6304
          ],
          [
           98112,
           699999,
           -122.297,
           47.6239
          ],
          [
           98116,
           727500,
           -122.382,
           47.5829
          ],
          [
           98112,
           900000,
           -122.292,
           47.6278
          ],
          [
           98109,
           495000,
           -122.344,
           47.6302
          ],
          [
           98103,
           504500,
           -122.346,
           47.6523
          ],
          [
           98122,
           675000,
           -122.294,
           47.6088
          ],
          [
           98112,
           585000,
           -122.297,
           47.6207
          ],
          [
           98103,
           850000,
           -122.338,
           47.6559
          ],
          [
           98109,
           478000,
           -122.345,
           47.627
          ],
          [
           98199,
           824000,
           -122.388,
           47.6375
          ],
          [
           98103,
           530000,
           -122.356,
           47.6538
          ],
          [
           98119,
           509000,
           -122.362,
           47.6472
          ],
          [
           98199,
           375000,
           -122.394,
           47.64
          ],
          [
           98103,
           387000,
           -122.355,
           47.6529
          ],
          [
           98119,
           885000,
           -122.365,
           47.6369
          ],
          [
           98122,
           525000,
           -122.297,
           47.6135
          ],
          [
           98119,
           1010000,
           -122.369,
           47.6366
          ],
          [
           98122,
           415000,
           -122.298,
           47.6067
          ],
          [
           98199,
           460000,
           -122.388,
           47.6368
          ],
          [
           98119,
           900000,
           -122.369,
           47.6318
          ],
          [
           98199,
           619790,
           -122.401,
           47.6385
          ],
          [
           98199,
           794154,
           -122.396,
           47.6498
          ],
          [
           98112,
           450000,
           -122.3,
           47.6288
          ],
          [
           98112,
           500000,
           -122.3,
           47.62
          ],
          [
           98122,
           812000,
           -122.295,
           47.6156
          ],
          [
           98103,
           504200,
           -122.334,
           47.6491
          ],
          [
           98103,
           580000,
           -122.354,
           47.6536
          ],
          [
           98122,
           386180,
           -122.308,
           47.6032
          ],
          [
           98103,
           562000,
           -122.356,
           47.6536
          ],
          [
           98144,
           349000,
           -122.299,
           47.6004
          ],
          [
           98112,
           675000,
           -122.309,
           47.62
          ],
          [
           98103,
           543000,
           -122.334,
           47.6488
          ],
          [
           98122,
           299000,
           -122.297,
           47.6175
          ],
          [
           98103,
           660000,
           -122.348,
           47.6585
          ],
          [
           98144,
           379900,
           -122.298,
           47.5959
          ],
          [
           98116,
           540000,
           -122.386,
           47.5903
          ],
          [
           98144,
           445000,
           -122.314,
           47.5857
          ],
          [
           98119,
           655000,
           -122.362,
           47.6461
          ],
          [
           98103,
           523950,
           -122.346,
           47.6533
          ],
          [
           98116,
           369000,
           -122.386,
           47.5874
          ],
          [
           98122,
           455000,
           -122.305,
           47.6047
          ],
          [
           98122,
           730000,
           -122.301,
           47.6179
          ],
          [
           98107,
           622500,
           -122.358,
           47.6536
          ],
          [
           98116,
           545000,
           -122.387,
           47.589
          ],
          [
           98122,
           615000,
           -122.304,
           47.6073
          ],
          [
           98103,
           622000,
           -122.34,
           47.6536
          ],
          [
           98199,
           455000,
           -122.383,
           47.649
          ],
          [
           98122,
           360000,
           -122.297,
           47.6192
          ],
          [
           98122,
           515000,
           -122.304,
           47.605
          ],
          [
           98119,
           840000,
           -122.361,
           47.6321
          ],
          [
           98112,
           950000,
           -122.299,
           47.6256
          ],
          [
           98109,
           850000,
           -122.347,
           47.6291
          ],
          [
           98112,
           495000,
           -122.301,
           47.6207
          ],
          [
           98122,
           685000,
           -122.31,
           47.6173
          ],
          [
           98103,
           619000,
           -122.354,
           47.6536
          ],
          [
           98199,
           377000,
           -122.384,
           47.6529
          ],
          [
           98112,
           759000,
           -122.297,
           47.6196
          ],
          [
           98144,
           412000,
           -122.315,
           47.5894
          ],
          [
           98122,
           555000,
           -122.302,
           47.6161
          ],
          [
           98102,
           527500,
           -122.327,
           47.6427
          ],
          [
           98119,
           455000,
           -122.361,
           47.627
          ],
          [
           98102,
           975000,
           -122.327,
           47.644
          ],
          [
           98103,
           650000,
           -122.341,
           47.6533
          ],
          [
           98109,
           675000,
           -122.343,
           47.6384
          ],
          [
           98102,
           399950,
           -122.329,
           47.6413
          ],
          [
           98103,
           667000,
           -122.351,
           47.6595
          ],
          [
           98122,
           547500,
           -122.299,
           47.6127
          ],
          [
           98199,
           439990,
           -122.384,
           47.6513
          ],
          [
           98109,
           675000,
           -122.345,
           47.6398
          ],
          [
           98199,
           385000,
           -122.383,
           47.6506
          ],
          [
           98119,
           459000,
           -122.371,
           47.6363
          ],
          [
           98103,
           660000,
           -122.355,
           47.6594
          ],
          [
           98103,
           602000,
           -122.334,
           47.6485
          ],
          [
           98122,
           640000,
           -122.318,
           47.6179
          ],
          [
           98102,
           659000,
           -122.329,
           47.6396
          ],
          [
           98122,
           515000,
           -122.301,
           47.6181
          ],
          [
           98144,
           550000,
           -122.315,
           47.5875
          ],
          [
           98103,
           500000,
           -122.346,
           47.6533
          ],
          [
           98112,
           735000,
           -122.313,
           47.6226
          ],
          [
           98122,
           625000,
           -122.314,
           47.6168
          ],
          [
           98122,
           520000,
           -122.311,
           47.618
          ],
          [
           98122,
           665000,
           -122.31,
           47.6172
          ],
          [
           98103,
           525000,
           -122.355,
           47.6534
          ],
          [
           98144,
           500000,
           -122.308,
           47.5929
          ],
          [
           98103,
           672000,
           -122.355,
           47.6597
          ],
          [
           98199,
           475000,
           -122.388,
           47.6386
          ],
          [
           98122,
           359950,
           -122.301,
           47.6187
          ],
          [
           98144,
           635000,
           -122.311,
           47.5902
          ],
          [
           98199,
           399950,
           -122.384,
           47.6518
          ],
          [
           98103,
           565000,
           -122.345,
           47.6512
          ],
          [
           98103,
           609000,
           -122.354,
           47.6536
          ],
          [
           98103,
           625000,
           -122.352,
           47.653
          ],
          [
           98112,
           525000,
           -122.299,
           47.6206
          ],
          [
           98122,
           405000,
           -122.295,
           47.612
          ],
          [
           98144,
           356999,
           -122.311,
           47.5998
          ],
          [
           98102,
           664950,
           -122.329,
           47.6395
          ],
          [
           98103,
           500000,
           -122.345,
           47.6543
          ],
          [
           98122,
           465000,
           -122.297,
           47.6018
          ],
          [
           98122,
           920000,
           -122.29,
           47.6178
          ],
          [
           98103,
           670000,
           -122.346,
           47.6522
          ],
          [
           98103,
           560000,
           -122.334,
           47.6485
          ],
          [
           98112,
           772000,
           -122.297,
           47.6196
          ],
          [
           98103,
           425000,
           -122.356,
           47.6534
          ],
          [
           98122,
           459000,
           -122.308,
           47.602
          ],
          [
           98102,
           584000,
           -122.326,
           47.6376
          ],
          [
           98102,
           505000,
           -122.327,
           47.6369
          ],
          [
           98144,
           565000,
           -122.302,
           47.5925
          ],
          [
           98199,
           547000,
           -122.396,
           47.648
          ],
          [
           98144,
           441000,
           -122.305,
           47.6006
          ],
          [
           98144,
           375000,
           -122.317,
           47.5893
          ],
          [
           98119,
           455000,
           -122.375,
           47.638
          ],
          [
           98109,
           700000,
           -122.346,
           47.6356
          ],
          [
           98119,
           579000,
           -122.359,
           47.6273
          ],
          [
           98122,
           552500,
           -122.31,
           47.6114
          ],
          [
           98116,
           749000,
           -122.383,
           47.586
          ],
          [
           98102,
           653500,
           -122.324,
           47.6372
          ],
          [
           98112,
           610000,
           -122.3,
           47.6206
          ],
          [
           98119,
           580000,
           -122.371,
           47.6353
          ],
          [
           98103,
           500000,
           -122.348,
           47.6558
          ],
          [
           98102,
           499950,
           -122.327,
           47.6371
          ],
          [
           98122,
           654000,
           -122.312,
           47.6179
          ],
          [
           98122,
           530000,
           -122.309,
           47.6034
          ],
          [
           98144,
           515000,
           -122.298,
           47.5973
          ],
          [
           98144,
           480000,
           -122.309,
           47.5893
          ],
          [
           98102,
           562500,
           -122.327,
           47.6371
          ],
          [
           98109,
           1110000,
           -122.354,
           47.6435
          ],
          [
           98102,
           650000,
           -122.321,
           47.6298
          ],
          [
           98103,
           563500,
           -122.355,
           47.6534
          ],
          [
           98122,
           411000,
           -122.314,
           47.6023
          ],
          [
           98112,
           699999,
           -122.299,
           47.6205
          ],
          [
           98122,
           749950,
           -122.311,
           47.6088
          ],
          [
           98103,
           450000,
           -122.335,
           47.6489
          ],
          [
           98107,
           415000,
           -122.358,
           47.6543
          ],
          [
           98199,
           435000,
           -122.384,
           47.6519
          ],
          [
           98102,
           690000,
           -122.323,
           47.6264
          ],
          [
           98144,
           329950,
           -122.317,
           47.5893
          ],
          [
           98119,
           499000,
           -122.362,
           47.6319
          ],
          [
           98144,
           555000,
           -122.302,
           47.5925
          ],
          [
           98122,
           640000,
           -122.318,
           47.6181
          ],
          [
           98122,
           526000,
           -122.309,
           47.6031
          ],
          [
           98119,
           525000,
           -122.373,
           47.6384
          ],
          [
           98102,
           575000,
           -122.32,
           47.6295
          ],
          [
           98103,
           420000,
           -122.35,
           47.6584
          ],
          [
           98102,
           630000,
           -122.318,
           47.6236
          ],
          [
           98109,
           600000,
           -122.345,
           47.6397
          ],
          [
           98122,
           490000,
           -122.304,
           47.6051
          ],
          [
           98199,
           465000,
           -122.388,
           47.6374
          ],
          [
           98109,
           605000,
           -122.346,
           47.6327
          ],
          [
           98122,
           549900,
           -122.311,
           47.602
          ],
          [
           98122,
           492000,
           -122.311,
           47.6022
          ],
          [
           98103,
           580000,
           -122.341,
           47.6536
          ],
          [
           98144,
           230000,
           -122.301,
           47.5951
          ],
          [
           98103,
           650000,
           -122.346,
           47.6523
          ],
          [
           98122,
           521500,
           -122.304,
           47.6076
          ],
          [
           98116,
           580000,
           -122.387,
           47.5891
          ],
          [
           98109,
           550000,
           -122.357,
           47.6472
          ],
          [
           98122,
           450000,
           -122.306,
           47.602
          ],
          [
           98119,
           727000,
           -122.359,
           47.6276
          ],
          [
           98122,
           397500,
           -122.309,
           47.6033
          ],
          [
           98102,
           1080000,
           -122.324,
           47.6271
          ],
          [
           98107,
           586500,
           -122.351,
           47.6539
          ],
          [
           98112,
           649000,
           -122.309,
           47.6201
          ],
          [
           98119,
           585000,
           -122.375,
           47.6515
          ],
          [
           98199,
           542300,
           -122.386,
           47.6514
          ],
          [
           98144,
           365000,
           -122.3,
           47.5999
          ],
          [
           98103,
           630500,
           -122.352,
           47.6538
          ],
          [
           98119,
           687015,
           -122.362,
           47.6256
          ],
          [
           98199,
           570000,
           -122.384,
           47.6493
          ],
          [
           98102,
           720000,
           -122.324,
           47.6434
          ],
          [
           98122,
           500000,
           -122.309,
           47.6112
          ],
          [
           98122,
           552100,
           -122.313,
           47.6126
          ],
          [
           98103,
           610000,
           -122.352,
           47.6607
          ],
          [
           98103,
           671500,
           -122.348,
           47.6532
          ],
          [
           98103,
           559000,
           -122.346,
           47.6611
          ],
          [
           98119,
           645000,
           -122.358,
           47.6465
          ],
          [
           98103,
           453000,
           -122.335,
           47.6608
          ],
          [
           98103,
           539900,
           -122.346,
           47.6584
          ],
          [
           98119,
           935000,
           -122.361,
           47.632
          ],
          [
           98122,
           353000,
           -122.314,
           47.616
          ],
          [
           98119,
           490000,
           -122.37,
           47.6313
          ],
          [
           98103,
           339950,
           -122.352,
           47.6619
          ],
          [
           98119,
           779000,
           -122.359,
           47.6276
          ],
          [
           98119,
           438000,
           -122.375,
           47.6381
          ],
          [
           98144,
           325000,
           -122.313,
           47.5854
          ],
          [
           98103,
           455000,
           -122.352,
           47.6625
          ],
          [
           98103,
           598500,
           -122.352,
           47.6604
          ],
          [
           98122,
           729999,
           -122.314,
           47.6113
          ],
          [
           98116,
           386950,
           -122.387,
           47.5902
          ],
          [
           98122,
           375000,
           -122.31,
           47.6093
          ],
          [
           98103,
           535000,
           -122.348,
           47.6598
          ],
          [
           98105,
           433000,
           -122.321,
           47.6568
          ],
          [
           98103,
           610000,
           -122.354,
           47.6536
          ],
          [
           98199,
           453000,
           -122.384,
           47.6515
          ],
          [
           98103,
           482000,
           -122.349,
           47.6617
          ],
          [
           98103,
           475000,
           -122.349,
           47.6617
          ],
          [
           98122,
           585000,
           -122.294,
           47.6021
          ],
          [
           98103,
           459000,
           -122.357,
           47.6538
          ],
          [
           98112,
           516500,
           -122.307,
           47.6228
          ],
          [
           98119,
           530000,
           -122.375,
           47.6515
          ],
          [
           98122,
           747450,
           -122.311,
           47.6088
          ],
          [
           98109,
           710200,
           -122.345,
           47.6397
          ],
          [
           98103,
           610950,
           -122.346,
           47.6572
          ],
          [
           98144,
           579000,
           -122.311,
           47.5869
          ],
          [
           98119,
           645000,
           -122.369,
           47.6374
          ],
          [
           98102,
           399950,
           -122.329,
           47.6413
          ],
          [
           98103,
           475000,
           -122.346,
           47.6542
          ],
          [
           98103,
           520000,
           -122.346,
           47.6533
          ]
         ],
         "hovertemplate": [
          "<b>98119</b><br>",
          "<b>98112</b><br>",
          "<b>98119</b><br>",
          "<b>98122</b><br>",
          "<b>98119</b><br>",
          "<b>98199</b><br>",
          "<b>98102</b><br>",
          "<b>98119</b><br>",
          "<b>98109</b><br>",
          "<b>98107</b><br>",
          "<b>98122</b><br>",
          "<b>98122</b><br>",
          "<b>98103</b><br>",
          "<b>98122</b><br>",
          "<b>98112</b><br>",
          "<b>98144</b><br>",
          "<b>98112</b><br>",
          "<b>98144</b><br>",
          "<b>98103</b><br>",
          "<b>98102</b><br>",
          "<b>98144</b><br>",
          "<b>98122</b><br>",
          "<b>98103</b><br>",
          "<b>98122</b><br>",
          "<b>98112</b><br>",
          "<b>98116</b><br>",
          "<b>98119</b><br>",
          "<b>98103</b><br>",
          "<b>98109</b><br>",
          "<b>98122</b><br>",
          "<b>98122</b><br>",
          "<b>98199</b><br>",
          "<b>98144</b><br>",
          "<b>98102</b><br>",
          "<b>98119</b><br>",
          "<b>98122</b><br>",
          "<b>98103</b><br>",
          "<b>98103</b><br>",
          "<b>98122</b><br>",
          "<b>98199</b><br>",
          "<b>98144</b><br>",
          "<b>98119</b><br>",
          "<b>98122</b><br>",
          "<b>98103</b><br>",
          "<b>98102</b><br>",
          "<b>98112</b><br>",
          "<b>98103</b><br>",
          "<b>98103</b><br>",
          "<b>98102</b><br>",
          "<b>98105</b><br>",
          "<b>98122</b><br>",
          "<b>98199</b><br>",
          "<b>98199</b><br>",
          "<b>98199</b><br>",
          "<b>98199</b><br>",
          "<b>98109</b><br>",
          "<b>98112</b><br>",
          "<b>98199</b><br>",
          "<b>98122</b><br>",
          "<b>98109</b><br>",
          "<b>98122</b><br>",
          "<b>98119</b><br>",
          "<b>98103</b><br>",
          "<b>98112</b><br>",
          "<b>98144</b><br>",
          "<b>98109</b><br>",
          "<b>98119</b><br>",
          "<b>98109</b><br>",
          "<b>98109</b><br>",
          "<b>98112</b><br>",
          "<b>98102</b><br>",
          "<b>98122</b><br>",
          "<b>98122</b><br>",
          "<b>98109</b><br>",
          "<b>98122</b><br>",
          "<b>98199</b><br>",
          "<b>98119</b><br>",
          "<b>98103</b><br>",
          "<b>98103</b><br>",
          "<b>98103</b><br>",
          "<b>98109</b><br>",
          "<b>98144</b><br>",
          "<b>98119</b><br>",
          "<b>98102</b><br>",
          "<b>98103</b><br>",
          "<b>98112</b><br>",
          "<b>98122</b><br>",
          "<b>98112</b><br>",
          "<b>98112</b><br>",
          "<b>98199</b><br>",
          "<b>98122</b><br>",
          "<b>98109</b><br>",
          "<b>98103</b><br>",
          "<b>98112</b><br>",
          "<b>98122</b><br>",
          "<b>98122</b><br>",
          "<b>98103</b><br>",
          "<b>98103</b><br>",
          "<b>98119</b><br>",
          "<b>98116</b><br>",
          "<b>98103</b><br>",
          "<b>98116</b><br>",
          "<b>98122</b><br>",
          "<b>98144</b><br>",
          "<b>98122</b><br>",
          "<b>98119</b><br>",
          "<b>98199</b><br>",
          "<b>98103</b><br>",
          "<b>98112</b><br>",
          "<b>98102</b><br>",
          "<b>98102</b><br>",
          "<b>98112</b><br>",
          "<b>98103</b><br>",
          "<b>98122</b><br>",
          "<b>98102</b><br>",
          "<b>98103</b><br>",
          "<b>98122</b><br>",
          "<b>98122</b><br>",
          "<b>98119</b><br>",
          "<b>98199</b><br>",
          "<b>98199</b><br>",
          "<b>98199</b><br>",
          "<b>98119</b><br>",
          "<b>98103</b><br>",
          "<b>98122</b><br>",
          "<b>98112</b><br>",
          "<b>98112</b><br>",
          "<b>98199</b><br>",
          "<b>98144</b><br>",
          "<b>98109</b><br>",
          "<b>98122</b><br>",
          "<b>98116</b><br>",
          "<b>98199</b><br>",
          "<b>98122</b><br>",
          "<b>98122</b><br>",
          "<b>98103</b><br>",
          "<b>98144</b><br>",
          "<b>98116</b><br>",
          "<b>98112</b><br>",
          "<b>98122</b><br>",
          "<b>98107</b><br>",
          "<b>98112</b><br>",
          "<b>98199</b><br>",
          "<b>98122</b><br>",
          "<b>98122</b><br>",
          "<b>98112</b><br>",
          "<b>98122</b><br>",
          "<b>98103</b><br>",
          "<b>98144</b><br>",
          "<b>98144</b><br>",
          "<b>98199</b><br>",
          "<b>98199</b><br>",
          "<b>98199</b><br>",
          "<b>98199</b><br>",
          "<b>98112</b><br>",
          "<b>98122</b><br>",
          "<b>98119</b><br>",
          "<b>98112</b><br>",
          "<b>98199</b><br>",
          "<b>98119</b><br>",
          "<b>98112</b><br>",
          "<b>98112</b><br>",
          "<b>98199</b><br>",
          "<b>98107</b><br>",
          "<b>98116</b><br>",
          "<b>98199</b><br>",
          "<b>98122</b><br>",
          "<b>98119</b><br>",
          "<b>98103</b><br>",
          "<b>98112</b><br>",
          "<b>98116</b><br>",
          "<b>98144</b><br>",
          "<b>98122</b><br>",
          "<b>98122</b><br>",
          "<b>98119</b><br>",
          "<b>98112</b><br>",
          "<b>98119</b><br>",
          "<b>98112</b><br>",
          "<b>98144</b><br>",
          "<b>98109</b><br>",
          "<b>98112</b><br>",
          "<b>98102</b><br>",
          "<b>98119</b><br>",
          "<b>98112</b><br>",
          "<b>98199</b><br>",
          "<b>98103</b><br>",
          "<b>98119</b><br>",
          "<b>98122</b><br>",
          "<b>98109</b><br>",
          "<b>98199</b><br>",
          "<b>98102</b><br>",
          "<b>98109</b><br>",
          "<b>98199</b><br>",
          "<b>98103</b><br>",
          "<b>98144</b><br>",
          "<b>98122</b><br>",
          "<b>98112</b><br>",
          "<b>98102</b><br>",
          "<b>98112</b><br>",
          "<b>98119</b><br>",
          "<b>98103</b><br>",
          "<b>98119</b><br>",
          "<b>98109</b><br>",
          "<b>98126</b><br>",
          "<b>98199</b><br>",
          "<b>98109</b><br>",
          "<b>98112</b><br>",
          "<b>98116</b><br>",
          "<b>98112</b><br>",
          "<b>98122</b><br>",
          "<b>98116</b><br>",
          "<b>98122</b><br>",
          "<b>98103</b><br>",
          "<b>98109</b><br>",
          "<b>98119</b><br>",
          "<b>98112</b><br>",
          "<b>98102</b><br>",
          "<b>98144</b><br>",
          "<b>98122</b><br>",
          "<b>98199</b><br>",
          "<b>98103</b><br>",
          "<b>98102</b><br>",
          "<b>98199</b><br>",
          "<b>98119</b><br>",
          "<b>98102</b><br>",
          "<b>98109</b><br>",
          "<b>98119</b><br>",
          "<b>98199</b><br>",
          "<b>98119</b><br>",
          "<b>98199</b><br>",
          "<b>98119</b><br>",
          "<b>98119</b><br>",
          "<b>98102</b><br>",
          "<b>98103</b><br>",
          "<b>98199</b><br>",
          "<b>98119</b><br>",
          "<b>98112</b><br>",
          "<b>98102</b><br>",
          "<b>98122</b><br>",
          "<b>98119</b><br>",
          "<b>98122</b><br>",
          "<b>98199</b><br>",
          "<b>98119</b><br>",
          "<b>98199</b><br>",
          "<b>98103</b><br>",
          "<b>98122</b><br>",
          "<b>98199</b><br>",
          "<b>98122</b><br>",
          "<b>98122</b><br>",
          "<b>98112</b><br>",
          "<b>98122</b><br>",
          "<b>98122</b><br>",
          "<b>98103</b><br>",
          "<b>98199</b><br>",
          "<b>98102</b><br>",
          "<b>98122</b><br>",
          "<b>98119</b><br>",
          "<b>98103</b><br>",
          "<b>98109</b><br>",
          "<b>98122</b><br>",
          "<b>98107</b><br>",
          "<b>98112</b><br>",
          "<b>98112</b><br>",
          "<b>98103</b><br>",
          "<b>98122</b><br>",
          "<b>98116</b><br>",
          "<b>98199</b><br>",
          "<b>98103</b><br>",
          "<b>98103</b><br>",
          "<b>98102</b><br>",
          "<b>98122</b><br>",
          "<b>98103</b><br>",
          "<b>98122</b><br>",
          "<b>98119</b><br>",
          "<b>98103</b><br>",
          "<b>98119</b><br>",
          "<b>98199</b><br>",
          "<b>98102</b><br>",
          "<b>98119</b><br>",
          "<b>98109</b><br>",
          "<b>98112</b><br>",
          "<b>98107</b><br>",
          "<b>98119</b><br>",
          "<b>98199</b><br>",
          "<b>98102</b><br>",
          "<b>98122</b><br>",
          "<b>98144</b><br>",
          "<b>98122</b><br>",
          "<b>98116</b><br>",
          "<b>98103</b><br>",
          "<b>98122</b><br>",
          "<b>98103</b><br>",
          "<b>98122</b><br>",
          "<b>98119</b><br>",
          "<b>98103</b><br>",
          "<b>98103</b><br>",
          "<b>98103</b><br>",
          "<b>98112</b><br>",
          "<b>98144</b><br>",
          "<b>98119</b><br>",
          "<b>98112</b><br>",
          "<b>98103</b><br>",
          "<b>98119</b><br>",
          "<b>98122</b><br>",
          "<b>98107</b><br>",
          "<b>98122</b><br>",
          "<b>98103</b><br>",
          "<b>98144</b><br>",
          "<b>98112</b><br>",
          "<b>98122</b><br>",
          "<b>98144</b><br>",
          "<b>98119</b><br>",
          "<b>98144</b><br>",
          "<b>98119</b><br>",
          "<b>98105</b><br>",
          "<b>98119</b><br>",
          "<b>98144</b><br>",
          "<b>98103</b><br>",
          "<b>98103</b><br>",
          "<b>98112</b><br>",
          "<b>98116</b><br>",
          "<b>98112</b><br>",
          "<b>98109</b><br>",
          "<b>98119</b><br>",
          "<b>98199</b><br>",
          "<b>98122</b><br>",
          "<b>98144</b><br>",
          "<b>98122</b><br>",
          "<b>98122</b><br>",
          "<b>98199</b><br>",
          "<b>98122</b><br>",
          "<b>98199</b><br>",
          "<b>98109</b><br>",
          "<b>98122</b><br>",
          "<b>98199</b><br>",
          "<b>98112</b><br>",
          "<b>98102</b><br>",
          "<b>98144</b><br>",
          "<b>98112</b><br>",
          "<b>98102</b><br>",
          "<b>98102</b><br>",
          "<b>98122</b><br>",
          "<b>98112</b><br>",
          "<b>98122</b><br>",
          "<b>98109</b><br>",
          "<b>98122</b><br>",
          "<b>98122</b><br>",
          "<b>98144</b><br>",
          "<b>98119</b><br>",
          "<b>98112</b><br>",
          "<b>98144</b><br>",
          "<b>98199</b><br>",
          "<b>98119</b><br>",
          "<b>98144</b><br>",
          "<b>98112</b><br>",
          "<b>98116</b><br>",
          "<b>98103</b><br>",
          "<b>98199</b><br>",
          "<b>98103</b><br>",
          "<b>98112</b><br>",
          "<b>98109</b><br>",
          "<b>98109</b><br>",
          "<b>98109</b><br>",
          "<b>98122</b><br>",
          "<b>98112</b><br>",
          "<b>98112</b><br>",
          "<b>98119</b><br>",
          "<b>98199</b><br>",
          "<b>98109</b><br>",
          "<b>98122</b><br>",
          "<b>98122</b><br>",
          "<b>98199</b><br>",
          "<b>98122</b><br>",
          "<b>98122</b><br>",
          "<b>98103</b><br>",
          "<b>98122</b><br>",
          "<b>98112</b><br>",
          "<b>98103</b><br>",
          "<b>98199</b><br>",
          "<b>98103</b><br>",
          "<b>98102</b><br>",
          "<b>98122</b><br>",
          "<b>98119</b><br>",
          "<b>98122</b><br>",
          "<b>98116</b><br>",
          "<b>98102</b><br>",
          "<b>98144</b><br>",
          "<b>98122</b><br>",
          "<b>98112</b><br>",
          "<b>98119</b><br>",
          "<b>98122</b><br>",
          "<b>98107</b><br>",
          "<b>98199</b><br>",
          "<b>98116</b><br>",
          "<b>98109</b><br>",
          "<b>98122</b><br>",
          "<b>98126</b><br>",
          "<b>98199</b><br>",
          "<b>98199</b><br>",
          "<b>98144</b><br>",
          "<b>98199</b><br>",
          "<b>98112</b><br>",
          "<b>98116</b><br>",
          "<b>98122</b><br>",
          "<b>98122</b><br>",
          "<b>98112</b><br>",
          "<b>98112</b><br>",
          "<b>98109</b><br>",
          "<b>98112</b><br>",
          "<b>98122</b><br>",
          "<b>98119</b><br>",
          "<b>98122</b><br>",
          "<b>98102</b><br>",
          "<b>98112</b><br>",
          "<b>98144</b><br>",
          "<b>98199</b><br>",
          "<b>98116</b><br>",
          "<b>98102</b><br>",
          "<b>98109</b><br>",
          "<b>98109</b><br>",
          "<b>98119</b><br>",
          "<b>98122</b><br>",
          "<b>98112</b><br>",
          "<b>98144</b><br>",
          "<b>98103</b><br>",
          "<b>98103</b><br>",
          "<b>98199</b><br>",
          "<b>98112</b><br>",
          "<b>98199</b><br>",
          "<b>98122</b><br>",
          "<b>98144</b><br>",
          "<b>98103</b><br>",
          "<b>98144</b><br>",
          "<b>98119</b><br>",
          "<b>98119</b><br>",
          "<b>98122</b><br>",
          "<b>98199</b><br>",
          "<b>98103</b><br>",
          "<b>98122</b><br>",
          "<b>98122</b><br>",
          "<b>98102</b><br>",
          "<b>98122</b><br>",
          "<b>98102</b><br>",
          "<b>98102</b><br>",
          "<b>98119</b><br>",
          "<b>98122</b><br>",
          "<b>98103</b><br>",
          "<b>98199</b><br>",
          "<b>98199</b><br>",
          "<b>98102</b><br>",
          "<b>98122</b><br>",
          "<b>98109</b><br>",
          "<b>98102</b><br>",
          "<b>98103</b><br>",
          "<b>98112</b><br>",
          "<b>98116</b><br>",
          "<b>98103</b><br>",
          "<b>98116</b><br>",
          "<b>98122</b><br>",
          "<b>98199</b><br>",
          "<b>98122</b><br>",
          "<b>98122</b><br>",
          "<b>98103</b><br>",
          "<b>98112</b><br>",
          "<b>98199</b><br>",
          "<b>98107</b><br>",
          "<b>98199</b><br>",
          "<b>98144</b><br>",
          "<b>98122</b><br>",
          "<b>98122</b><br>",
          "<b>98122</b><br>",
          "<b>98102</b><br>",
          "<b>98112</b><br>",
          "<b>98144</b><br>",
          "<b>98122</b><br>",
          "<b>98119</b><br>",
          "<b>98109</b><br>",
          "<b>98103</b><br>",
          "<b>98112</b><br>",
          "<b>98109</b><br>",
          "<b>98102</b><br>",
          "<b>98102</b><br>",
          "<b>98109</b><br>",
          "<b>98112</b><br>",
          "<b>98109</b><br>",
          "<b>98103</b><br>",
          "<b>98103</b><br>",
          "<b>98119</b><br>",
          "<b>98112</b><br>",
          "<b>98199</b><br>",
          "<b>98109</b><br>",
          "<b>98103</b><br>",
          "<b>98103</b><br>",
          "<b>98109</b><br>",
          "<b>98112</b><br>",
          "<b>98122</b><br>",
          "<b>98199</b><br>",
          "<b>98119</b><br>",
          "<b>98103</b><br>",
          "<b>98119</b><br>",
          "<b>98122</b><br>",
          "<b>98112</b><br>",
          "<b>98122</b><br>",
          "<b>98119</b><br>",
          "<b>98122</b><br>",
          "<b>98116</b><br>",
          "<b>98199</b><br>",
          "<b>98103</b><br>",
          "<b>98122</b><br>",
          "<b>98119</b><br>",
          "<b>98112</b><br>",
          "<b>98103</b><br>",
          "<b>98103</b><br>",
          "<b>98112</b><br>",
          "<b>98122</b><br>",
          "<b>98199</b><br>",
          "<b>98102</b><br>",
          "<b>98109</b><br>",
          "<b>98199</b><br>",
          "<b>98107</b><br>",
          "<b>98122</b><br>",
          "<b>98122</b><br>",
          "<b>98103</b><br>",
          "<b>98112</b><br>",
          "<b>98122</b><br>",
          "<b>98109</b><br>",
          "<b>98112</b><br>",
          "<b>98112</b><br>",
          "<b>98103</b><br>",
          "<b>98112</b><br>",
          "<b>98103</b><br>",
          "<b>98112</b><br>",
          "<b>98199</b><br>",
          "<b>98109</b><br>",
          "<b>98107</b><br>",
          "<b>98103</b><br>",
          "<b>98103</b><br>",
          "<b>98103</b><br>",
          "<b>98122</b><br>",
          "<b>98103</b><br>",
          "<b>98199</b><br>",
          "<b>98122</b><br>",
          "<b>98112</b><br>",
          "<b>98122</b><br>",
          "<b>98119</b><br>",
          "<b>98144</b><br>",
          "<b>98199</b><br>",
          "<b>98119</b><br>",
          "<b>98103</b><br>",
          "<b>98122</b><br>",
          "<b>98122</b><br>",
          "<b>98109</b><br>",
          "<b>98107</b><br>",
          "<b>98105</b><br>",
          "<b>98103</b><br>",
          "<b>98122</b><br>",
          "<b>98112</b><br>",
          "<b>98199</b><br>",
          "<b>98119</b><br>",
          "<b>98112</b><br>",
          "<b>98103</b><br>",
          "<b>98102</b><br>",
          "<b>98103</b><br>",
          "<b>98112</b><br>",
          "<b>98102</b><br>",
          "<b>98119</b><br>",
          "<b>98122</b><br>",
          "<b>98122</b><br>",
          "<b>98102</b><br>",
          "<b>98103</b><br>",
          "<b>98109</b><br>",
          "<b>98199</b><br>",
          "<b>98122</b><br>",
          "<b>98109</b><br>",
          "<b>98116</b><br>",
          "<b>98122</b><br>",
          "<b>98199</b><br>",
          "<b>98144</b><br>",
          "<b>98112</b><br>",
          "<b>98112</b><br>",
          "<b>98103</b><br>",
          "<b>98122</b><br>",
          "<b>98199</b><br>",
          "<b>98122</b><br>",
          "<b>98122</b><br>",
          "<b>98112</b><br>",
          "<b>98122</b><br>",
          "<b>98126</b><br>",
          "<b>98102</b><br>",
          "<b>98119</b><br>",
          "<b>98122</b><br>",
          "<b>98107</b><br>",
          "<b>98119</b><br>",
          "<b>98122</b><br>",
          "<b>98102</b><br>",
          "<b>98122</b><br>",
          "<b>98122</b><br>",
          "<b>98119</b><br>",
          "<b>98112</b><br>",
          "<b>98122</b><br>",
          "<b>98119</b><br>",
          "<b>98199</b><br>",
          "<b>98103</b><br>",
          "<b>98103</b><br>",
          "<b>98144</b><br>",
          "<b>98122</b><br>",
          "<b>98116</b><br>",
          "<b>98103</b><br>",
          "<b>98199</b><br>",
          "<b>98144</b><br>",
          "<b>98102</b><br>",
          "<b>98199</b><br>",
          "<b>98119</b><br>",
          "<b>98112</b><br>",
          "<b>98122</b><br>",
          "<b>98112</b><br>",
          "<b>98122</b><br>",
          "<b>98103</b><br>",
          "<b>98119</b><br>",
          "<b>98119</b><br>",
          "<b>98119</b><br>",
          "<b>98105</b><br>",
          "<b>98103</b><br>",
          "<b>98122</b><br>",
          "<b>98122</b><br>",
          "<b>98109</b><br>",
          "<b>98122</b><br>",
          "<b>98103</b><br>",
          "<b>98109</b><br>",
          "<b>98102</b><br>",
          "<b>98119</b><br>",
          "<b>98122</b><br>",
          "<b>98103</b><br>",
          "<b>98105</b><br>",
          "<b>98103</b><br>",
          "<b>98116</b><br>",
          "<b>98122</b><br>",
          "<b>98102</b><br>",
          "<b>98144</b><br>",
          "<b>98122</b><br>",
          "<b>98119</b><br>",
          "<b>98122</b><br>",
          "<b>98109</b><br>",
          "<b>98119</b><br>",
          "<b>98107</b><br>",
          "<b>98126</b><br>",
          "<b>98199</b><br>",
          "<b>98107</b><br>",
          "<b>98122</b><br>",
          "<b>98109</b><br>",
          "<b>98119</b><br>",
          "<b>98116</b><br>",
          "<b>98119</b><br>",
          "<b>98102</b><br>",
          "<b>98109</b><br>",
          "<b>98112</b><br>",
          "<b>98144</b><br>",
          "<b>98119</b><br>",
          "<b>98199</b><br>",
          "<b>98199</b><br>",
          "<b>98199</b><br>",
          "<b>98119</b><br>",
          "<b>98119</b><br>",
          "<b>98122</b><br>",
          "<b>98119</b><br>",
          "<b>98112</b><br>",
          "<b>98144</b><br>",
          "<b>98122</b><br>",
          "<b>98199</b><br>",
          "<b>98122</b><br>",
          "<b>98116</b><br>",
          "<b>98144</b><br>",
          "<b>98119</b><br>",
          "<b>98122</b><br>",
          "<b>98103</b><br>",
          "<b>98144</b><br>",
          "<b>98119</b><br>",
          "<b>98109</b><br>",
          "<b>98116</b><br>",
          "<b>98112</b><br>",
          "<b>98119</b><br>",
          "<b>98102</b><br>",
          "<b>98199</b><br>",
          "<b>98122</b><br>",
          "<b>98103</b><br>",
          "<b>98112</b><br>",
          "<b>98119</b><br>",
          "<b>98119</b><br>",
          "<b>98122</b><br>",
          "<b>98103</b><br>",
          "<b>98199</b><br>",
          "<b>98199</b><br>",
          "<b>98105</b><br>",
          "<b>98102</b><br>",
          "<b>98144</b><br>",
          "<b>98199</b><br>",
          "<b>98199</b><br>",
          "<b>98102</b><br>",
          "<b>98112</b><br>",
          "<b>98109</b><br>",
          "<b>98122</b><br>",
          "<b>98122</b><br>",
          "<b>98122</b><br>",
          "<b>98122</b><br>",
          "<b>98103</b><br>",
          "<b>98119</b><br>",
          "<b>98107</b><br>",
          "<b>98102</b><br>",
          "<b>98103</b><br>",
          "<b>98103</b><br>",
          "<b>98112</b><br>",
          "<b>98112</b><br>",
          "<b>98116</b><br>",
          "<b>98144</b><br>",
          "<b>98103</b><br>",
          "<b>98103</b><br>",
          "<b>98112</b><br>",
          "<b>98199</b><br>",
          "<b>98199</b><br>",
          "<b>98119</b><br>",
          "<b>98144</b><br>",
          "<b>98103</b><br>",
          "<b>98119</b><br>",
          "<b>98199</b><br>",
          "<b>98122</b><br>",
          "<b>98112</b><br>",
          "<b>98122</b><br>",
          "<b>98122</b><br>",
          "<b>98144</b><br>",
          "<b>98102</b><br>",
          "<b>98112</b><br>",
          "<b>98116</b><br>",
          "<b>98112</b><br>",
          "<b>98102</b><br>",
          "<b>98102</b><br>",
          "<b>98144</b><br>",
          "<b>98144</b><br>",
          "<b>98122</b><br>",
          "<b>98119</b><br>",
          "<b>98199</b><br>",
          "<b>98122</b><br>",
          "<b>98103</b><br>",
          "<b>98119</b><br>",
          "<b>98199</b><br>",
          "<b>98119</b><br>",
          "<b>98122</b><br>",
          "<b>98199</b><br>",
          "<b>98103</b><br>",
          "<b>98109</b><br>",
          "<b>98103</b><br>",
          "<b>98119</b><br>",
          "<b>98112</b><br>",
          "<b>98122</b><br>",
          "<b>98144</b><br>",
          "<b>98103</b><br>",
          "<b>98102</b><br>",
          "<b>98122</b><br>",
          "<b>98103</b><br>",
          "<b>98122</b><br>",
          "<b>98119</b><br>",
          "<b>98103</b><br>",
          "<b>98199</b><br>",
          "<b>98199</b><br>",
          "<b>98103</b><br>",
          "<b>98103</b><br>",
          "<b>98103</b><br>",
          "<b>98102</b><br>",
          "<b>98122</b><br>",
          "<b>98112</b><br>",
          "<b>98144</b><br>",
          "<b>98102</b><br>",
          "<b>98112</b><br>",
          "<b>98107</b><br>",
          "<b>98112</b><br>",
          "<b>98144</b><br>",
          "<b>98122</b><br>",
          "<b>98103</b><br>",
          "<b>98122</b><br>",
          "<b>98119</b><br>",
          "<b>98102</b><br>",
          "<b>98199</b><br>",
          "<b>98112</b><br>",
          "<b>98122</b><br>",
          "<b>98122</b><br>",
          "<b>98107</b><br>",
          "<b>98199</b><br>",
          "<b>98119</b><br>",
          "<b>98107</b><br>",
          "<b>98122</b><br>",
          "<b>98109</b><br>",
          "<b>98199</b><br>",
          "<b>98103</b><br>",
          "<b>98119</b><br>",
          "<b>98122</b><br>",
          "<b>98112</b><br>",
          "<b>98103</b><br>",
          "<b>98103</b><br>",
          "<b>98122</b><br>",
          "<b>98112</b><br>",
          "<b>98109</b><br>",
          "<b>98119</b><br>",
          "<b>98109</b><br>",
          "<b>98119</b><br>",
          "<b>98109</b><br>",
          "<b>98109</b><br>",
          "<b>98109</b><br>",
          "<b>98122</b><br>",
          "<b>98199</b><br>",
          "<b>98119</b><br>",
          "<b>98102</b><br>",
          "<b>98122</b><br>",
          "<b>98119</b><br>",
          "<b>98122</b><br>",
          "<b>98199</b><br>",
          "<b>98144</b><br>",
          "<b>98112</b><br>",
          "<b>98199</b><br>",
          "<b>98109</b><br>",
          "<b>98116</b><br>",
          "<b>98199</b><br>",
          "<b>98112</b><br>",
          "<b>98112</b><br>",
          "<b>98103</b><br>",
          "<b>98112</b><br>",
          "<b>98109</b><br>",
          "<b>98112</b><br>",
          "<b>98119</b><br>",
          "<b>98144</b><br>",
          "<b>98199</b><br>",
          "<b>98122</b><br>",
          "<b>98199</b><br>",
          "<b>98103</b><br>",
          "<b>98199</b><br>",
          "<b>98119</b><br>",
          "<b>98122</b><br>",
          "<b>98119</b><br>",
          "<b>98103</b><br>",
          "<b>98103</b><br>",
          "<b>98103</b><br>",
          "<b>98102</b><br>",
          "<b>98199</b><br>",
          "<b>98103</b><br>",
          "<b>98122</b><br>",
          "<b>98144</b><br>",
          "<b>98112</b><br>",
          "<b>98144</b><br>",
          "<b>98119</b><br>",
          "<b>98199</b><br>",
          "<b>98119</b><br>",
          "<b>98144</b><br>",
          "<b>98122</b><br>",
          "<b>98122</b><br>",
          "<b>98199</b><br>",
          "<b>98119</b><br>",
          "<b>98103</b><br>",
          "<b>98199</b><br>",
          "<b>98102</b><br>",
          "<b>98122</b><br>",
          "<b>98112</b><br>",
          "<b>98103</b><br>",
          "<b>98119</b><br>",
          "<b>98199</b><br>",
          "<b>98119</b><br>",
          "<b>98144</b><br>",
          "<b>98103</b><br>",
          "<b>98144</b><br>",
          "<b>98119</b><br>",
          "<b>98122</b><br>",
          "<b>98119</b><br>",
          "<b>98102</b><br>",
          "<b>98112</b><br>",
          "<b>98119</b><br>",
          "<b>98112</b><br>",
          "<b>98112</b><br>",
          "<b>98119</b><br>",
          "<b>98122</b><br>",
          "<b>98199</b><br>",
          "<b>98112</b><br>",
          "<b>98103</b><br>",
          "<b>98122</b><br>",
          "<b>98199</b><br>",
          "<b>98112</b><br>",
          "<b>98144</b><br>",
          "<b>98122</b><br>",
          "<b>98122</b><br>",
          "<b>98199</b><br>",
          "<b>98112</b><br>",
          "<b>98112</b><br>",
          "<b>98199</b><br>",
          "<b>98116</b><br>",
          "<b>98122</b><br>",
          "<b>98122</b><br>",
          "<b>98119</b><br>",
          "<b>98103</b><br>",
          "<b>98119</b><br>",
          "<b>98102</b><br>",
          "<b>98109</b><br>",
          "<b>98122</b><br>",
          "<b>98122</b><br>",
          "<b>98119</b><br>",
          "<b>98119</b><br>",
          "<b>98112</b><br>",
          "<b>98103</b><br>",
          "<b>98109</b><br>",
          "<b>98112</b><br>",
          "<b>98119</b><br>",
          "<b>98109</b><br>",
          "<b>98112</b><br>",
          "<b>98199</b><br>",
          "<b>98103</b><br>",
          "<b>98144</b><br>",
          "<b>98102</b><br>",
          "<b>98102</b><br>",
          "<b>98103</b><br>",
          "<b>98144</b><br>",
          "<b>98112</b><br>",
          "<b>98199</b><br>",
          "<b>98105</b><br>",
          "<b>98112</b><br>",
          "<b>98119</b><br>",
          "<b>98122</b><br>",
          "<b>98199</b><br>",
          "<b>98199</b><br>",
          "<b>98102</b><br>",
          "<b>98199</b><br>",
          "<b>98103</b><br>",
          "<b>98105</b><br>",
          "<b>98102</b><br>",
          "<b>98102</b><br>",
          "<b>98199</b><br>",
          "<b>98122</b><br>",
          "<b>98107</b><br>",
          "<b>98112</b><br>",
          "<b>98103</b><br>",
          "<b>98112</b><br>",
          "<b>98112</b><br>",
          "<b>98122</b><br>",
          "<b>98112</b><br>",
          "<b>98119</b><br>",
          "<b>98116</b><br>",
          "<b>98144</b><br>",
          "<b>98103</b><br>",
          "<b>98107</b><br>",
          "<b>98112</b><br>",
          "<b>98103</b><br>",
          "<b>98103</b><br>",
          "<b>98103</b><br>",
          "<b>98122</b><br>",
          "<b>98122</b><br>",
          "<b>98103</b><br>",
          "<b>98199</b><br>",
          "<b>98119</b><br>",
          "<b>98144</b><br>",
          "<b>98199</b><br>",
          "<b>98144</b><br>",
          "<b>98109</b><br>",
          "<b>98103</b><br>",
          "<b>98119</b><br>",
          "<b>98103</b><br>",
          "<b>98103</b><br>",
          "<b>98199</b><br>",
          "<b>98122</b><br>",
          "<b>98122</b><br>",
          "<b>98112</b><br>",
          "<b>98119</b><br>",
          "<b>98112</b><br>",
          "<b>98109</b><br>",
          "<b>98116</b><br>",
          "<b>98112</b><br>",
          "<b>98102</b><br>",
          "<b>98112</b><br>",
          "<b>98109</b><br>",
          "<b>98109</b><br>",
          "<b>98109</b><br>",
          "<b>98122</b><br>",
          "<b>98112</b><br>",
          "<b>98109</b><br>",
          "<b>98144</b><br>",
          "<b>98119</b><br>",
          "<b>98112</b><br>",
          "<b>98199</b><br>",
          "<b>98199</b><br>",
          "<b>98199</b><br>",
          "<b>98112</b><br>",
          "<b>98122</b><br>",
          "<b>98122</b><br>",
          "<b>98122</b><br>",
          "<b>98122</b><br>",
          "<b>98122</b><br>",
          "<b>98122</b><br>",
          "<b>98107</b><br>",
          "<b>98103</b><br>",
          "<b>98109</b><br>",
          "<b>98109</b><br>",
          "<b>98119</b><br>",
          "<b>98122</b><br>",
          "<b>98122</b><br>",
          "<b>98103</b><br>",
          "<b>98119</b><br>",
          "<b>98119</b><br>",
          "<b>98199</b><br>",
          "<b>98119</b><br>",
          "<b>98103</b><br>",
          "<b>98122</b><br>",
          "<b>98122</b><br>",
          "<b>98105</b><br>",
          "<b>98102</b><br>",
          "<b>98119</b><br>",
          "<b>98109</b><br>",
          "<b>98122</b><br>",
          "<b>98199</b><br>",
          "<b>98103</b><br>",
          "<b>98122</b><br>",
          "<b>98109</b><br>",
          "<b>98103</b><br>",
          "<b>98103</b><br>",
          "<b>98122</b><br>",
          "<b>98112</b><br>",
          "<b>98112</b><br>",
          "<b>98116</b><br>",
          "<b>98112</b><br>",
          "<b>98109</b><br>",
          "<b>98103</b><br>",
          "<b>98122</b><br>",
          "<b>98112</b><br>",
          "<b>98103</b><br>",
          "<b>98109</b><br>",
          "<b>98199</b><br>",
          "<b>98103</b><br>",
          "<b>98119</b><br>",
          "<b>98199</b><br>",
          "<b>98103</b><br>",
          "<b>98119</b><br>",
          "<b>98122</b><br>",
          "<b>98119</b><br>",
          "<b>98122</b><br>",
          "<b>98199</b><br>",
          "<b>98119</b><br>",
          "<b>98199</b><br>",
          "<b>98199</b><br>",
          "<b>98112</b><br>",
          "<b>98112</b><br>",
          "<b>98122</b><br>",
          "<b>98103</b><br>",
          "<b>98103</b><br>",
          "<b>98122</b><br>",
          "<b>98103</b><br>",
          "<b>98144</b><br>",
          "<b>98112</b><br>",
          "<b>98103</b><br>",
          "<b>98122</b><br>",
          "<b>98103</b><br>",
          "<b>98144</b><br>",
          "<b>98116</b><br>",
          "<b>98144</b><br>",
          "<b>98119</b><br>",
          "<b>98103</b><br>",
          "<b>98116</b><br>",
          "<b>98122</b><br>",
          "<b>98122</b><br>",
          "<b>98107</b><br>",
          "<b>98116</b><br>",
          "<b>98122</b><br>",
          "<b>98103</b><br>",
          "<b>98199</b><br>",
          "<b>98122</b><br>",
          "<b>98122</b><br>",
          "<b>98119</b><br>",
          "<b>98112</b><br>",
          "<b>98109</b><br>",
          "<b>98112</b><br>",
          "<b>98122</b><br>",
          "<b>98103</b><br>",
          "<b>98199</b><br>",
          "<b>98112</b><br>",
          "<b>98144</b><br>",
          "<b>98122</b><br>",
          "<b>98102</b><br>",
          "<b>98119</b><br>",
          "<b>98102</b><br>",
          "<b>98103</b><br>",
          "<b>98109</b><br>",
          "<b>98102</b><br>",
          "<b>98103</b><br>",
          "<b>98122</b><br>",
          "<b>98199</b><br>",
          "<b>98109</b><br>",
          "<b>98199</b><br>",
          "<b>98119</b><br>",
          "<b>98103</b><br>",
          "<b>98103</b><br>",
          "<b>98122</b><br>",
          "<b>98102</b><br>",
          "<b>98122</b><br>",
          "<b>98144</b><br>",
          "<b>98103</b><br>",
          "<b>98112</b><br>",
          "<b>98122</b><br>",
          "<b>98122</b><br>",
          "<b>98122</b><br>",
          "<b>98103</b><br>",
          "<b>98144</b><br>",
          "<b>98103</b><br>",
          "<b>98199</b><br>",
          "<b>98122</b><br>",
          "<b>98144</b><br>",
          "<b>98199</b><br>",
          "<b>98103</b><br>",
          "<b>98103</b><br>",
          "<b>98103</b><br>",
          "<b>98112</b><br>",
          "<b>98122</b><br>",
          "<b>98144</b><br>",
          "<b>98102</b><br>",
          "<b>98103</b><br>",
          "<b>98122</b><br>",
          "<b>98122</b><br>",
          "<b>98103</b><br>",
          "<b>98103</b><br>",
          "<b>98112</b><br>",
          "<b>98103</b><br>",
          "<b>98122</b><br>",
          "<b>98102</b><br>",
          "<b>98102</b><br>",
          "<b>98144</b><br>",
          "<b>98199</b><br>",
          "<b>98144</b><br>",
          "<b>98144</b><br>",
          "<b>98119</b><br>",
          "<b>98109</b><br>",
          "<b>98119</b><br>",
          "<b>98122</b><br>",
          "<b>98116</b><br>",
          "<b>98102</b><br>",
          "<b>98112</b><br>",
          "<b>98119</b><br>",
          "<b>98103</b><br>",
          "<b>98102</b><br>",
          "<b>98122</b><br>",
          "<b>98122</b><br>",
          "<b>98144</b><br>",
          "<b>98144</b><br>",
          "<b>98102</b><br>",
          "<b>98109</b><br>",
          "<b>98102</b><br>",
          "<b>98103</b><br>",
          "<b>98122</b><br>",
          "<b>98112</b><br>",
          "<b>98122</b><br>",
          "<b>98103</b><br>",
          "<b>98107</b><br>",
          "<b>98199</b><br>",
          "<b>98102</b><br>",
          "<b>98144</b><br>",
          "<b>98119</b><br>",
          "<b>98144</b><br>",
          "<b>98122</b><br>",
          "<b>98122</b><br>",
          "<b>98119</b><br>",
          "<b>98102</b><br>",
          "<b>98103</b><br>",
          "<b>98102</b><br>",
          "<b>98109</b><br>",
          "<b>98122</b><br>",
          "<b>98199</b><br>",
          "<b>98109</b><br>",
          "<b>98122</b><br>",
          "<b>98122</b><br>",
          "<b>98103</b><br>",
          "<b>98144</b><br>",
          "<b>98103</b><br>",
          "<b>98122</b><br>",
          "<b>98116</b><br>",
          "<b>98109</b><br>",
          "<b>98122</b><br>",
          "<b>98119</b><br>",
          "<b>98122</b><br>",
          "<b>98102</b><br>",
          "<b>98107</b><br>",
          "<b>98112</b><br>",
          "<b>98119</b><br>",
          "<b>98199</b><br>",
          "<b>98144</b><br>",
          "<b>98103</b><br>",
          "<b>98119</b><br>",
          "<b>98199</b><br>",
          "<b>98102</b><br>",
          "<b>98122</b><br>",
          "<b>98122</b><br>",
          "<b>98103</b><br>",
          "<b>98103</b><br>",
          "<b>98103</b><br>",
          "<b>98119</b><br>",
          "<b>98103</b><br>",
          "<b>98103</b><br>",
          "<b>98119</b><br>",
          "<b>98122</b><br>",
          "<b>98119</b><br>",
          "<b>98103</b><br>",
          "<b>98119</b><br>",
          "<b>98119</b><br>",
          "<b>98144</b><br>",
          "<b>98103</b><br>",
          "<b>98103</b><br>",
          "<b>98122</b><br>",
          "<b>98116</b><br>",
          "<b>98122</b><br>",
          "<b>98103</b><br>",
          "<b>98105</b><br>",
          "<b>98103</b><br>",
          "<b>98199</b><br>",
          "<b>98103</b><br>",
          "<b>98103</b><br>",
          "<b>98122</b><br>",
          "<b>98103</b><br>",
          "<b>98112</b><br>",
          "<b>98119</b><br>",
          "<b>98122</b><br>",
          "<b>98109</b><br>",
          "<b>98103</b><br>",
          "<b>98144</b><br>",
          "<b>98119</b><br>",
          "<b>98102</b><br>",
          "<b>98103</b><br>",
          "<b>98103</b><br>"
         ],
         "hovertext": [
          937000,
          667000,
          685000,
          425000,
          940000,
          1100000,
          850830,
          665000,
          890000,
          560000,
          425000,
          385000,
          615000,
          410000,
          780000,
          425000,
          725000,
          834000,
          548000,
          740000,
          435000,
          557000,
          450000,
          375000,
          490000,
          625000,
          615000,
          595000,
          610000,
          650000,
          640000,
          650000,
          559950,
          865000,
          485000,
          493000,
          715000,
          650000,
          419000,
          1100000,
          910000,
          930000,
          700000,
          466000,
          1010000,
          915000,
          720000,
          700000,
          425000,
          700000,
          429000,
          543115,
          980000,
          410000,
          699000,
          550000,
          515000,
          775000,
          490000,
          453500,
          631000,
          609850,
          690000,
          505000,
          380000,
          725000,
          655000,
          479000,
          682000,
          831000,
          600000,
          625000,
          495000,
          464950,
          842500,
          815000,
          749950,
          830000,
          715000,
          352950,
          707500,
          499950,
          850000,
          550000,
          610000,
          895000,
          349500,
          169317,
          880000,
          570000,
          490000,
          550000,
          635000,
          600000,
          800000,
          469000,
          487250,
          712000,
          950000,
          580000,
          805000,
          625000,
          618000,
          345000,
          599000,
          1050000,
          605000,
          725000,
          625000,
          1020000,
          580000,
          875000,
          800000,
          491000,
          852000,
          440000,
          570000,
          638000,
          460000,
          783000,
          1050000,
          608000,
          1000000,
          500000,
          660000,
          569000,
          585000,
          545000,
          290000,
          700000,
          415000,
          595000,
          785000,
          890000,
          499000,
          695000,
          450000,
          558000,
          820000,
          412000,
          373500,
          780000,
          390000,
          425000,
          534000,
          856000,
          582000,
          479000,
          700000,
          313000,
          415000,
          510000,
          495000,
          604000,
          570000,
          441000,
          800000,
          728000,
          708000,
          691000,
          975000,
          350000,
          640000,
          752500,
          580000,
          345000,
          402500,
          450000,
          440000,
          710000,
          680000,
          374950,
          464000,
          439000,
          1100000,
          885000,
          820000,
          487028,
          247300,
          430000,
          553650,
          390000,
          955500,
          640000,
          629000,
          525000,
          700000,
          548500,
          494400,
          862000,
          933000,
          563000,
          777000,
          695000,
          397000,
          430000,
          579000,
          500000,
          549000,
          750000,
          440000,
          795000,
          736000,
          790000,
          330000,
          716000,
          965000,
          825000,
          880000,
          665000,
          210000,
          202000,
          720000,
          762000,
          550000,
          761000,
          625000,
          399950,
          545000,
          585000,
          1050000,
          755000,
          509500,
          475000,
          700000,
          710000,
          1010000,
          585000,
          649950,
          395000,
          659950,
          926300,
          796000,
          680000,
          425000,
          819000,
          500000,
          840000,
          520000,
          716000,
          785200,
          875000,
          530000,
          1020000,
          725000,
          302000,
          886000,
          670000,
          650000,
          690000,
          558000,
          670000,
          775000,
          323000,
          750000,
          800000,
          497000,
          716100,
          895000,
          650500,
          550000,
          950000,
          840000,
          465000,
          278000,
          568000,
          860000,
          798750,
          515000,
          600000,
          430000,
          475000,
          420000,
          800000,
          832600,
          755000,
          700000,
          525000,
          792500,
          648475,
          760000,
          485000,
          625000,
          779000,
          935000,
          823000,
          525000,
          540000,
          719000,
          640000,
          682000,
          578888,
          302282,
          710000,
          480000,
          720000,
          1000000,
          770000,
          404500,
          800000,
          739375,
          665000,
          450000,
          435000,
          860000,
          295000,
          370000,
          345000,
          399000,
          449950,
          230000,
          595000,
          350000,
          925000,
          575000,
          750000,
          677000,
          526000,
          620000,
          724800,
          1050000,
          920000,
          680000,
          650000,
          415000,
          330000,
          495000,
          345000,
          863500,
          517500,
          382000,
          575000,
          626700,
          421500,
          535000,
          650000,
          635000,
          525000,
          675000,
          670000,
          799200,
          550000,
          751750,
          580000,
          755000,
          260000,
          430000,
          384000,
          817000,
          690500,
          350000,
          473000,
          940000,
          595000,
          950000,
          810000,
          550000,
          503500,
          539000,
          750000,
          740000,
          990000,
          700000,
          390000,
          508000,
          685000,
          900000,
          710000,
          546000,
          612000,
          591000,
          650000,
          447500,
          690000,
          560000,
          631000,
          560000,
          499950,
          990000,
          587206,
          482000,
          750000,
          605000,
          605000,
          738000,
          900000,
          304000,
          375000,
          1050000,
          606400,
          440000,
          767500,
          654000,
          570000,
          595000,
          250000,
          295000,
          585000,
          450000,
          339950,
          615000,
          1030000,
          375000,
          450000,
          935000,
          809000,
          1050000,
          625000,
          575000,
          387500,
          865000,
          507200,
          960000,
          1110000,
          345000,
          592500,
          410000,
          626000,
          658000,
          620000,
          585000,
          387000,
          713500,
          300000,
          585000,
          785000,
          525000,
          332000,
          895000,
          622000,
          390000,
          775000,
          455000,
          825000,
          560000,
          485500,
          560000,
          459500,
          733500,
          613000,
          350000,
          650000,
          525000,
          875000,
          756000,
          446000,
          510000,
          1110000,
          640000,
          752000,
          470000,
          1010000,
          440000,
          588000,
          958000,
          540000,
          760500,
          490000,
          460000,
          640000,
          659000,
          1000000,
          604000,
          1010000,
          601000,
          455000,
          875000,
          190500,
          482500,
          454000,
          552500,
          1050000,
          680000,
          431000,
          770000,
          952000,
          625000,
          842000,
          883000,
          570000,
          660000,
          670000,
          1070000,
          490000,
          465000,
          715000,
          780000,
          370000,
          727000,
          1100000,
          925000,
          533000,
          913000,
          792000,
          375000,
          500000,
          425000,
          600000,
          850000,
          365000,
          615000,
          785950,
          563250,
          608000,
          358000,
          920000,
          505000,
          432000,
          390000,
          780000,
          500000,
          920000,
          475000,
          650000,
          448175,
          494000,
          1100000,
          885000,
          386000,
          563000,
          317500,
          535000,
          749500,
          1050000,
          497000,
          655000,
          632750,
          808000,
          578500,
          620000,
          435000,
          1100000,
          550000,
          660000,
          775000,
          657100,
          485000,
          720001,
          625000,
          829000,
          575000,
          601000,
          462500,
          500000,
          750000,
          443000,
          979700,
          750000,
          601450,
          575000,
          630000,
          650000,
          402500,
          465000,
          770000,
          510000,
          480000,
          951250,
          783200,
          563225,
          645000,
          995000,
          738000,
          489000,
          615000,
          595000,
          428000,
          520000,
          555000,
          521000,
          825000,
          976000,
          600000,
          485000,
          462500,
          440000,
          535000,
          360000,
          463000,
          675000,
          875000,
          360000,
          535000,
          742500,
          408000,
          998500,
          500000,
          870000,
          690000,
          629950,
          660000,
          595000,
          595000,
          640000,
          635000,
          549000,
          436000,
          740000,
          695000,
          687500,
          874000,
          790000,
          565000,
          438600,
          499950,
          920000,
          568000,
          543000,
          855000,
          499000,
          615000,
          950000,
          808250,
          479000,
          680000,
          625000,
          625000,
          565000,
          613000,
          472000,
          800000,
          550000,
          675000,
          332888,
          400000,
          740000,
          370000,
          870300,
          410500,
          402000,
          636000,
          900000,
          525000,
          785000,
          831000,
          750000,
          739000,
          845000,
          350000,
          700000,
          605000,
          575000,
          885000,
          700000,
          710500,
          1020000,
          565000,
          545000,
          518000,
          524000,
          570500,
          705000,
          840500,
          530000,
          550000,
          940000,
          375000,
          608000,
          990000,
          478000,
          469775,
          677915,
          670000,
          458500,
          705000,
          747000,
          450000,
          510000,
          395000,
          498000,
          850000,
          388500,
          614950,
          998500,
          580000,
          300000,
          870000,
          931000,
          677500,
          600000,
          710000,
          525000,
          658500,
          455000,
          543000,
          1010000,
          683500,
          499950,
          602000,
          781000,
          905000,
          717500,
          435000,
          800000,
          520000,
          375000,
          810000,
          690000,
          785000,
          860000,
          485000,
          375000,
          400000,
          505000,
          390000,
          780000,
          460000,
          825000,
          550000,
          597000,
          910000,
          1020000,
          775000,
          400000,
          705000,
          575000,
          690000,
          950000,
          640000,
          850000,
          345000,
          712500,
          589000,
          485000,
          750000,
          834000,
          518000,
          915000,
          355000,
          920000,
          640000,
          715000,
          750000,
          675000,
          810000,
          295000,
          750000,
          427500,
          525000,
          824000,
          689888,
          705000,
          815000,
          862500,
          589000,
          655000,
          487500,
          575000,
          848000,
          570000,
          775000,
          600000,
          546000,
          450000,
          725000,
          550000,
          593000,
          525000,
          825000,
          782000,
          488000,
          500000,
          508000,
          355000,
          1030000,
          930000,
          1050000,
          592500,
          525000,
          569500,
          729000,
          721000,
          550000,
          465000,
          435000,
          560000,
          513000,
          365000,
          300523,
          952000,
          825000,
          605000,
          638000,
          599000,
          530000,
          671000,
          385000,
          724950,
          432500,
          1110000,
          970000,
          562500,
          447000,
          905000,
          683000,
          650000,
          380000,
          660000,
          600000,
          872500,
          735000,
          930000,
          612125,
          710000,
          915000,
          935000,
          480000,
          607500,
          1120000,
          550000,
          493000,
          650000,
          546000,
          700000,
          431000,
          1050000,
          730000,
          797000,
          723000,
          740000,
          570000,
          680000,
          640000,
          700000,
          642000,
          855000,
          989000,
          336000,
          784000,
          540000,
          696000,
          500000,
          994000,
          525000,
          850000,
          615000,
          608000,
          500000,
          509000,
          505000,
          396500,
          600000,
          589000,
          600000,
          780500,
          450000,
          840000,
          750000,
          865000,
          261500,
          550000,
          847000,
          672500,
          620000,
          620000,
          1030000,
          475000,
          890000,
          575000,
          580000,
          629950,
          578000,
          575000,
          352750,
          677000,
          410000,
          625000,
          619500,
          485000,
          403950,
          1000000,
          980000,
          950000,
          799500,
          1020000,
          590000,
          540000,
          1050000,
          569000,
          890000,
          450000,
          540000,
          364000,
          425000,
          835000,
          1020000,
          610000,
          427000,
          736500,
          542500,
          720000,
          730000,
          975000,
          645000,
          636100,
          670500,
          988000,
          350000,
          590000,
          499000,
          629950,
          669000,
          747000,
          427500,
          739000,
          525000,
          826000,
          842500,
          334000,
          480000,
          353500,
          979700,
          407500,
          474800,
          395000,
          1050000,
          1050000,
          650000,
          605000,
          879000,
          512500,
          600000,
          680000,
          982218,
          970000,
          700000,
          920000,
          625000,
          800000,
          515000,
          565000,
          460000,
          895000,
          427000,
          886000,
          370000,
          600000,
          700000,
          620047,
          560000,
          397500,
          420000,
          623500,
          906000,
          599950,
          850000,
          615000,
          715000,
          742000,
          700000,
          625000,
          820000,
          435000,
          705000,
          390000,
          770000,
          791000,
          590000,
          818000,
          660000,
          529999,
          581000,
          591000,
          480000,
          425000,
          715000,
          539950,
          130000,
          952500,
          1050000,
          718500,
          474000,
          822500,
          705000,
          685000,
          1060000,
          780000,
          380000,
          552700,
          529000,
          689800,
          849000,
          1100000,
          770000,
          574000,
          651000,
          815000,
          710000,
          517000,
          575000,
          725000,
          399950,
          1000000,
          631500,
          740000,
          740000,
          415000,
          575000,
          855000,
          390000,
          511200,
          850000,
          435000,
          507000,
          350000,
          580000,
          950000,
          550000,
          736000,
          295000,
          690000,
          560000,
          774900,
          707000,
          476000,
          517000,
          345600,
          1000000,
          699999,
          727500,
          900000,
          495000,
          504500,
          675000,
          585000,
          850000,
          478000,
          824000,
          530000,
          509000,
          375000,
          387000,
          885000,
          525000,
          1010000,
          415000,
          460000,
          900000,
          619790,
          794154,
          450000,
          500000,
          812000,
          504200,
          580000,
          386180,
          562000,
          349000,
          675000,
          543000,
          299000,
          660000,
          379900,
          540000,
          445000,
          655000,
          523950,
          369000,
          455000,
          730000,
          622500,
          545000,
          615000,
          622000,
          455000,
          360000,
          515000,
          840000,
          950000,
          850000,
          495000,
          685000,
          619000,
          377000,
          759000,
          412000,
          555000,
          527500,
          455000,
          975000,
          650000,
          675000,
          399950,
          667000,
          547500,
          439990,
          675000,
          385000,
          459000,
          660000,
          602000,
          640000,
          659000,
          515000,
          550000,
          500000,
          735000,
          625000,
          520000,
          665000,
          525000,
          500000,
          672000,
          475000,
          359950,
          635000,
          399950,
          565000,
          609000,
          625000,
          525000,
          405000,
          356999,
          664950,
          500000,
          465000,
          920000,
          670000,
          560000,
          772000,
          425000,
          459000,
          584000,
          505000,
          565000,
          547000,
          441000,
          375000,
          455000,
          700000,
          579000,
          552500,
          749000,
          653500,
          610000,
          580000,
          500000,
          499950,
          654000,
          530000,
          515000,
          480000,
          562500,
          1110000,
          650000,
          563500,
          411000,
          699999,
          749950,
          450000,
          415000,
          435000,
          690000,
          329950,
          499000,
          555000,
          640000,
          526000,
          525000,
          575000,
          420000,
          630000,
          600000,
          490000,
          465000,
          605000,
          549900,
          492000,
          580000,
          230000,
          650000,
          521500,
          580000,
          550000,
          450000,
          727000,
          397500,
          1080000,
          586500,
          649000,
          585000,
          542300,
          365000,
          630500,
          687015,
          570000,
          720000,
          500000,
          552100,
          610000,
          671500,
          559000,
          645000,
          453000,
          539900,
          935000,
          353000,
          490000,
          339950,
          779000,
          438000,
          325000,
          455000,
          598500,
          729999,
          386950,
          375000,
          535000,
          433000,
          610000,
          453000,
          482000,
          475000,
          585000,
          459000,
          516500,
          530000,
          747450,
          710200,
          610950,
          579000,
          645000,
          399950,
          475000,
          520000
         ],
         "lat": [
          47.6386,
          47.6221,
          47.6413,
          47.6113,
          47.6337,
          47.6506,
          47.6415,
          47.6338,
          47.6354,
          47.655,
          47.6106,
          47.6101,
          47.65,
          47.6136,
          47.6362,
          47.5964,
          47.6239,
          47.601,
          47.6638,
          47.644,
          47.592,
          47.6055,
          47.6609,
          47.6073,
          47.6192,
          47.5872,
          47.6454,
          47.6582,
          47.6376,
          47.6136,
          47.6045,
          47.6372,
          47.5876,
          47.6462,
          47.6385,
          47.6101,
          47.6583,
          47.6518,
          47.6124,
          47.6347,
          47.5951,
          47.6402,
          47.6094,
          47.6608,
          47.6476,
          47.6364,
          47.6617,
          47.6606,
          47.6233,
          47.6593,
          47.6078,
          47.6382,
          47.6327,
          47.6542,
          47.6416,
          47.6347,
          47.6231,
          47.6397,
          47.6163,
          47.6261,
          47.6051,
          47.6544,
          47.6561,
          47.6261,
          47.5965,
          47.6372,
          47.6368,
          47.6277,
          47.644,
          47.6196,
          47.6498,
          47.607,
          47.6106,
          47.6384,
          47.6106,
          47.648,
          47.6491,
          47.654,
          47.6558,
          47.6598,
          47.627,
          47.596,
          47.6378,
          47.6209,
          47.6515,
          47.6393,
          47.6099,
          47.6248,
          47.6325,
          47.6446,
          47.6086,
          47.6273,
          47.6638,
          47.619,
          47.612,
          47.609,
          47.6637,
          47.651,
          47.6453,
          47.589,
          47.6503,
          47.5846,
          47.6059,
          47.5998,
          47.6053,
          47.6362,
          47.6391,
          47.6513,
          47.6296,
          47.6367,
          47.6357,
          47.6265,
          47.6545,
          47.6039,
          47.6288,
          47.6624,
          47.6169,
          47.6052,
          47.6508,
          47.6422,
          47.6456,
          47.6466,
          47.6501,
          47.6562,
          47.6108,
          47.6272,
          47.6388,
          47.6379,
          47.5878,
          47.6268,
          47.6118,
          47.5848,
          47.6357,
          47.6158,
          47.6037,
          47.6554,
          47.5934,
          47.5891,
          47.6305,
          47.6048,
          47.6566,
          47.6233,
          47.6506,
          47.6168,
          47.6056,
          47.623,
          47.6182,
          47.6619,
          47.5924,
          47.5961,
          47.6527,
          47.6493,
          47.6497,
          47.6388,
          47.6196,
          47.6033,
          47.643,
          47.6205,
          47.6496,
          47.6474,
          47.6467,
          47.6231,
          47.6398,
          47.6612,
          47.5903,
          47.6462,
          47.6135,
          47.6531,
          47.6545,
          47.6405,
          47.5843,
          47.5877,
          47.6028,
          47.6178,
          47.643,
          47.6308,
          47.6503,
          47.6192,
          47.596,
          47.6342,
          47.6254,
          47.6357,
          47.6427,
          47.6317,
          47.6408,
          47.6572,
          47.627,
          47.6059,
          47.6347,
          47.6418,
          47.6221,
          47.6342,
          47.6557,
          47.654,
          47.5904,
          47.6112,
          47.6197,
          47.6357,
          47.6205,
          47.6452,
          47.6617,
          47.6422,
          47.6294,
          47.5826,
          47.6475,
          47.6368,
          47.6282,
          47.5896,
          47.6344,
          47.6163,
          47.5828,
          47.6082,
          47.6624,
          47.6373,
          47.6475,
          47.6235,
          47.6248,
          47.6,
          47.6053,
          47.6436,
          47.6525,
          47.6423,
          47.6375,
          47.6522,
          47.6374,
          47.6418,
          47.6472,
          47.6441,
          47.6451,
          47.6508,
          47.6423,
          47.6352,
          47.6429,
          47.6529,
          47.6482,
          47.6345,
          47.6198,
          47.6245,
          47.6029,
          47.6367,
          47.6063,
          47.6384,
          47.6403,
          47.6393,
          47.6631,
          47.6028,
          47.6472,
          47.6113,
          47.6117,
          47.6408,
          47.6089,
          47.6136,
          47.6559,
          47.6475,
          47.6454,
          47.617,
          47.6543,
          47.6563,
          47.639,
          47.6115,
          47.655,
          47.6434,
          47.6359,
          47.6524,
          47.6147,
          47.5891,
          47.637,
          47.6607,
          47.6609,
          47.6453,
          47.6037,
          47.6526,
          47.6132,
          47.6452,
          47.6601,
          47.6514,
          47.6365,
          47.6275,
          47.6423,
          47.6406,
          47.621,
          47.6551,
          47.6364,
          47.6449,
          47.6245,
          47.6024,
          47.5959,
          47.6046,
          47.5841,
          47.65,
          47.6051,
          47.6626,
          47.6058,
          47.6442,
          47.6619,
          47.6541,
          47.6497,
          47.639,
          47.5949,
          47.6418,
          47.6188,
          47.6532,
          47.642,
          47.604,
          47.6624,
          47.607,
          47.6546,
          47.6012,
          47.6212,
          47.6031,
          47.5982,
          47.6509,
          47.5985,
          47.633,
          47.6561,
          47.6429,
          47.5958,
          47.654,
          47.6528,
          47.6436,
          47.5878,
          47.6376,
          47.6354,
          47.6452,
          47.6471,
          47.6146,
          47.595,
          47.6078,
          47.6104,
          47.6453,
          47.6058,
          47.6371,
          47.6402,
          47.6051,
          47.6505,
          47.622,
          47.6224,
          47.5892,
          47.6195,
          47.6265,
          47.6227,
          47.6033,
          47.6238,
          47.6122,
          47.6476,
          47.6147,
          47.6147,
          47.586,
          47.6431,
          47.6283,
          47.5895,
          47.6488,
          47.6332,
          47.5936,
          47.6289,
          47.5925,
          47.6598,
          47.6513,
          47.6543,
          47.6428,
          47.6451,
          47.6413,
          47.6465,
          47.6042,
          47.6304,
          47.6466,
          47.6321,
          47.6501,
          47.6444,
          47.6102,
          47.6155,
          47.6438,
          47.6032,
          47.6102,
          47.6489,
          47.6156,
          47.6264,
          47.6619,
          47.6415,
          47.6592,
          47.6399,
          47.6134,
          47.6341,
          47.6121,
          47.5839,
          47.6461,
          47.6005,
          47.6076,
          47.6265,
          47.6475,
          47.6178,
          47.6634,
          47.6417,
          47.5876,
          47.6455,
          47.6155,
          47.584,
          47.648,
          47.6361,
          47.5867,
          47.6478,
          47.6315,
          47.5838,
          47.6066,
          47.6133,
          47.6312,
          47.6265,
          47.6352,
          47.6296,
          47.6145,
          47.6391,
          47.6159,
          47.6402,
          47.6217,
          47.6013,
          47.6384,
          47.5859,
          47.6498,
          47.6368,
          47.6413,
          47.6373,
          47.6131,
          47.6285,
          47.5871,
          47.6618,
          47.657,
          47.6501,
          47.6223,
          47.6336,
          47.6156,
          47.5986,
          47.6627,
          47.6001,
          47.6415,
          47.6516,
          47.617,
          47.6384,
          47.6607,
          47.606,
          47.6099,
          47.6261,
          47.6172,
          47.637,
          47.6476,
          47.6442,
          47.6039,
          47.6534,
          47.6339,
          47.651,
          47.6233,
          47.6088,
          47.637,
          47.6405,
          47.662,
          47.625,
          47.5849,
          47.6572,
          47.5862,
          47.6191,
          47.6372,
          47.6138,
          47.6155,
          47.6587,
          47.6242,
          47.644,
          47.6585,
          47.6426,
          47.5929,
          47.6184,
          47.61,
          47.6074,
          47.6394,
          47.6393,
          47.5937,
          47.6157,
          47.6529,
          47.6385,
          47.659,
          47.6215,
          47.6388,
          47.641,
          47.6362,
          47.6389,
          47.6236,
          47.6361,
          47.6598,
          47.6598,
          47.6374,
          47.6412,
          47.6402,
          47.6351,
          47.6569,
          47.6546,
          47.6358,
          47.6191,
          47.605,
          47.6433,
          47.6313,
          47.6572,
          47.651,
          47.6144,
          47.6287,
          47.6157,
          47.6473,
          47.6183,
          47.5874,
          47.6474,
          47.661,
          47.6029,
          47.637,
          47.6224,
          47.6557,
          47.6623,
          47.6236,
          47.6021,
          47.652,
          47.6448,
          47.635,
          47.6526,
          47.6606,
          47.6088,
          47.6098,
          47.6551,
          47.6382,
          47.6102,
          47.6421,
          47.6388,
          47.6419,
          47.6549,
          47.6415,
          47.6525,
          47.6348,
          47.6461,
          47.637,
          47.6626,
          47.6596,
          47.6531,
          47.6601,
          47.6122,
          47.6594,
          47.6424,
          47.6103,
          47.621,
          47.6103,
          47.6382,
          47.5955,
          47.6392,
          47.6479,
          47.6595,
          47.6132,
          47.6025,
          47.6462,
          47.6588,
          47.6567,
          47.6537,
          47.6059,
          47.6249,
          47.6505,
          47.637,
          47.6268,
          47.6634,
          47.638,
          47.6545,
          47.621,
          47.6408,
          47.6389,
          47.6169,
          47.6033,
          47.6399,
          47.6535,
          47.6359,
          47.646,
          47.604,
          47.6368,
          47.587,
          47.6175,
          47.6415,
          47.5979,
          47.6226,
          47.6284,
          47.6605,
          47.6163,
          47.6475,
          47.6158,
          47.6063,
          47.6311,
          47.609,
          47.5858,
          47.6401,
          47.6425,
          47.6041,
          47.6634,
          47.6366,
          47.6085,
          47.6228,
          47.6025,
          47.6149,
          47.6337,
          47.6374,
          47.6174,
          47.6265,
          47.6366,
          47.649,
          47.6597,
          47.596,
          47.615,
          47.5892,
          47.6498,
          47.6382,
          47.5949,
          47.6392,
          47.6416,
          47.6419,
          47.6192,
          47.6044,
          47.636,
          47.6024,
          47.6522,
          47.6402,
          47.6381,
          47.6387,
          47.6557,
          47.6529,
          47.6018,
          47.6181,
          47.6419,
          47.6175,
          47.6605,
          47.6436,
          47.6412,
          47.6423,
          47.6187,
          47.6557,
          47.6564,
          47.6547,
          47.5855,
          47.6146,
          47.6447,
          47.5976,
          47.6105,
          47.6325,
          47.6074,
          47.6295,
          47.646,
          47.6608,
          47.583,
          47.6379,
          47.6599,
          47.6124,
          47.6454,
          47.6416,
          47.5866,
          47.6365,
          47.6192,
          47.6461,
          47.6316,
          47.5927,
          47.6422,
          47.6451,
          47.6494,
          47.6465,
          47.6448,
          47.646,
          47.6117,
          47.6438,
          47.6207,
          47.5958,
          47.6168,
          47.6544,
          47.6036,
          47.5934,
          47.5997,
          47.6333,
          47.6112,
          47.6624,
          47.5874,
          47.6382,
          47.6364,
          47.5895,
          47.6212,
          47.6373,
          47.6208,
          47.6456,
          47.6029,
          47.6631,
          47.6232,
          47.6479,
          47.6419,
          47.6103,
          47.6616,
          47.6397,
          47.6393,
          47.6578,
          47.6414,
          47.6199,
          47.646,
          47.6376,
          47.6363,
          47.6378,
          47.6431,
          47.604,
          47.6028,
          47.6132,
          47.6054,
          47.6562,
          47.6363,
          47.656,
          47.6259,
          47.6569,
          47.6605,
          47.6265,
          47.6265,
          47.5837,
          47.6003,
          47.6512,
          47.6549,
          47.6399,
          47.6469,
          47.6443,
          47.6315,
          47.5998,
          47.6631,
          47.648,
          47.6413,
          47.6143,
          47.6272,
          47.6048,
          47.6186,
          47.5844,
          47.6404,
          47.6195,
          47.5935,
          47.6235,
          47.6417,
          47.6498,
          47.5892,
          47.5906,
          47.6147,
          47.6368,
          47.6503,
          47.6167,
          47.6582,
          47.6429,
          47.6325,
          47.6386,
          47.6124,
          47.6513,
          47.6556,
          47.6389,
          47.6597,
          47.6405,
          47.6188,
          47.6032,
          47.5933,
          47.649,
          47.6233,
          47.605,
          47.6563,
          47.6186,
          47.6366,
          47.653,
          47.6514,
          47.6498,
          47.6565,
          47.6565,
          47.6593,
          47.6393,
          47.606,
          47.6206,
          47.6005,
          47.6192,
          47.6367,
          47.662,
          47.621,
          47.595,
          47.6038,
          47.6534,
          47.6084,
          47.6503,
          47.6439,
          47.6461,
          47.6229,
          47.6187,
          47.6025,
          47.6633,
          47.6472,
          47.6361,
          47.6631,
          47.6031,
          47.6343,
          47.6375,
          47.6574,
          47.638,
          47.6027,
          47.6197,
          47.6595,
          47.6506,
          47.6102,
          47.6393,
          47.6334,
          47.6505,
          47.6305,
          47.6517,
          47.6428,
          47.6339,
          47.6384,
          47.6109,
          47.648,
          47.6362,
          47.6355,
          47.6138,
          47.6445,
          47.6117,
          47.6435,
          47.5985,
          47.628,
          47.6437,
          47.6375,
          47.5904,
          47.6464,
          47.6205,
          47.6241,
          47.6604,
          47.6209,
          47.6461,
          47.6401,
          47.6404,
          47.5883,
          47.6467,
          47.6148,
          47.6464,
          47.6588,
          47.6496,
          47.6511,
          47.6122,
          47.6357,
          47.6624,
          47.6526,
          47.6545,
          47.6025,
          47.6526,
          47.6624,
          47.6105,
          47.589,
          47.6246,
          47.5897,
          47.6413,
          47.6499,
          47.6513,
          47.5978,
          47.6109,
          47.6092,
          47.6339,
          47.6435,
          47.6539,
          47.6387,
          47.6226,
          47.6038,
          47.6408,
          47.6558,
          47.6425,
          47.6409,
          47.642,
          47.5999,
          47.6561,
          47.5938,
          47.6482,
          47.6078,
          47.644,
          47.6414,
          47.6453,
          47.642,
          47.6285,
          47.627,
          47.6356,
          47.6108,
          47.6478,
          47.638,
          47.6624,
          47.6154,
          47.651,
          47.6193,
          47.5939,
          47.6029,
          47.6056,
          47.642,
          47.6236,
          47.6251,
          47.645,
          47.5901,
          47.614,
          47.6065,
          47.643,
          47.6546,
          47.6438,
          47.6406,
          47.643,
          47.6074,
          47.6102,
          47.6457,
          47.6424,
          47.6204,
          47.6589,
          47.6341,
          47.6374,
          47.6358,
          47.6312,
          47.6321,
          47.6485,
          47.661,
          47.5872,
          47.6507,
          47.6358,
          47.6534,
          47.5962,
          47.6433,
          47.6402,
          47.6571,
          47.6368,
          47.647,
          47.6094,
          47.6419,
          47.636,
          47.6451,
          47.6487,
          47.6581,
          47.6567,
          47.6244,
          47.637,
          47.6426,
          47.6086,
          47.6566,
          47.6373,
          47.6576,
          47.6398,
          47.6308,
          47.6095,
          47.6458,
          47.6508,
          47.5889,
          47.5998,
          47.6526,
          47.6583,
          47.6199,
          47.6539,
          47.6559,
          47.6516,
          47.6038,
          47.6177,
          47.6575,
          47.6375,
          47.6472,
          47.5929,
          47.6398,
          47.5943,
          47.6334,
          47.6537,
          47.6367,
          47.6551,
          47.6597,
          47.6456,
          47.6183,
          47.6123,
          47.6212,
          47.6363,
          47.6394,
          47.6398,
          47.5883,
          47.636,
          47.6426,
          47.6222,
          47.6385,
          47.63,
          47.6435,
          47.6133,
          47.6401,
          47.6452,
          47.6007,
          47.6361,
          47.6204,
          47.6492,
          47.6381,
          47.6474,
          47.6192,
          47.6199,
          47.6111,
          47.6168,
          47.6093,
          47.6118,
          47.6059,
          47.6567,
          47.659,
          47.6287,
          47.6438,
          47.6453,
          47.6054,
          47.6059,
          47.6543,
          47.6425,
          47.6334,
          47.643,
          47.637,
          47.654,
          47.6184,
          47.6058,
          47.6605,
          47.6466,
          47.6489,
          47.6409,
          47.6185,
          47.6388,
          47.6583,
          47.6075,
          47.6364,
          47.6543,
          47.6619,
          47.6059,
          47.6304,
          47.6239,
          47.5829,
          47.6278,
          47.6302,
          47.6523,
          47.6088,
          47.6207,
          47.6559,
          47.627,
          47.6375,
          47.6538,
          47.6472,
          47.64,
          47.6529,
          47.6369,
          47.6135,
          47.6366,
          47.6067,
          47.6368,
          47.6318,
          47.6385,
          47.6498,
          47.6288,
          47.62,
          47.6156,
          47.6491,
          47.6536,
          47.6032,
          47.6536,
          47.6004,
          47.62,
          47.6488,
          47.6175,
          47.6585,
          47.5959,
          47.5903,
          47.5857,
          47.6461,
          47.6533,
          47.5874,
          47.6047,
          47.6179,
          47.6536,
          47.589,
          47.6073,
          47.6536,
          47.649,
          47.6192,
          47.605,
          47.6321,
          47.6256,
          47.6291,
          47.6207,
          47.6173,
          47.6536,
          47.6529,
          47.6196,
          47.5894,
          47.6161,
          47.6427,
          47.627,
          47.644,
          47.6533,
          47.6384,
          47.6413,
          47.6595,
          47.6127,
          47.6513,
          47.6398,
          47.6506,
          47.6363,
          47.6594,
          47.6485,
          47.6179,
          47.6396,
          47.6181,
          47.5875,
          47.6533,
          47.6226,
          47.6168,
          47.618,
          47.6172,
          47.6534,
          47.5929,
          47.6597,
          47.6386,
          47.6187,
          47.5902,
          47.6518,
          47.6512,
          47.6536,
          47.653,
          47.6206,
          47.612,
          47.5998,
          47.6395,
          47.6543,
          47.6018,
          47.6178,
          47.6522,
          47.6485,
          47.6196,
          47.6534,
          47.602,
          47.6376,
          47.6369,
          47.5925,
          47.648,
          47.6006,
          47.5893,
          47.638,
          47.6356,
          47.6273,
          47.6114,
          47.586,
          47.6372,
          47.6206,
          47.6353,
          47.6558,
          47.6371,
          47.6179,
          47.6034,
          47.5973,
          47.5893,
          47.6371,
          47.6435,
          47.6298,
          47.6534,
          47.6023,
          47.6205,
          47.6088,
          47.6489,
          47.6543,
          47.6519,
          47.6264,
          47.5893,
          47.6319,
          47.5925,
          47.6181,
          47.6031,
          47.6384,
          47.6295,
          47.6584,
          47.6236,
          47.6397,
          47.6051,
          47.6374,
          47.6327,
          47.602,
          47.6022,
          47.6536,
          47.5951,
          47.6523,
          47.6076,
          47.5891,
          47.6472,
          47.602,
          47.6276,
          47.6033,
          47.6271,
          47.6539,
          47.6201,
          47.6515,
          47.6514,
          47.5999,
          47.6538,
          47.6256,
          47.6493,
          47.6434,
          47.6112,
          47.6126,
          47.6607,
          47.6532,
          47.6611,
          47.6465,
          47.6608,
          47.6584,
          47.632,
          47.616,
          47.6313,
          47.6619,
          47.6276,
          47.6381,
          47.5854,
          47.6625,
          47.6604,
          47.6113,
          47.5902,
          47.6093,
          47.6598,
          47.6568,
          47.6536,
          47.6515,
          47.6617,
          47.6617,
          47.6021,
          47.6538,
          47.6228,
          47.6515,
          47.6088,
          47.6397,
          47.6572,
          47.5869,
          47.6374,
          47.6413,
          47.6542,
          47.6533
         ],
         "legendgroup": "",
         "lon": [
          -122.36,
          -122.314,
          -122.364,
          -122.297,
          -122.365,
          -122.391,
          -122.315,
          -122.358,
          -122.353,
          -122.359,
          -122.31,
          -122.307,
          -122.34,
          -122.303,
          -122.302,
          -122.299,
          -122.298,
          -122.294,
          -122.345,
          -122.319,
          -122.307,
          -122.305,
          -122.344,
          -122.308,
          -122.301,
          -122.39,
          -122.373,
          -122.345,
          -122.353,
          -122.299,
          -122.307,
          -122.395,
          -122.309,
          -122.318,
          -122.37,
          -122.295,
          -122.351,
          -122.335,
          -122.309,
          -122.396,
          -122.307,
          -122.37,
          -122.291,
          -122.333,
          -122.318,
          -122.3,
          -122.356,
          -122.331,
          -122.319,
          -122.327,
          -122.291,
          -122.399,
          -122.395,
          -122.385,
          -122.397,
          -122.352,
          -122.293,
          -122.388,
          -122.292,
          -122.355,
          -122.319,
          -122.373,
          -122.332,
          -122.296,
          -122.311,
          -122.352,
          -122.37,
          -122.345,
          -122.353,
          -122.292,
          -122.321,
          -122.305,
          -122.31,
          -122.342,
          -122.31,
          -122.395,
          -122.367,
          -122.342,
          -122.331,
          -122.348,
          -122.353,
          -122.298,
          -122.372,
          -122.317,
          -122.346,
          -122.311,
          -122.297,
          -122.301,
          -122.303,
          -122.403,
          -122.303,
          -122.345,
          -122.348,
          -122.311,
          -122.292,
          -122.307,
          -122.346,
          -122.341,
          -122.358,
          -122.387,
          -122.338,
          -122.383,
          -122.307,
          -122.306,
          -122.291,
          -122.363,
          -122.403,
          -122.346,
          -122.308,
          -122.318,
          -122.324,
          -122.312,
          -122.333,
          -122.298,
          -122.321,
          -122.354,
          -122.309,
          -122.3,
          -122.368,
          -122.403,
          -122.389,
          -122.389,
          -122.37,
          -122.354,
          -122.308,
          -122.29,
          -122.3,
          -122.387,
          -122.312,
          -122.353,
          -122.306,
          -122.384,
          -122.397,
          -122.293,
          -122.311,
          -122.333,
          -122.308,
          -122.387,
          -122.3,
          -122.312,
          -122.358,
          -122.3,
          -122.384,
          -122.301,
          -122.305,
          -122.304,
          -122.302,
          -122.351,
          -122.302,
          -122.305,
          -122.386,
          -122.398,
          -122.393,
          -122.399,
          -122.298,
          -122.295,
          -122.361,
          -122.291,
          -122.392,
          -122.362,
          -122.304,
          -122.292,
          -122.393,
          -122.363,
          -122.388,
          -122.384,
          -122.307,
          -122.373,
          -122.348,
          -122.301,
          -122.385,
          -122.316,
          -122.298,
          -122.299,
          -122.359,
          -122.312,
          -122.368,
          -122.299,
          -122.311,
          -122.342,
          -122.292,
          -122.322,
          -122.363,
          -122.301,
          -122.403,
          -122.335,
          -122.361,
          -122.3,
          -122.355,
          -122.394,
          -122.325,
          -122.353,
          -122.388,
          -122.337,
          -122.315,
          -122.303,
          -122.3,
          -122.324,
          -122.294,
          -122.373,
          -122.349,
          -122.361,
          -122.344,
          -122.378,
          -122.397,
          -122.354,
          -122.293,
          -122.389,
          -122.305,
          -122.293,
          -122.382,
          -122.299,
          -122.348,
          -122.35,
          -122.359,
          -122.306,
          -122.319,
          -122.298,
          -122.306,
          -122.405,
          -122.333,
          -122.329,
          -122.387,
          -122.366,
          -122.324,
          -122.351,
          -122.373,
          -122.385,
          -122.375,
          -122.383,
          -122.375,
          -122.358,
          -122.327,
          -122.339,
          -122.393,
          -122.366,
          -122.299,
          -122.327,
          -122.302,
          -122.364,
          -122.292,
          -122.404,
          -122.372,
          -122.403,
          -122.348,
          -122.312,
          -122.393,
          -122.292,
          -122.297,
          -122.3,
          -122.303,
          -122.297,
          -122.339,
          -122.397,
          -122.316,
          -122.291,
          -122.373,
          -122.351,
          -122.347,
          -122.292,
          -122.358,
          -122.3,
          -122.3,
          -122.353,
          -122.302,
          -122.387,
          -122.4,
          -122.354,
          -122.343,
          -122.327,
          -122.307,
          -122.345,
          -122.297,
          -122.371,
          -122.332,
          -122.369,
          -122.391,
          -122.321,
          -122.37,
          -122.344,
          -122.302,
          -122.36,
          -122.371,
          -122.389,
          -122.316,
          -122.295,
          -122.3,
          -122.3,
          -122.383,
          -122.34,
          -122.311,
          -122.337,
          -122.313,
          -122.369,
          -122.352,
          -122.329,
          -122.336,
          -122.31,
          -122.307,
          -122.372,
          -122.308,
          -122.34,
          -122.374,
          -122.307,
          -122.361,
          -122.297,
          -122.356,
          -122.296,
          -122.296,
          -122.303,
          -122.299,
          -122.37,
          -122.298,
          -122.37,
          -122.325,
          -122.371,
          -122.306,
          -122.346,
          -122.331,
          -122.303,
          -122.381,
          -122.307,
          -122.346,
          -122.369,
          -122.397,
          -122.299,
          -122.306,
          -122.307,
          -122.303,
          -122.403,
          -122.3,
          -122.393,
          -122.357,
          -122.298,
          -122.384,
          -122.3,
          -122.326,
          -122.309,
          -122.313,
          -122.323,
          -122.323,
          -122.303,
          -122.311,
          -122.298,
          -122.356,
          -122.3,
          -122.3,
          -122.313,
          -122.359,
          -122.301,
          -122.311,
          -122.385,
          -122.362,
          -122.301,
          -122.309,
          -122.391,
          -122.349,
          -122.386,
          -122.347,
          -122.302,
          -122.35,
          -122.354,
          -122.357,
          -122.303,
          -122.301,
          -122.304,
          -122.371,
          -122.395,
          -122.357,
          -122.309,
          -122.3,
          -122.403,
          -122.31,
          -122.314,
          -122.337,
          -122.299,
          -122.302,
          -122.351,
          -122.392,
          -122.349,
          -122.32,
          -122.308,
          -122.361,
          -122.294,
          -122.383,
          -122.317,
          -122.306,
          -122.298,
          -122.3,
          -122.371,
          -122.292,
          -122.359,
          -122.397,
          -122.391,
          -122.352,
          -122.306,
          -122.375,
          -122.386,
          -122.399,
          -122.311,
          -122.383,
          -122.311,
          -122.382,
          -122.304,
          -122.306,
          -122.307,
          -122.295,
          -122.352,
          -122.3,
          -122.295,
          -122.36,
          -122.306,
          -122.314,
          -122.309,
          -122.299,
          -122.403,
          -122.385,
          -122.321,
          -122.351,
          -122.346,
          -122.369,
          -122.297,
          -122.301,
          -122.317,
          -122.355,
          -122.345,
          -122.384,
          -122.294,
          -122.397,
          -122.297,
          -122.298,
          -122.355,
          -122.298,
          -122.373,
          -122.375,
          -122.309,
          -122.4,
          -122.333,
          -122.307,
          -122.293,
          -122.324,
          -122.298,
          -122.327,
          -122.32,
          -122.372,
          -122.307,
          -122.346,
          -122.396,
          -122.369,
          -122.319,
          -122.293,
          -122.341,
          -122.324,
          -122.349,
          -122.3,
          -122.384,
          -122.333,
          -122.387,
          -122.301,
          -122.392,
          -122.299,
          -122.29,
          -122.344,
          -122.306,
          -122.385,
          -122.363,
          -122.388,
          -122.306,
          -122.301,
          -122.293,
          -122.294,
          -122.321,
          -122.308,
          -122.301,
          -122.29,
          -122.372,
          -122.344,
          -122.339,
          -122.29,
          -122.35,
          -122.315,
          -122.324,
          -122.349,
          -122.306,
          -122.343,
          -122.355,
          -122.355,
          -122.375,
          -122.302,
          -122.395,
          -122.352,
          -122.346,
          -122.337,
          -122.356,
          -122.296,
          -122.304,
          -122.404,
          -122.368,
          -122.346,
          -122.368,
          -122.295,
          -122.3,
          -122.291,
          -122.374,
          -122.298,
          -122.387,
          -122.396,
          -122.344,
          -122.309,
          -122.371,
          -122.304,
          -122.344,
          -122.339,
          -122.306,
          -122.295,
          -122.384,
          -122.317,
          -122.353,
          -122.384,
          -122.365,
          -122.307,
          -122.292,
          -122.344,
          -122.307,
          -122.299,
          -122.348,
          -122.302,
          -122.306,
          -122.331,
          -122.303,
          -122.345,
          -122.301,
          -122.397,
          -122.355,
          -122.361,
          -122.338,
          -122.352,
          -122.331,
          -122.297,
          -122.345,
          -122.386,
          -122.297,
          -122.303,
          -122.296,
          -122.359,
          -122.306,
          -122.406,
          -122.367,
          -122.354,
          -122.292,
          -122.313,
          -122.351,
          -122.362,
          -122.327,
          -122.34,
          -122.295,
          -122.298,
          -122.39,
          -122.367,
          -122.297,
          -122.351,
          -122.317,
          -122.336,
          -122.298,
          -122.327,
          -122.371,
          -122.294,
          -122.3,
          -122.32,
          -122.353,
          -122.351,
          -122.39,
          -122.311,
          -122.355,
          -122.384,
          -122.298,
          -122.401,
          -122.297,
          -122.292,
          -122.291,
          -122.331,
          -122.294,
          -122.396,
          -122.291,
          -122.305,
          -122.312,
          -122.314,
          -122.379,
          -122.32,
          -122.374,
          -122.31,
          -122.358,
          -122.365,
          -122.311,
          -122.319,
          -122.303,
          -122.293,
          -122.371,
          -122.307,
          -122.308,
          -122.364,
          -122.401,
          -122.335,
          -122.345,
          -122.298,
          -122.288,
          -122.387,
          -122.346,
          -122.397,
          -122.308,
          -122.318,
          -122.386,
          -122.368,
          -122.301,
          -122.299,
          -122.302,
          -122.296,
          -122.348,
          -122.371,
          -122.375,
          -122.363,
          -122.327,
          -122.334,
          -122.299,
          -122.302,
          -122.351,
          -122.301,
          -122.335,
          -122.352,
          -122.329,
          -122.361,
          -122.295,
          -122.348,
          -122.325,
          -122.34,
          -122.383,
          -122.306,
          -122.327,
          -122.298,
          -122.309,
          -122.371,
          -122.299,
          -122.346,
          -122.363,
          -122.359,
          -122.379,
          -122.4,
          -122.363,
          -122.314,
          -122.354,
          -122.361,
          -122.389,
          -122.361,
          -122.316,
          -122.357,
          -122.303,
          -122.306,
          -122.36,
          -122.387,
          -122.395,
          -122.395,
          -122.358,
          -122.362,
          -122.301,
          -122.373,
          -122.295,
          -122.299,
          -122.303,
          -122.386,
          -122.305,
          -122.39,
          -122.312,
          -122.362,
          -122.293,
          -122.348,
          -122.311,
          -122.368,
          -122.351,
          -122.385,
          -122.298,
          -122.358,
          -122.319,
          -122.387,
          -122.304,
          -122.345,
          -122.299,
          -122.367,
          -122.374,
          -122.3,
          -122.356,
          -122.395,
          -122.392,
          -122.324,
          -122.327,
          -122.3,
          -122.384,
          -122.394,
          -122.32,
          -122.301,
          -122.356,
          -122.306,
          -122.309,
          -122.297,
          -122.314,
          -122.354,
          -122.371,
          -122.359,
          -122.321,
          -122.348,
          -122.355,
          -122.296,
          -122.296,
          -122.382,
          -122.306,
          -122.338,
          -122.352,
          -122.311,
          -122.389,
          -122.385,
          -122.362,
          -122.3,
          -122.357,
          -122.358,
          -122.401,
          -122.305,
          -122.297,
          -122.298,
          -122.288,
          -122.316,
          -122.325,
          -122.299,
          -122.39,
          -122.298,
          -122.325,
          -122.32,
          -122.312,
          -122.316,
          -122.298,
          -122.371,
          -122.393,
          -122.29,
          -122.336,
          -122.36,
          -122.394,
          -122.365,
          -122.293,
          -122.385,
          -122.345,
          -122.349,
          -122.352,
          -122.367,
          -122.306,
          -122.311,
          -122.308,
          -122.336,
          -122.319,
          -122.3,
          -122.353,
          -122.288,
          -122.363,
          -122.331,
          -122.385,
          -122.388,
          -122.348,
          -122.355,
          -122.337,
          -122.317,
          -122.299,
          -122.297,
          -122.296,
          -122.319,
          -122.301,
          -122.363,
          -122.298,
          -122.308,
          -122.314,
          -122.346,
          -122.304,
          -122.366,
          -122.319,
          -122.392,
          -122.298,
          -122.299,
          -122.294,
          -122.357,
          -122.383,
          -122.368,
          -122.361,
          -122.296,
          -122.352,
          -122.389,
          -122.345,
          -122.375,
          -122.295,
          -122.287,
          -122.337,
          -122.346,
          -122.314,
          -122.301,
          -122.35,
          -122.375,
          -122.347,
          -122.374,
          -122.348,
          -122.354,
          -122.35,
          -122.303,
          -122.384,
          -122.369,
          -122.324,
          -122.298,
          -122.374,
          -122.313,
          -122.399,
          -122.298,
          -122.299,
          -122.396,
          -122.354,
          -122.389,
          -122.391,
          -122.3,
          -122.305,
          -122.352,
          -122.302,
          -122.356,
          -122.303,
          -122.361,
          -122.311,
          -122.394,
          -122.309,
          -122.401,
          -122.344,
          -122.391,
          -122.368,
          -122.288,
          -122.373,
          -122.336,
          -122.349,
          -122.344,
          -122.31,
          -122.384,
          -122.347,
          -122.309,
          -122.313,
          -122.312,
          -122.314,
          -122.357,
          -122.391,
          -122.368,
          -122.299,
          -122.302,
          -122.294,
          -122.392,
          -122.373,
          -122.352,
          -122.396,
          -122.319,
          -122.294,
          -122.307,
          -122.334,
          -122.374,
          -122.401,
          -122.36,
          -122.3,
          -122.341,
          -122.315,
          -122.358,
          -122.292,
          -122.369,
          -122.329,
          -122.302,
          -122.358,
          -122.303,
          -122.303,
          -122.367,
          -122.303,
          -122.396,
          -122.306,
          -122.349,
          -122.291,
          -122.384,
          -122.304,
          -122.302,
          -122.307,
          -122.311,
          -122.405,
          -122.299,
          -122.3,
          -122.386,
          -122.388,
          -122.294,
          -122.291,
          -122.37,
          -122.344,
          -122.357,
          -122.317,
          -122.355,
          -122.305,
          -122.296,
          -122.374,
          -122.374,
          -122.292,
          -122.341,
          -122.342,
          -122.304,
          -122.364,
          -122.353,
          -122.306,
          -122.397,
          -122.338,
          -122.316,
          -122.32,
          -122.322,
          -122.353,
          -122.301,
          -122.3,
          -122.405,
          -122.326,
          -122.306,
          -122.369,
          -122.31,
          -122.394,
          -122.391,
          -122.319,
          -122.388,
          -122.354,
          -122.325,
          -122.326,
          -122.324,
          -122.403,
          -122.294,
          -122.36,
          -122.3,
          -122.348,
          -122.306,
          -122.302,
          -122.296,
          -122.306,
          -122.373,
          -122.389,
          -122.312,
          -122.342,
          -122.362,
          -122.3,
          -122.329,
          -122.344,
          -122.337,
          -122.303,
          -122.308,
          -122.346,
          -122.391,
          -122.367,
          -122.303,
          -122.403,
          -122.302,
          -122.356,
          -122.335,
          -122.37,
          -122.353,
          -122.331,
          -122.383,
          -122.3,
          -122.314,
          -122.298,
          -122.368,
          -122.308,
          -122.356,
          -122.384,
          -122.301,
          -122.327,
          -122.287,
          -122.344,
          -122.349,
          -122.353,
          -122.308,
          -122.299,
          -122.352,
          -122.305,
          -122.371,
          -122.296,
          -122.391,
          -122.401,
          -122.389,
          -122.307,
          -122.304,
          -122.308,
          -122.298,
          -122.297,
          -122.299,
          -122.313,
          -122.358,
          -122.346,
          -122.351,
          -122.357,
          -122.371,
          -122.295,
          -122.303,
          -122.354,
          -122.358,
          -122.371,
          -122.397,
          -122.363,
          -122.35,
          -122.301,
          -122.319,
          -122.326,
          -122.321,
          -122.372,
          -122.353,
          -122.295,
          -122.397,
          -122.344,
          -122.295,
          -122.351,
          -122.356,
          -122.343,
          -122.31,
          -122.309,
          -122.297,
          -122.382,
          -122.292,
          -122.344,
          -122.346,
          -122.294,
          -122.297,
          -122.338,
          -122.345,
          -122.388,
          -122.356,
          -122.362,
          -122.394,
          -122.355,
          -122.365,
          -122.297,
          -122.369,
          -122.298,
          -122.388,
          -122.369,
          -122.401,
          -122.396,
          -122.3,
          -122.3,
          -122.295,
          -122.334,
          -122.354,
          -122.308,
          -122.356,
          -122.299,
          -122.309,
          -122.334,
          -122.297,
          -122.348,
          -122.298,
          -122.386,
          -122.314,
          -122.362,
          -122.346,
          -122.386,
          -122.305,
          -122.301,
          -122.358,
          -122.387,
          -122.304,
          -122.34,
          -122.383,
          -122.297,
          -122.304,
          -122.361,
          -122.299,
          -122.347,
          -122.301,
          -122.31,
          -122.354,
          -122.384,
          -122.297,
          -122.315,
          -122.302,
          -122.327,
          -122.361,
          -122.327,
          -122.341,
          -122.343,
          -122.329,
          -122.351,
          -122.299,
          -122.384,
          -122.345,
          -122.383,
          -122.371,
          -122.355,
          -122.334,
          -122.318,
          -122.329,
          -122.301,
          -122.315,
          -122.346,
          -122.313,
          -122.314,
          -122.311,
          -122.31,
          -122.355,
          -122.308,
          -122.355,
          -122.388,
          -122.301,
          -122.311,
          -122.384,
          -122.345,
          -122.354,
          -122.352,
          -122.299,
          -122.295,
          -122.311,
          -122.329,
          -122.345,
          -122.297,
          -122.29,
          -122.346,
          -122.334,
          -122.297,
          -122.356,
          -122.308,
          -122.326,
          -122.327,
          -122.302,
          -122.396,
          -122.305,
          -122.317,
          -122.375,
          -122.346,
          -122.359,
          -122.31,
          -122.383,
          -122.324,
          -122.3,
          -122.371,
          -122.348,
          -122.327,
          -122.312,
          -122.309,
          -122.298,
          -122.309,
          -122.327,
          -122.354,
          -122.321,
          -122.355,
          -122.314,
          -122.299,
          -122.311,
          -122.335,
          -122.358,
          -122.384,
          -122.323,
          -122.317,
          -122.362,
          -122.302,
          -122.318,
          -122.309,
          -122.373,
          -122.32,
          -122.35,
          -122.318,
          -122.345,
          -122.304,
          -122.388,
          -122.346,
          -122.311,
          -122.311,
          -122.341,
          -122.301,
          -122.346,
          -122.304,
          -122.387,
          -122.357,
          -122.306,
          -122.359,
          -122.309,
          -122.324,
          -122.351,
          -122.309,
          -122.375,
          -122.386,
          -122.3,
          -122.352,
          -122.362,
          -122.384,
          -122.324,
          -122.309,
          -122.313,
          -122.352,
          -122.348,
          -122.346,
          -122.358,
          -122.335,
          -122.346,
          -122.361,
          -122.314,
          -122.37,
          -122.352,
          -122.359,
          -122.375,
          -122.313,
          -122.352,
          -122.352,
          -122.314,
          -122.387,
          -122.31,
          -122.348,
          -122.321,
          -122.354,
          -122.384,
          -122.349,
          -122.349,
          -122.294,
          -122.357,
          -122.307,
          -122.375,
          -122.311,
          -122.345,
          -122.346,
          -122.311,
          -122.369,
          -122.329,
          -122.346,
          -122.346
         ],
         "marker": {
          "color": [
           937000,
           667000,
           685000,
           425000,
           940000,
           1100000,
           850830,
           665000,
           890000,
           560000,
           425000,
           385000,
           615000,
           410000,
           780000,
           425000,
           725000,
           834000,
           548000,
           740000,
           435000,
           557000,
           450000,
           375000,
           490000,
           625000,
           615000,
           595000,
           610000,
           650000,
           640000,
           650000,
           559950,
           865000,
           485000,
           493000,
           715000,
           650000,
           419000,
           1100000,
           910000,
           930000,
           700000,
           466000,
           1010000,
           915000,
           720000,
           700000,
           425000,
           700000,
           429000,
           543115,
           980000,
           410000,
           699000,
           550000,
           515000,
           775000,
           490000,
           453500,
           631000,
           609850,
           690000,
           505000,
           380000,
           725000,
           655000,
           479000,
           682000,
           831000,
           600000,
           625000,
           495000,
           464950,
           842500,
           815000,
           749950,
           830000,
           715000,
           352950,
           707500,
           499950,
           850000,
           550000,
           610000,
           895000,
           349500,
           169317,
           880000,
           570000,
           490000,
           550000,
           635000,
           600000,
           800000,
           469000,
           487250,
           712000,
           950000,
           580000,
           805000,
           625000,
           618000,
           345000,
           599000,
           1050000,
           605000,
           725000,
           625000,
           1020000,
           580000,
           875000,
           800000,
           491000,
           852000,
           440000,
           570000,
           638000,
           460000,
           783000,
           1050000,
           608000,
           1000000,
           500000,
           660000,
           569000,
           585000,
           545000,
           290000,
           700000,
           415000,
           595000,
           785000,
           890000,
           499000,
           695000,
           450000,
           558000,
           820000,
           412000,
           373500,
           780000,
           390000,
           425000,
           534000,
           856000,
           582000,
           479000,
           700000,
           313000,
           415000,
           510000,
           495000,
           604000,
           570000,
           441000,
           800000,
           728000,
           708000,
           691000,
           975000,
           350000,
           640000,
           752500,
           580000,
           345000,
           402500,
           450000,
           440000,
           710000,
           680000,
           374950,
           464000,
           439000,
           1100000,
           885000,
           820000,
           487028,
           247300,
           430000,
           553650,
           390000,
           955500,
           640000,
           629000,
           525000,
           700000,
           548500,
           494400,
           862000,
           933000,
           563000,
           777000,
           695000,
           397000,
           430000,
           579000,
           500000,
           549000,
           750000,
           440000,
           795000,
           736000,
           790000,
           330000,
           716000,
           965000,
           825000,
           880000,
           665000,
           210000,
           202000,
           720000,
           762000,
           550000,
           761000,
           625000,
           399950,
           545000,
           585000,
           1050000,
           755000,
           509500,
           475000,
           700000,
           710000,
           1010000,
           585000,
           649950,
           395000,
           659950,
           926300,
           796000,
           680000,
           425000,
           819000,
           500000,
           840000,
           520000,
           716000,
           785200,
           875000,
           530000,
           1020000,
           725000,
           302000,
           886000,
           670000,
           650000,
           690000,
           558000,
           670000,
           775000,
           323000,
           750000,
           800000,
           497000,
           716100,
           895000,
           650500,
           550000,
           950000,
           840000,
           465000,
           278000,
           568000,
           860000,
           798750,
           515000,
           600000,
           430000,
           475000,
           420000,
           800000,
           832600,
           755000,
           700000,
           525000,
           792500,
           648475,
           760000,
           485000,
           625000,
           779000,
           935000,
           823000,
           525000,
           540000,
           719000,
           640000,
           682000,
           578888,
           302282,
           710000,
           480000,
           720000,
           1000000,
           770000,
           404500,
           800000,
           739375,
           665000,
           450000,
           435000,
           860000,
           295000,
           370000,
           345000,
           399000,
           449950,
           230000,
           595000,
           350000,
           925000,
           575000,
           750000,
           677000,
           526000,
           620000,
           724800,
           1050000,
           920000,
           680000,
           650000,
           415000,
           330000,
           495000,
           345000,
           863500,
           517500,
           382000,
           575000,
           626700,
           421500,
           535000,
           650000,
           635000,
           525000,
           675000,
           670000,
           799200,
           550000,
           751750,
           580000,
           755000,
           260000,
           430000,
           384000,
           817000,
           690500,
           350000,
           473000,
           940000,
           595000,
           950000,
           810000,
           550000,
           503500,
           539000,
           750000,
           740000,
           990000,
           700000,
           390000,
           508000,
           685000,
           900000,
           710000,
           546000,
           612000,
           591000,
           650000,
           447500,
           690000,
           560000,
           631000,
           560000,
           499950,
           990000,
           587206,
           482000,
           750000,
           605000,
           605000,
           738000,
           900000,
           304000,
           375000,
           1050000,
           606400,
           440000,
           767500,
           654000,
           570000,
           595000,
           250000,
           295000,
           585000,
           450000,
           339950,
           615000,
           1030000,
           375000,
           450000,
           935000,
           809000,
           1050000,
           625000,
           575000,
           387500,
           865000,
           507200,
           960000,
           1110000,
           345000,
           592500,
           410000,
           626000,
           658000,
           620000,
           585000,
           387000,
           713500,
           300000,
           585000,
           785000,
           525000,
           332000,
           895000,
           622000,
           390000,
           775000,
           455000,
           825000,
           560000,
           485500,
           560000,
           459500,
           733500,
           613000,
           350000,
           650000,
           525000,
           875000,
           756000,
           446000,
           510000,
           1110000,
           640000,
           752000,
           470000,
           1010000,
           440000,
           588000,
           958000,
           540000,
           760500,
           490000,
           460000,
           640000,
           659000,
           1000000,
           604000,
           1010000,
           601000,
           455000,
           875000,
           190500,
           482500,
           454000,
           552500,
           1050000,
           680000,
           431000,
           770000,
           952000,
           625000,
           842000,
           883000,
           570000,
           660000,
           670000,
           1070000,
           490000,
           465000,
           715000,
           780000,
           370000,
           727000,
           1100000,
           925000,
           533000,
           913000,
           792000,
           375000,
           500000,
           425000,
           600000,
           850000,
           365000,
           615000,
           785950,
           563250,
           608000,
           358000,
           920000,
           505000,
           432000,
           390000,
           780000,
           500000,
           920000,
           475000,
           650000,
           448175,
           494000,
           1100000,
           885000,
           386000,
           563000,
           317500,
           535000,
           749500,
           1050000,
           497000,
           655000,
           632750,
           808000,
           578500,
           620000,
           435000,
           1100000,
           550000,
           660000,
           775000,
           657100,
           485000,
           720001,
           625000,
           829000,
           575000,
           601000,
           462500,
           500000,
           750000,
           443000,
           979700,
           750000,
           601450,
           575000,
           630000,
           650000,
           402500,
           465000,
           770000,
           510000,
           480000,
           951250,
           783200,
           563225,
           645000,
           995000,
           738000,
           489000,
           615000,
           595000,
           428000,
           520000,
           555000,
           521000,
           825000,
           976000,
           600000,
           485000,
           462500,
           440000,
           535000,
           360000,
           463000,
           675000,
           875000,
           360000,
           535000,
           742500,
           408000,
           998500,
           500000,
           870000,
           690000,
           629950,
           660000,
           595000,
           595000,
           640000,
           635000,
           549000,
           436000,
           740000,
           695000,
           687500,
           874000,
           790000,
           565000,
           438600,
           499950,
           920000,
           568000,
           543000,
           855000,
           499000,
           615000,
           950000,
           808250,
           479000,
           680000,
           625000,
           625000,
           565000,
           613000,
           472000,
           800000,
           550000,
           675000,
           332888,
           400000,
           740000,
           370000,
           870300,
           410500,
           402000,
           636000,
           900000,
           525000,
           785000,
           831000,
           750000,
           739000,
           845000,
           350000,
           700000,
           605000,
           575000,
           885000,
           700000,
           710500,
           1020000,
           565000,
           545000,
           518000,
           524000,
           570500,
           705000,
           840500,
           530000,
           550000,
           940000,
           375000,
           608000,
           990000,
           478000,
           469775,
           677915,
           670000,
           458500,
           705000,
           747000,
           450000,
           510000,
           395000,
           498000,
           850000,
           388500,
           614950,
           998500,
           580000,
           300000,
           870000,
           931000,
           677500,
           600000,
           710000,
           525000,
           658500,
           455000,
           543000,
           1010000,
           683500,
           499950,
           602000,
           781000,
           905000,
           717500,
           435000,
           800000,
           520000,
           375000,
           810000,
           690000,
           785000,
           860000,
           485000,
           375000,
           400000,
           505000,
           390000,
           780000,
           460000,
           825000,
           550000,
           597000,
           910000,
           1020000,
           775000,
           400000,
           705000,
           575000,
           690000,
           950000,
           640000,
           850000,
           345000,
           712500,
           589000,
           485000,
           750000,
           834000,
           518000,
           915000,
           355000,
           920000,
           640000,
           715000,
           750000,
           675000,
           810000,
           295000,
           750000,
           427500,
           525000,
           824000,
           689888,
           705000,
           815000,
           862500,
           589000,
           655000,
           487500,
           575000,
           848000,
           570000,
           775000,
           600000,
           546000,
           450000,
           725000,
           550000,
           593000,
           525000,
           825000,
           782000,
           488000,
           500000,
           508000,
           355000,
           1030000,
           930000,
           1050000,
           592500,
           525000,
           569500,
           729000,
           721000,
           550000,
           465000,
           435000,
           560000,
           513000,
           365000,
           300523,
           952000,
           825000,
           605000,
           638000,
           599000,
           530000,
           671000,
           385000,
           724950,
           432500,
           1110000,
           970000,
           562500,
           447000,
           905000,
           683000,
           650000,
           380000,
           660000,
           600000,
           872500,
           735000,
           930000,
           612125,
           710000,
           915000,
           935000,
           480000,
           607500,
           1120000,
           550000,
           493000,
           650000,
           546000,
           700000,
           431000,
           1050000,
           730000,
           797000,
           723000,
           740000,
           570000,
           680000,
           640000,
           700000,
           642000,
           855000,
           989000,
           336000,
           784000,
           540000,
           696000,
           500000,
           994000,
           525000,
           850000,
           615000,
           608000,
           500000,
           509000,
           505000,
           396500,
           600000,
           589000,
           600000,
           780500,
           450000,
           840000,
           750000,
           865000,
           261500,
           550000,
           847000,
           672500,
           620000,
           620000,
           1030000,
           475000,
           890000,
           575000,
           580000,
           629950,
           578000,
           575000,
           352750,
           677000,
           410000,
           625000,
           619500,
           485000,
           403950,
           1000000,
           980000,
           950000,
           799500,
           1020000,
           590000,
           540000,
           1050000,
           569000,
           890000,
           450000,
           540000,
           364000,
           425000,
           835000,
           1020000,
           610000,
           427000,
           736500,
           542500,
           720000,
           730000,
           975000,
           645000,
           636100,
           670500,
           988000,
           350000,
           590000,
           499000,
           629950,
           669000,
           747000,
           427500,
           739000,
           525000,
           826000,
           842500,
           334000,
           480000,
           353500,
           979700,
           407500,
           474800,
           395000,
           1050000,
           1050000,
           650000,
           605000,
           879000,
           512500,
           600000,
           680000,
           982218,
           970000,
           700000,
           920000,
           625000,
           800000,
           515000,
           565000,
           460000,
           895000,
           427000,
           886000,
           370000,
           600000,
           700000,
           620047,
           560000,
           397500,
           420000,
           623500,
           906000,
           599950,
           850000,
           615000,
           715000,
           742000,
           700000,
           625000,
           820000,
           435000,
           705000,
           390000,
           770000,
           791000,
           590000,
           818000,
           660000,
           529999,
           581000,
           591000,
           480000,
           425000,
           715000,
           539950,
           130000,
           952500,
           1050000,
           718500,
           474000,
           822500,
           705000,
           685000,
           1060000,
           780000,
           380000,
           552700,
           529000,
           689800,
           849000,
           1100000,
           770000,
           574000,
           651000,
           815000,
           710000,
           517000,
           575000,
           725000,
           399950,
           1000000,
           631500,
           740000,
           740000,
           415000,
           575000,
           855000,
           390000,
           511200,
           850000,
           435000,
           507000,
           350000,
           580000,
           950000,
           550000,
           736000,
           295000,
           690000,
           560000,
           774900,
           707000,
           476000,
           517000,
           345600,
           1000000,
           699999,
           727500,
           900000,
           495000,
           504500,
           675000,
           585000,
           850000,
           478000,
           824000,
           530000,
           509000,
           375000,
           387000,
           885000,
           525000,
           1010000,
           415000,
           460000,
           900000,
           619790,
           794154,
           450000,
           500000,
           812000,
           504200,
           580000,
           386180,
           562000,
           349000,
           675000,
           543000,
           299000,
           660000,
           379900,
           540000,
           445000,
           655000,
           523950,
           369000,
           455000,
           730000,
           622500,
           545000,
           615000,
           622000,
           455000,
           360000,
           515000,
           840000,
           950000,
           850000,
           495000,
           685000,
           619000,
           377000,
           759000,
           412000,
           555000,
           527500,
           455000,
           975000,
           650000,
           675000,
           399950,
           667000,
           547500,
           439990,
           675000,
           385000,
           459000,
           660000,
           602000,
           640000,
           659000,
           515000,
           550000,
           500000,
           735000,
           625000,
           520000,
           665000,
           525000,
           500000,
           672000,
           475000,
           359950,
           635000,
           399950,
           565000,
           609000,
           625000,
           525000,
           405000,
           356999,
           664950,
           500000,
           465000,
           920000,
           670000,
           560000,
           772000,
           425000,
           459000,
           584000,
           505000,
           565000,
           547000,
           441000,
           375000,
           455000,
           700000,
           579000,
           552500,
           749000,
           653500,
           610000,
           580000,
           500000,
           499950,
           654000,
           530000,
           515000,
           480000,
           562500,
           1110000,
           650000,
           563500,
           411000,
           699999,
           749950,
           450000,
           415000,
           435000,
           690000,
           329950,
           499000,
           555000,
           640000,
           526000,
           525000,
           575000,
           420000,
           630000,
           600000,
           490000,
           465000,
           605000,
           549900,
           492000,
           580000,
           230000,
           650000,
           521500,
           580000,
           550000,
           450000,
           727000,
           397500,
           1080000,
           586500,
           649000,
           585000,
           542300,
           365000,
           630500,
           687015,
           570000,
           720000,
           500000,
           552100,
           610000,
           671500,
           559000,
           645000,
           453000,
           539900,
           935000,
           353000,
           490000,
           339950,
           779000,
           438000,
           325000,
           455000,
           598500,
           729999,
           386950,
           375000,
           535000,
           433000,
           610000,
           453000,
           482000,
           475000,
           585000,
           459000,
           516500,
           530000,
           747450,
           710200,
           610950,
           579000,
           645000,
           399950,
           475000,
           520000
          ],
          "coloraxis": "coloraxis",
          "opacity": 0.3
         },
         "mode": "markers",
         "name": "",
         "showlegend": false,
         "subplot": "mapbox",
         "type": "scattermapbox"
        }
       ],
       "layout": {
        "coloraxis": {
         "colorbar": {
          "title": {
           "text": "price"
          }
         },
         "colorscale": [
          [
           0,
           "#0d0887"
          ],
          [
           0.1111111111111111,
           "#46039f"
          ],
          [
           0.2222222222222222,
           "#7201a8"
          ],
          [
           0.3333333333333333,
           "#9c179e"
          ],
          [
           0.4444444444444444,
           "#bd3786"
          ],
          [
           0.5555555555555556,
           "#d8576b"
          ],
          [
           0.6666666666666666,
           "#ed7953"
          ],
          [
           0.7777777777777778,
           "#fb9f3a"
          ],
          [
           0.8888888888888888,
           "#fdca26"
          ],
          [
           1,
           "#f0f921"
          ]
         ]
        },
        "height": 500,
        "legend": {
         "tracegroupgap": 0
        },
        "mapbox": {
         "center": {
          "lat": 47.6306598367347,
          "lon": -122.33674367346939
         },
         "domain": {
          "x": [
           0,
           1
          ],
          "y": [
           0,
           1
          ]
         },
         "style": "open-street-map",
         "zoom": 8
        },
        "margin": {
         "b": 0,
         "l": 0,
         "r": 0,
         "t": 60
        },
        "template": {
         "data": {
          "bar": [
           {
            "error_x": {
             "color": "#f2f5fa"
            },
            "error_y": {
             "color": "#f2f5fa"
            },
            "marker": {
             "line": {
              "color": "rgb(17,17,17)",
              "width": 0.5
             },
             "pattern": {
              "fillmode": "overlay",
              "size": 10,
              "solidity": 0.2
             }
            },
            "type": "bar"
           }
          ],
          "barpolar": [
           {
            "marker": {
             "line": {
              "color": "rgb(17,17,17)",
              "width": 0.5
             },
             "pattern": {
              "fillmode": "overlay",
              "size": 10,
              "solidity": 0.2
             }
            },
            "type": "barpolar"
           }
          ],
          "carpet": [
           {
            "aaxis": {
             "endlinecolor": "#A2B1C6",
             "gridcolor": "#506784",
             "linecolor": "#506784",
             "minorgridcolor": "#506784",
             "startlinecolor": "#A2B1C6"
            },
            "baxis": {
             "endlinecolor": "#A2B1C6",
             "gridcolor": "#506784",
             "linecolor": "#506784",
             "minorgridcolor": "#506784",
             "startlinecolor": "#A2B1C6"
            },
            "type": "carpet"
           }
          ],
          "choropleth": [
           {
            "colorbar": {
             "outlinewidth": 0,
             "ticks": ""
            },
            "type": "choropleth"
           }
          ],
          "contour": [
           {
            "colorbar": {
             "outlinewidth": 0,
             "ticks": ""
            },
            "colorscale": [
             [
              0,
              "#0d0887"
             ],
             [
              0.1111111111111111,
              "#46039f"
             ],
             [
              0.2222222222222222,
              "#7201a8"
             ],
             [
              0.3333333333333333,
              "#9c179e"
             ],
             [
              0.4444444444444444,
              "#bd3786"
             ],
             [
              0.5555555555555556,
              "#d8576b"
             ],
             [
              0.6666666666666666,
              "#ed7953"
             ],
             [
              0.7777777777777778,
              "#fb9f3a"
             ],
             [
              0.8888888888888888,
              "#fdca26"
             ],
             [
              1,
              "#f0f921"
             ]
            ],
            "type": "contour"
           }
          ],
          "contourcarpet": [
           {
            "colorbar": {
             "outlinewidth": 0,
             "ticks": ""
            },
            "type": "contourcarpet"
           }
          ],
          "heatmap": [
           {
            "colorbar": {
             "outlinewidth": 0,
             "ticks": ""
            },
            "colorscale": [
             [
              0,
              "#0d0887"
             ],
             [
              0.1111111111111111,
              "#46039f"
             ],
             [
              0.2222222222222222,
              "#7201a8"
             ],
             [
              0.3333333333333333,
              "#9c179e"
             ],
             [
              0.4444444444444444,
              "#bd3786"
             ],
             [
              0.5555555555555556,
              "#d8576b"
             ],
             [
              0.6666666666666666,
              "#ed7953"
             ],
             [
              0.7777777777777778,
              "#fb9f3a"
             ],
             [
              0.8888888888888888,
              "#fdca26"
             ],
             [
              1,
              "#f0f921"
             ]
            ],
            "type": "heatmap"
           }
          ],
          "heatmapgl": [
           {
            "colorbar": {
             "outlinewidth": 0,
             "ticks": ""
            },
            "colorscale": [
             [
              0,
              "#0d0887"
             ],
             [
              0.1111111111111111,
              "#46039f"
             ],
             [
              0.2222222222222222,
              "#7201a8"
             ],
             [
              0.3333333333333333,
              "#9c179e"
             ],
             [
              0.4444444444444444,
              "#bd3786"
             ],
             [
              0.5555555555555556,
              "#d8576b"
             ],
             [
              0.6666666666666666,
              "#ed7953"
             ],
             [
              0.7777777777777778,
              "#fb9f3a"
             ],
             [
              0.8888888888888888,
              "#fdca26"
             ],
             [
              1,
              "#f0f921"
             ]
            ],
            "type": "heatmapgl"
           }
          ],
          "histogram": [
           {
            "marker": {
             "pattern": {
              "fillmode": "overlay",
              "size": 10,
              "solidity": 0.2
             }
            },
            "type": "histogram"
           }
          ],
          "histogram2d": [
           {
            "colorbar": {
             "outlinewidth": 0,
             "ticks": ""
            },
            "colorscale": [
             [
              0,
              "#0d0887"
             ],
             [
              0.1111111111111111,
              "#46039f"
             ],
             [
              0.2222222222222222,
              "#7201a8"
             ],
             [
              0.3333333333333333,
              "#9c179e"
             ],
             [
              0.4444444444444444,
              "#bd3786"
             ],
             [
              0.5555555555555556,
              "#d8576b"
             ],
             [
              0.6666666666666666,
              "#ed7953"
             ],
             [
              0.7777777777777778,
              "#fb9f3a"
             ],
             [
              0.8888888888888888,
              "#fdca26"
             ],
             [
              1,
              "#f0f921"
             ]
            ],
            "type": "histogram2d"
           }
          ],
          "histogram2dcontour": [
           {
            "colorbar": {
             "outlinewidth": 0,
             "ticks": ""
            },
            "colorscale": [
             [
              0,
              "#0d0887"
             ],
             [
              0.1111111111111111,
              "#46039f"
             ],
             [
              0.2222222222222222,
              "#7201a8"
             ],
             [
              0.3333333333333333,
              "#9c179e"
             ],
             [
              0.4444444444444444,
              "#bd3786"
             ],
             [
              0.5555555555555556,
              "#d8576b"
             ],
             [
              0.6666666666666666,
              "#ed7953"
             ],
             [
              0.7777777777777778,
              "#fb9f3a"
             ],
             [
              0.8888888888888888,
              "#fdca26"
             ],
             [
              1,
              "#f0f921"
             ]
            ],
            "type": "histogram2dcontour"
           }
          ],
          "mesh3d": [
           {
            "colorbar": {
             "outlinewidth": 0,
             "ticks": ""
            },
            "type": "mesh3d"
           }
          ],
          "parcoords": [
           {
            "line": {
             "colorbar": {
              "outlinewidth": 0,
              "ticks": ""
             }
            },
            "type": "parcoords"
           }
          ],
          "pie": [
           {
            "automargin": true,
            "type": "pie"
           }
          ],
          "scatter": [
           {
            "marker": {
             "line": {
              "color": "#283442"
             }
            },
            "type": "scatter"
           }
          ],
          "scatter3d": [
           {
            "line": {
             "colorbar": {
              "outlinewidth": 0,
              "ticks": ""
             }
            },
            "marker": {
             "colorbar": {
              "outlinewidth": 0,
              "ticks": ""
             }
            },
            "type": "scatter3d"
           }
          ],
          "scattercarpet": [
           {
            "marker": {
             "colorbar": {
              "outlinewidth": 0,
              "ticks": ""
             }
            },
            "type": "scattercarpet"
           }
          ],
          "scattergeo": [
           {
            "marker": {
             "colorbar": {
              "outlinewidth": 0,
              "ticks": ""
             }
            },
            "type": "scattergeo"
           }
          ],
          "scattergl": [
           {
            "marker": {
             "line": {
              "color": "#283442"
             }
            },
            "type": "scattergl"
           }
          ],
          "scattermapbox": [
           {
            "marker": {
             "colorbar": {
              "outlinewidth": 0,
              "ticks": ""
             }
            },
            "type": "scattermapbox"
           }
          ],
          "scatterpolar": [
           {
            "marker": {
             "colorbar": {
              "outlinewidth": 0,
              "ticks": ""
             }
            },
            "type": "scatterpolar"
           }
          ],
          "scatterpolargl": [
           {
            "marker": {
             "colorbar": {
              "outlinewidth": 0,
              "ticks": ""
             }
            },
            "type": "scatterpolargl"
           }
          ],
          "scatterternary": [
           {
            "marker": {
             "colorbar": {
              "outlinewidth": 0,
              "ticks": ""
             }
            },
            "type": "scatterternary"
           }
          ],
          "surface": [
           {
            "colorbar": {
             "outlinewidth": 0,
             "ticks": ""
            },
            "colorscale": [
             [
              0,
              "#0d0887"
             ],
             [
              0.1111111111111111,
              "#46039f"
             ],
             [
              0.2222222222222222,
              "#7201a8"
             ],
             [
              0.3333333333333333,
              "#9c179e"
             ],
             [
              0.4444444444444444,
              "#bd3786"
             ],
             [
              0.5555555555555556,
              "#d8576b"
             ],
             [
              0.6666666666666666,
              "#ed7953"
             ],
             [
              0.7777777777777778,
              "#fb9f3a"
             ],
             [
              0.8888888888888888,
              "#fdca26"
             ],
             [
              1,
              "#f0f921"
             ]
            ],
            "type": "surface"
           }
          ],
          "table": [
           {
            "cells": {
             "fill": {
              "color": "#506784"
             },
             "line": {
              "color": "rgb(17,17,17)"
             }
            },
            "header": {
             "fill": {
              "color": "#2a3f5f"
             },
             "line": {
              "color": "rgb(17,17,17)"
             }
            },
            "type": "table"
           }
          ]
         },
         "layout": {
          "annotationdefaults": {
           "arrowcolor": "#f2f5fa",
           "arrowhead": 0,
           "arrowwidth": 1
          },
          "autotypenumbers": "strict",
          "coloraxis": {
           "colorbar": {
            "outlinewidth": 0,
            "ticks": ""
           }
          },
          "colorscale": {
           "diverging": [
            [
             0,
             "#8e0152"
            ],
            [
             0.1,
             "#c51b7d"
            ],
            [
             0.2,
             "#de77ae"
            ],
            [
             0.3,
             "#f1b6da"
            ],
            [
             0.4,
             "#fde0ef"
            ],
            [
             0.5,
             "#f7f7f7"
            ],
            [
             0.6,
             "#e6f5d0"
            ],
            [
             0.7,
             "#b8e186"
            ],
            [
             0.8,
             "#7fbc41"
            ],
            [
             0.9,
             "#4d9221"
            ],
            [
             1,
             "#276419"
            ]
           ],
           "sequential": [
            [
             0,
             "#0d0887"
            ],
            [
             0.1111111111111111,
             "#46039f"
            ],
            [
             0.2222222222222222,
             "#7201a8"
            ],
            [
             0.3333333333333333,
             "#9c179e"
            ],
            [
             0.4444444444444444,
             "#bd3786"
            ],
            [
             0.5555555555555556,
             "#d8576b"
            ],
            [
             0.6666666666666666,
             "#ed7953"
            ],
            [
             0.7777777777777778,
             "#fb9f3a"
            ],
            [
             0.8888888888888888,
             "#fdca26"
            ],
            [
             1,
             "#f0f921"
            ]
           ],
           "sequentialminus": [
            [
             0,
             "#0d0887"
            ],
            [
             0.1111111111111111,
             "#46039f"
            ],
            [
             0.2222222222222222,
             "#7201a8"
            ],
            [
             0.3333333333333333,
             "#9c179e"
            ],
            [
             0.4444444444444444,
             "#bd3786"
            ],
            [
             0.5555555555555556,
             "#d8576b"
            ],
            [
             0.6666666666666666,
             "#ed7953"
            ],
            [
             0.7777777777777778,
             "#fb9f3a"
            ],
            [
             0.8888888888888888,
             "#fdca26"
            ],
            [
             1,
             "#f0f921"
            ]
           ]
          },
          "colorway": [
           "#636efa",
           "#EF553B",
           "#00cc96",
           "#ab63fa",
           "#FFA15A",
           "#19d3f3",
           "#FF6692",
           "#B6E880",
           "#FF97FF",
           "#FECB52"
          ],
          "font": {
           "color": "#f2f5fa"
          },
          "geo": {
           "bgcolor": "rgb(17,17,17)",
           "lakecolor": "rgb(17,17,17)",
           "landcolor": "rgb(17,17,17)",
           "showlakes": true,
           "showland": true,
           "subunitcolor": "#506784"
          },
          "hoverlabel": {
           "align": "left"
          },
          "hovermode": "closest",
          "mapbox": {
           "style": "dark"
          },
          "paper_bgcolor": "rgb(17,17,17)",
          "plot_bgcolor": "rgb(17,17,17)",
          "polar": {
           "angularaxis": {
            "gridcolor": "#506784",
            "linecolor": "#506784",
            "ticks": ""
           },
           "bgcolor": "rgb(17,17,17)",
           "radialaxis": {
            "gridcolor": "#506784",
            "linecolor": "#506784",
            "ticks": ""
           }
          },
          "scene": {
           "xaxis": {
            "backgroundcolor": "rgb(17,17,17)",
            "gridcolor": "#506784",
            "gridwidth": 2,
            "linecolor": "#506784",
            "showbackground": true,
            "ticks": "",
            "zerolinecolor": "#C8D4E3"
           },
           "yaxis": {
            "backgroundcolor": "rgb(17,17,17)",
            "gridcolor": "#506784",
            "gridwidth": 2,
            "linecolor": "#506784",
            "showbackground": true,
            "ticks": "",
            "zerolinecolor": "#C8D4E3"
           },
           "zaxis": {
            "backgroundcolor": "rgb(17,17,17)",
            "gridcolor": "#506784",
            "gridwidth": 2,
            "linecolor": "#506784",
            "showbackground": true,
            "ticks": "",
            "zerolinecolor": "#C8D4E3"
           }
          },
          "shapedefaults": {
           "line": {
            "color": "#f2f5fa"
           }
          },
          "sliderdefaults": {
           "bgcolor": "#C8D4E3",
           "bordercolor": "rgb(17,17,17)",
           "borderwidth": 1,
           "tickwidth": 0
          },
          "ternary": {
           "aaxis": {
            "gridcolor": "#506784",
            "linecolor": "#506784",
            "ticks": ""
           },
           "baxis": {
            "gridcolor": "#506784",
            "linecolor": "#506784",
            "ticks": ""
           },
           "bgcolor": "rgb(17,17,17)",
           "caxis": {
            "gridcolor": "#506784",
            "linecolor": "#506784",
            "ticks": ""
           }
          },
          "title": {
           "x": 0.05
          },
          "updatemenudefaults": {
           "bgcolor": "#506784",
           "borderwidth": 0
          },
          "xaxis": {
           "automargin": true,
           "gridcolor": "#283442",
           "linecolor": "#506784",
           "ticks": "",
           "title": {
            "standoff": 15
           },
           "zerolinecolor": "#283442",
           "zerolinewidth": 2
          },
          "yaxis": {
           "automargin": true,
           "gridcolor": "#283442",
           "linecolor": "#506784",
           "ticks": "",
           "title": {
            "standoff": 15
           },
           "zerolinecolor": "#283442",
           "zerolinewidth": 2
          }
         }
        },
        "title": {
         "font": {
          "size": 28
         },
         "text": "US king county housings",
         "x": 0.5,
         "xanchor": "center",
         "y": 0.95,
         "yanchor": "top"
        },
        "width": 700
       }
      }
     },
     "metadata": {},
     "output_type": "display_data"
    }
   ],
   "source": [
    "# Plots the main figure\n",
    "fig = px.scatter_mapbox(\n",
    "    central_houses_df,\n",
    "    lat='lat',\n",
    "    lon='long',\n",
    "    opacity=0.3,\n",
    "    zoom=8,\n",
    "    mapbox_style='open-street-map', \n",
    "    color='price',  \n",
    "    hover_name='price',\n",
    "    hover_data={\"zipcode\": True, \n",
    "                \"price\": True, \n",
    "                \"long\": False,\n",
    "                \"lat\": False},\n",
    "    #title = 'US king county housings',\n",
    "    template='plotly_dark'\n",
    ")\n",
    "\n",
    "# updates marrkers and tooltips\n",
    "fig.update_traces(hovertemplate =\n",
    "            '<b>' + central_houses_df.zipcode.astype('str') + '</b><br>' \n",
    "#            '<br><b>State</b>: '+ df.state +\n",
    "#            '<br><b>City</b>: ' + df.city, \n",
    "#            marker=dict(\n",
    "#                # color='SteelBlue'   # !!! comment me\n",
    "                )\n",
    "\n",
    "# updating height, width, margins and other layout properties\n",
    "fig.update_layout(\n",
    "    width=700,\n",
    "    height=500,\n",
    "    title_font_size=28,\n",
    "    margin=dict(l=0, r=0, t=60, b=0),  # Set margins to zero (pixels)\n",
    "    title={\n",
    "        'text': \"US king county housings\",\n",
    "        'y':0.95,\n",
    "        'x':0.5,\n",
    "        'xanchor': 'center',\n",
    "        'yanchor': 'top'})"
   ]
  },
  {
   "cell_type": "markdown",
   "metadata": {},
   "source": [
    "# Finding the best timing to buy a house in theses areas"
   ]
  },
  {
   "cell_type": "markdown",
   "metadata": {},
   "source": [
    "1. Create new features 'year_sold' and 'month sold' and extra year and month from date (which is the sold date)"
   ]
  },
  {
   "cell_type": "code",
   "execution_count": 34,
   "metadata": {},
   "outputs": [],
   "source": [
    "#transform date to Datetime format\n",
    "\n",
    "central_houses_df['date'] = pd.to_datetime(central_houses_df['date'], format='mixed')\n",
    "\n",
    "\n",
    "\n",
    "#extract year and month of sold date\n",
    "central_houses_df['year_sold'] = central_houses_df['date'].dt.year # extract only year\n",
    "central_houses_df['month_sold'] = central_houses_df['date'].dt.month# extract only month\n",
    "central_houses_df['year_sold'] = central_houses_df['year_sold'].astype(str) #convert year to string\n",
    "central_houses_df = central_houses_df.sort_values('month_sold')\n",
    "\n"
   ]
  },
  {
   "cell_type": "markdown",
   "metadata": {},
   "source": []
  },
  {
   "cell_type": "code",
   "execution_count": 35,
   "metadata": {},
   "outputs": [
    {
     "data": {
      "image/png": "[encoded data removed]",
      "text/plain": [
       "<Figure size 1200x600 with 1 Axes>"
      ]
     },
     "metadata": {},
     "output_type": "display_data"
    }
   ],
   "source": [
    "\n",
    "#plotting price fluctuation over the year \n",
    "sns.set_theme(style=\"darkgrid\")\n",
    "\n",
    "\n",
    "# Plot \n",
    "plt.figure(figsize=(12, 6))\n",
    "sns.lineplot(x=\"month_sold\", y=\"price\",\n",
    "             data=central_houses_df)\n",
    "plt.title('Price Fluctuation over the year during 2014 and 2015 in central areas')\n",
    "plt.xlabel('Month')\n",
    "plt.ylabel('Price')\n",
    "\n",
    "#xtick intervals\n",
    "plt.xticks(range(1,13))\n",
    "\n",
    "plt.show()"
   ]
  },
  {
   "cell_type": "markdown",
   "metadata": {},
   "source": [
    "**Does price increase by year?**"
   ]
  },
  {
   "cell_type": "code",
   "execution_count": 36,
   "metadata": {},
   "outputs": [
    {
     "data": {
      "image/png": "[encoded data removed]",
      "text/plain": [
       "<Figure size 1200x600 with 1 Axes>"
      ]
     },
     "metadata": {},
     "output_type": "display_data"
    }
   ],
   "source": [
    "# Convert 'year_sold' column to float64\n",
    "central_houses_df['year_sold'] = central_houses_df['year_sold'].astype('float64')\n",
    "\n",
    "# Calculate average price for each year\n",
    "average_prices_by_year = central_houses_df.groupby('year_sold')['price'].mean().reset_index()\n",
    "\n",
    "# Set the seaborn style\n",
    "sns.set_theme(style=\"darkgrid\")\n",
    "\n",
    "# Plot \n",
    "plt.figure(figsize=(12, 6))\n",
    "sns.barplot(x=\"year_sold\", y=\"price\",\n",
    "            data=average_prices_by_year, \n",
    "            color='skyblue')  # Set color of bars to skyblue\n",
    "\n",
    "\n",
    "plt.title('Average Price by Year')\n",
    "plt.xlabel('Year')\n",
    "plt.ylabel('Average Price')\n",
    "\n",
    "plt.show()"
   ]
  },
  {
   "cell_type": "markdown",
   "metadata": {},
   "source": [
    "# Which central areas are more affordable for middle price range?\n",
    "\n",
    "* List of zipcodes, order by average price, to show more affordable areas"
   ]
  },
  {
   "cell_type": "code",
   "execution_count": 39,
   "metadata": {},
   "outputs": [
    {
     "data": {
      "image/png": "[encoded data removed]",
      "text/plain": [
       "<Figure size 1200x600 with 1 Axes>"
      ]
     },
     "metadata": {},
     "output_type": "display_data"
    }
   ],
   "source": [
    "\n",
    "# Group by zipcode and calculate the average price\n",
    "average_price_by_zipcode = central_houses_df.groupby(\"zipcode\")[\"price\"].mean()\n",
    "\n",
    "# Sort average prices in descending order\n",
    "average_price_by_zipcode_sorted = average_price_by_zipcode.sort_values(ascending=False)\n",
    "\n",
    "# Create a bar plot\n",
    "plt.figure(figsize=(12, 6))\n",
    "average_price_by_zipcode_sorted.plot(kind=\"barh\", color=\"skyblue\")\n",
    "plt.title(\"Average house prices by zipcode in central area within mid-price range\")\n",
    "plt.xlabel(\"Price ($)\")\n",
    "plt.ylabel(\"Zipcode\")\n",
    "plt.xticks(rotation=45)  # Rotate x-axis labels for better readability\n",
    "plt.show()"
   ]
  },
  {
   "cell_type": "markdown",
   "metadata": {},
   "source": [
    "***Show area with lowest price and show area with highest living space, grade and condition on map***"
   ]
  },
  {
   "cell_type": "code",
   "execution_count": null,
   "metadata": {},
   "outputs": [
    {
     "data": {
      "text/html": [
       "<div style=\"width:100%;\"><div style=\"position:relative;width:100%;height:0;padding-bottom:60%;\"><span style=\"color:#565656\">Make this Notebook Trusted to load map: File -> Trust Notebook</span><iframe srcdoc=\"&lt;!DOCTYPE html&gt;\n",
       "&lt;html&gt;\n",
       "&lt;head&gt;\n",
       "    \n",
       "    &lt;meta http-equiv=&quot;content-type&quot; content=&quot;text/html; charset=UTF-8&quot; /&gt;\n",
       "    \n",
       "        &lt;script&gt;\n",
       "            L_NO_TOUCH = false;\n",
       "            L_DISABLE_3D = false;\n",
       "        &lt;/script&gt;\n",
       "    \n",
       "    &lt;style&gt;html, body {width: 100%;height: 100%;margin: 0;padding: 0;}&lt;/style&gt;\n",
       "    &lt;style&gt;#map {position:absolute;top:0;bottom:0;right:0;left:0;}&lt;/style&gt;\n",
       "    &lt;script src=&quot;https://cdn.jsdelivr.net/npm/leaflet@1.9.3/dist/leaflet.js&quot;&gt;&lt;/script&gt;\n",
       "    &lt;script src=&quot;https://code.jquery.com/jquery-3.7.1.min.js&quot;&gt;&lt;/script&gt;\n",
       "    &lt;script src=&quot;https://cdn.jsdelivr.net/npm/bootstrap@5.2.2/dist/js/bootstrap.bundle.min.js&quot;&gt;&lt;/script&gt;\n",
       "    &lt;script src=&quot;https://cdnjs.cloudflare.com/ajax/libs/Leaflet.awesome-markers/2.0.2/leaflet.awesome-markers.js&quot;&gt;&lt;/script&gt;\n",
       "    &lt;link rel=&quot;stylesheet&quot; href=&quot;https://cdn.jsdelivr.net/npm/leaflet@1.9.3/dist/leaflet.css&quot;/&gt;\n",
       "    &lt;link rel=&quot;stylesheet&quot; href=&quot;https://cdn.jsdelivr.net/npm/bootstrap@5.2.2/dist/css/bootstrap.min.css&quot;/&gt;\n",
       "    &lt;link rel=&quot;stylesheet&quot; href=&quot;https://netdna.bootstrapcdn.com/bootstrap/3.0.0/css/bootstrap.min.css&quot;/&gt;\n",
       "    &lt;link rel=&quot;stylesheet&quot; href=&quot;https://cdn.jsdelivr.net/npm/@fortawesome/fontawesome-free@6.2.0/css/all.min.css&quot;/&gt;\n",
       "    &lt;link rel=&quot;stylesheet&quot; href=&quot;https://cdnjs.cloudflare.com/ajax/libs/Leaflet.awesome-markers/2.0.2/leaflet.awesome-markers.css&quot;/&gt;\n",
       "    &lt;link rel=&quot;stylesheet&quot; href=&quot;https://cdn.jsdelivr.net/gh/python-visualization/folium/folium/templates/leaflet.awesome.rotate.min.css&quot;/&gt;\n",
       "    \n",
       "            &lt;meta name=&quot;viewport&quot; content=&quot;width=device-width,\n",
       "                initial-scale=1.0, maximum-scale=1.0, user-scalable=no&quot; /&gt;\n",
       "            &lt;style&gt;\n",
       "                #map_201cd48665daa01e686673075dbcb075 {\n",
       "                    position: relative;\n",
       "                    width: 100.0%;\n",
       "                    height: 100.0%;\n",
       "                    left: 0.0%;\n",
       "                    top: 0.0%;\n",
       "                }\n",
       "                .leaflet-container { font-size: 1rem; }\n",
       "            &lt;/style&gt;\n",
       "        \n",
       "&lt;/head&gt;\n",
       "&lt;body&gt;\n",
       "    \n",
       "    \n",
       "            &lt;div class=&quot;folium-map&quot; id=&quot;map_201cd48665daa01e686673075dbcb075&quot; &gt;&lt;/div&gt;\n",
       "        \n",
       "&lt;/body&gt;\n",
       "&lt;script&gt;\n",
       "    \n",
       "    \n",
       "            var map_201cd48665daa01e686673075dbcb075 = L.map(\n",
       "                &quot;map_201cd48665daa01e686673075dbcb075&quot;,\n",
       "                {\n",
       "                    center: [47.637, -122.324],\n",
       "                    crs: L.CRS.EPSG3857,\n",
       "                    zoom: 12,\n",
       "                    zoomControl: true,\n",
       "                    preferCanvas: false,\n",
       "                }\n",
       "            );\n",
       "\n",
       "            \n",
       "\n",
       "        \n",
       "    \n",
       "            var tile_layer_767d5ca880e23c411623389c44470427 = L.tileLayer(\n",
       "                &quot;https://tile.openstreetmap.org/{z}/{x}/{y}.png&quot;,\n",
       "                {&quot;attribution&quot;: &quot;\\u0026copy; \\u003ca href=\\&quot;https://www.openstreetmap.org/copyright\\&quot;\\u003eOpenStreetMap\\u003c/a\\u003e contributors&quot;, &quot;detectRetina&quot;: false, &quot;maxNativeZoom&quot;: 19, &quot;maxZoom&quot;: 19, &quot;minZoom&quot;: 0, &quot;noWrap&quot;: false, &quot;opacity&quot;: 1, &quot;subdomains&quot;: &quot;abc&quot;, &quot;tms&quot;: false}\n",
       "            );\n",
       "        \n",
       "    \n",
       "            tile_layer_767d5ca880e23c411623389c44470427.addTo(map_201cd48665daa01e686673075dbcb075);\n",
       "        \n",
       "    \n",
       "            var marker_c514b89128a039f138d7de68c56e5dfd = L.marker(\n",
       "                [47.637, -122.324],\n",
       "                {}\n",
       "            ).addTo(map_201cd48665daa01e686673075dbcb075);\n",
       "        \n",
       "    \n",
       "        var popup_5a3dde9c2038b8b1ddb785e3efa97fc4 = L.popup({&quot;maxWidth&quot;: &quot;100%&quot;});\n",
       "\n",
       "        \n",
       "            \n",
       "                var html_94dbf4a9d2f803d6bee22838d7becef8 = $(`&lt;div id=&quot;html_94dbf4a9d2f803d6bee22838d7becef8&quot; style=&quot;width: 100.0%; height: 100.0%;&quot;&gt;Best Condition Zipcode: 98102&lt;/div&gt;`)[0];\n",
       "                popup_5a3dde9c2038b8b1ddb785e3efa97fc4.setContent(html_94dbf4a9d2f803d6bee22838d7becef8);\n",
       "            \n",
       "        \n",
       "\n",
       "        marker_c514b89128a039f138d7de68c56e5dfd.bindPopup(popup_5a3dde9c2038b8b1ddb785e3efa97fc4)\n",
       "        ;\n",
       "\n",
       "        \n",
       "    \n",
       "    \n",
       "            var marker_c52b17bd2c68f7ed67ef77e0e4e8b08b = L.marker(\n",
       "                [47.6368, -122.351],\n",
       "                {}\n",
       "            ).addTo(map_201cd48665daa01e686673075dbcb075);\n",
       "        \n",
       "    \n",
       "        var popup_19e2ea842ea8247438e23135298d1406 = L.popup({&quot;maxWidth&quot;: &quot;100%&quot;});\n",
       "\n",
       "        \n",
       "            \n",
       "                var html_b856ad1cc941fcb3428edd8eff8a433e = $(`&lt;div id=&quot;html_b856ad1cc941fcb3428edd8eff8a433e&quot; style=&quot;width: 100.0%; height: 100.0%;&quot;&gt;Best Grade Zipcode: 98109&lt;/div&gt;`)[0];\n",
       "                popup_19e2ea842ea8247438e23135298d1406.setContent(html_b856ad1cc941fcb3428edd8eff8a433e);\n",
       "            \n",
       "        \n",
       "\n",
       "        marker_c52b17bd2c68f7ed67ef77e0e4e8b08b.bindPopup(popup_19e2ea842ea8247438e23135298d1406)\n",
       "        ;\n",
       "\n",
       "        \n",
       "    \n",
       "    \n",
       "            var marker_29a7f96639f8cdb133c696fd96b075a7 = L.marker(\n",
       "                [47.6435, -122.373],\n",
       "                {}\n",
       "            ).addTo(map_201cd48665daa01e686673075dbcb075);\n",
       "        \n",
       "    \n",
       "        var popup_93bb51d875649d64a8a3eb6b58470041 = L.popup({&quot;maxWidth&quot;: &quot;100%&quot;});\n",
       "\n",
       "        \n",
       "            \n",
       "                var html_71aaf27d46137a6a54ec6222b78d740c = $(`&lt;div id=&quot;html_71aaf27d46137a6a54ec6222b78d740c&quot; style=&quot;width: 100.0%; height: 100.0%;&quot;&gt;Best Sqft Zipcode: 98119&lt;/div&gt;`)[0];\n",
       "                popup_93bb51d875649d64a8a3eb6b58470041.setContent(html_71aaf27d46137a6a54ec6222b78d740c);\n",
       "            \n",
       "        \n",
       "\n",
       "        marker_29a7f96639f8cdb133c696fd96b075a7.bindPopup(popup_93bb51d875649d64a8a3eb6b58470041)\n",
       "        ;\n",
       "\n",
       "        \n",
       "    \n",
       "    \n",
       "            var marker_e4e9ada6d8154bb1a30302972b745af5 = L.marker(\n",
       "                [47.5912, -122.384],\n",
       "                {}\n",
       "            ).addTo(map_201cd48665daa01e686673075dbcb075);\n",
       "        \n",
       "    \n",
       "        var popup_4ac11a717f57a62e618796674e8b2162 = L.popup({&quot;maxWidth&quot;: &quot;100%&quot;});\n",
       "\n",
       "        \n",
       "            \n",
       "                var html_80f4a6a41d35fe25bf71a9a023663c2a = $(`&lt;div id=&quot;html_80f4a6a41d35fe25bf71a9a023663c2a&quot; style=&quot;width: 100.0%; height: 100.0%;&quot;&gt;Smallest Price Zipcode: 98116&lt;/div&gt;`)[0];\n",
       "                popup_4ac11a717f57a62e618796674e8b2162.setContent(html_80f4a6a41d35fe25bf71a9a023663c2a);\n",
       "            \n",
       "        \n",
       "\n",
       "        marker_e4e9ada6d8154bb1a30302972b745af5.bindPopup(popup_4ac11a717f57a62e618796674e8b2162)\n",
       "        ;\n",
       "\n",
       "        \n",
       "    \n",
       "&lt;/script&gt;\n",
       "&lt;/html&gt;\" style=\"position:absolute;width:100%;height:100%;left:0;top:0;border:none !important;\" allowfullscreen webkitallowfullscreen mozallowfullscreen></iframe></div></div>"
      ],
      "text/plain": [
       "<folium.folium.Map at 0x29334be10>"
      ]
     },
     "execution_count": 356,
     "metadata": {},
     "output_type": "execute_result"
    }
   ],
   "source": [
    "\n",
    "\n",
    "# Group by zipcode and calculate the minimum price, maximum condition, grade, and sqft living for each zipcode\n",
    "min_price_by_zipcode = central_houses_midprice_df.groupby(\"zipcode\")[\"price\"].min()\n",
    "max_condition_by_zipcode = central_houses_midprice_df.groupby(\"zipcode\")[\"condition\"].max().fillna(0)\n",
    "max_grade_by_zipcode = central_houses_midprice_df.groupby(\"zipcode\")[\"grade\"].max().fillna(0)\n",
    "max_sqft_by_zipcode = central_houses_midprice_df.groupby(\"zipcode\")[\"sqft_living\"].max().fillna(0)\n",
    "\n",
    "# Find the zipcodes with the smallest minimum price and the highest maximum condition, grade, and sqft\n",
    "best_price_zipcode = min_price_by_zipcode.idxmin()\n",
    "best_condition_zipcode = max_condition_by_zipcode.idxmax()\n",
    "best_grade_zipcode = max_grade_by_zipcode.idxmax()\n",
    "best_sqft_zipcode = max_sqft_by_zipcode.idxmax()\n",
    "\n",
    "# Get the latitude and longitude of the zipcodes\n",
    "best_price_lat = central_houses_midprice_df.loc[central_houses_midprice_df[\"zipcode\"] == best_price_zipcode, \"lat\"].iloc[0]\n",
    "best_price_lon = central_houses_midprice_df.loc[central_houses_midprice_df[\"zipcode\"] == best_price_zipcode, \"long\"].iloc[0]\n",
    "best_condition_lat = central_houses_midprice_df.loc[central_houses_midprice_df[\"zipcode\"] == best_condition_zipcode, \"lat\"].iloc[0]\n",
    "best_condition_lon = central_houses_midprice_df.loc[central_houses_midprice_df[\"zipcode\"] == best_condition_zipcode, \"long\"].iloc[0]\n",
    "best_grade_lat = central_houses_midprice_df.loc[central_houses_midprice_df[\"zipcode\"] == best_grade_zipcode, \"lat\"].iloc[0]\n",
    "best_grade_lon = central_houses_midprice_df.loc[central_houses_midprice_df[\"zipcode\"] == best_grade_zipcode, \"long\"].iloc[0]\n",
    "best_sqft_lat = central_houses_midprice_df.loc[central_houses_midprice_df[\"zipcode\"] == best_sqft_zipcode, \"lat\"].iloc[0]\n",
    "best_sqft_lon = central_houses_midprice_df.loc[central_houses_midprice_df[\"zipcode\"] == best_sqft_zipcode, \"long\"].iloc[0]\n",
    "\n",
    "# Create a folium map centered at the location of the zipcode with the highest condition\n",
    "best_condition_map = folium.Map(location=[best_condition_lat, best_condition_lon], zoom_start=12)\n",
    "\n",
    "# Add markers for the zipcodes with the highest condition, grade, and sqft for the smallest price\n",
    "folium.Marker(location=[best_condition_lat, best_condition_lon], popup=f\"Best Condition Zipcode: {best_condition_zipcode}\").add_to(best_condition_map)\n",
    "folium.Marker(location=[best_grade_lat, best_grade_lon], popup=f\"Best Grade Zipcode: {best_grade_zipcode}\").add_to(best_condition_map)\n",
    "folium.Marker(location=[best_sqft_lat, best_sqft_lon], popup=f\"Best Sqft Zipcode: {best_sqft_zipcode}\").add_to(best_condition_map)\n",
    "folium.Marker(location=[best_price_lat, best_price_lon], popup=f\"Smallest Price Zipcode: {best_price_zipcode}\").add_to(best_condition_map)\n",
    "\n",
    "# Display the map\n",
    "best_condition_map"
   ]
  },
  {
   "cell_type": "markdown",
   "metadata": {},
   "source": [
    "***Identify the lowest price in each area and the best grade, condition, sqft_living***"
   ]
  },
  {
   "cell_type": "code",
   "execution_count": 58,
   "metadata": {},
   "outputs": [
    {
     "data": {
      "text/html": [
       "<div>\n",
       "<style scoped>\n",
       "    .dataframe tbody tr th:only-of-type {\n",
       "        vertical-align: middle;\n",
       "    }\n",
       "\n",
       "    .dataframe tbody tr th {\n",
       "        vertical-align: top;\n",
       "    }\n",
       "\n",
       "    .dataframe thead th {\n",
       "        text-align: right;\n",
       "    }\n",
       "</style>\n",
       "<table border=\"1\" class=\"dataframe\">\n",
       "  <thead>\n",
       "    <tr style=\"text-align: right;\">\n",
       "      <th></th>\n",
       "      <th>zipcode</th>\n",
       "      <th>price</th>\n",
       "      <th>grade</th>\n",
       "      <th>condition</th>\n",
       "      <th>sqft_living</th>\n",
       "    </tr>\n",
       "  </thead>\n",
       "  <tbody>\n",
       "    <tr>\n",
       "      <th>6</th>\n",
       "      <td>98116</td>\n",
       "      <td>130000.000</td>\n",
       "      <td>9</td>\n",
       "      <td>5</td>\n",
       "      <td>3520.000</td>\n",
       "    </tr>\n",
       "    <tr>\n",
       "      <th>5</th>\n",
       "      <td>98112</td>\n",
       "      <td>169317.000</td>\n",
       "      <td>10</td>\n",
       "      <td>5</td>\n",
       "      <td>3990.000</td>\n",
       "    </tr>\n",
       "    <tr>\n",
       "      <th>10</th>\n",
       "      <td>98144</td>\n",
       "      <td>190500.000</td>\n",
       "      <td>10</td>\n",
       "      <td>5</td>\n",
       "      <td>2880.000</td>\n",
       "    </tr>\n",
       "    <tr>\n",
       "      <th>8</th>\n",
       "      <td>98122</td>\n",
       "      <td>202000.000</td>\n",
       "      <td>10</td>\n",
       "      <td>5</td>\n",
       "      <td>4000.000</td>\n",
       "    </tr>\n",
       "    <tr>\n",
       "      <th>9</th>\n",
       "      <td>98126</td>\n",
       "      <td>295000.000</td>\n",
       "      <td>10</td>\n",
       "      <td>3</td>\n",
       "      <td>3610.000</td>\n",
       "    </tr>\n",
       "    <tr>\n",
       "      <th>7</th>\n",
       "      <td>98119</td>\n",
       "      <td>300523.000</td>\n",
       "      <td>10</td>\n",
       "      <td>5</td>\n",
       "      <td>4460.000</td>\n",
       "    </tr>\n",
       "    <tr>\n",
       "      <th>11</th>\n",
       "      <td>98199</td>\n",
       "      <td>323000.000</td>\n",
       "      <td>10</td>\n",
       "      <td>5</td>\n",
       "      <td>4060.000</td>\n",
       "    </tr>\n",
       "    <tr>\n",
       "      <th>1</th>\n",
       "      <td>98103</td>\n",
       "      <td>339950.000</td>\n",
       "      <td>9</td>\n",
       "      <td>5</td>\n",
       "      <td>3330.000</td>\n",
       "    </tr>\n",
       "    <tr>\n",
       "      <th>0</th>\n",
       "      <td>98102</td>\n",
       "      <td>350000.000</td>\n",
       "      <td>10</td>\n",
       "      <td>5</td>\n",
       "      <td>3730.000</td>\n",
       "    </tr>\n",
       "    <tr>\n",
       "      <th>3</th>\n",
       "      <td>98107</td>\n",
       "      <td>373500.000</td>\n",
       "      <td>8</td>\n",
       "      <td>5</td>\n",
       "      <td>2860.000</td>\n",
       "    </tr>\n",
       "    <tr>\n",
       "      <th>4</th>\n",
       "      <td>98109</td>\n",
       "      <td>410500.000</td>\n",
       "      <td>10</td>\n",
       "      <td>5</td>\n",
       "      <td>3370.000</td>\n",
       "    </tr>\n",
       "    <tr>\n",
       "      <th>2</th>\n",
       "      <td>98105</td>\n",
       "      <td>433000.000</td>\n",
       "      <td>9</td>\n",
       "      <td>5</td>\n",
       "      <td>2420.000</td>\n",
       "    </tr>\n",
       "  </tbody>\n",
       "</table>\n",
       "</div>"
      ],
      "text/plain": [
       "    zipcode      price  grade  condition  sqft_living\n",
       "6     98116 130000.000      9          5     3520.000\n",
       "5     98112 169317.000     10          5     3990.000\n",
       "10    98144 190500.000     10          5     2880.000\n",
       "8     98122 202000.000     10          5     4000.000\n",
       "9     98126 295000.000     10          3     3610.000\n",
       "7     98119 300523.000     10          5     4460.000\n",
       "11    98199 323000.000     10          5     4060.000\n",
       "1     98103 339950.000      9          5     3330.000\n",
       "0     98102 350000.000     10          5     3730.000\n",
       "3     98107 373500.000      8          5     2860.000\n",
       "4     98109 410500.000     10          5     3370.000\n",
       "2     98105 433000.000      9          5     2420.000"
      ]
     },
     "execution_count": 58,
     "metadata": {},
     "output_type": "execute_result"
    }
   ],
   "source": [
    "# Define the aggregation functions\n",
    "aggregations = {\n",
    "    \"price\": \"min\",\n",
    "    \"grade\": \"max\",\n",
    "    \"condition\": \"max\",\n",
    "    \"sqft_living\": \"max\"\n",
    "}\n",
    "\n",
    "# Group by zipcode and apply the aggregations\n",
    "zipcode_stats = central_houses_df.groupby(\"zipcode\").agg(aggregations).reset_index()\n",
    "\n",
    "#oder by price\n",
    "zipcode_stats.sort_values('price')"
   ]
  },
  {
   "cell_type": "markdown",
   "metadata": {},
   "source": [
    "***Show prices of biggest living space that is available in each area***"
   ]
  },
  {
   "cell_type": "code",
   "execution_count": 81,
   "metadata": {},
   "outputs": [
    {
     "data": {
      "text/html": [
       "<div>\n",
       "<style scoped>\n",
       "    .dataframe tbody tr th:only-of-type {\n",
       "        vertical-align: middle;\n",
       "    }\n",
       "\n",
       "    .dataframe tbody tr th {\n",
       "        vertical-align: top;\n",
       "    }\n",
       "\n",
       "    .dataframe thead th {\n",
       "        text-align: right;\n",
       "    }\n",
       "</style>\n",
       "<table border=\"1\" class=\"dataframe\">\n",
       "  <thead>\n",
       "    <tr style=\"text-align: right;\">\n",
       "      <th></th>\n",
       "      <th>zipcode</th>\n",
       "      <th>price</th>\n",
       "    </tr>\n",
       "  </thead>\n",
       "  <tbody>\n",
       "    <tr>\n",
       "      <th>9</th>\n",
       "      <td>98126</td>\n",
       "      <td>1020000.000</td>\n",
       "    </tr>\n",
       "    <tr>\n",
       "      <th>0</th>\n",
       "      <td>98102</td>\n",
       "      <td>979700.000</td>\n",
       "    </tr>\n",
       "    <tr>\n",
       "      <th>11</th>\n",
       "      <td>98199</td>\n",
       "      <td>970000.000</td>\n",
       "    </tr>\n",
       "    <tr>\n",
       "      <th>2</th>\n",
       "      <td>98105</td>\n",
       "      <td>920000.000</td>\n",
       "    </tr>\n",
       "    <tr>\n",
       "      <th>1</th>\n",
       "      <td>98103</td>\n",
       "      <td>850000.000</td>\n",
       "    </tr>\n",
       "    <tr>\n",
       "      <th>6</th>\n",
       "      <td>98116</td>\n",
       "      <td>775000.000</td>\n",
       "    </tr>\n",
       "    <tr>\n",
       "      <th>4</th>\n",
       "      <td>98109</td>\n",
       "      <td>762000.000</td>\n",
       "    </tr>\n",
       "    <tr>\n",
       "      <th>8</th>\n",
       "      <td>98122</td>\n",
       "      <td>739000.000</td>\n",
       "    </tr>\n",
       "    <tr>\n",
       "      <th>3</th>\n",
       "      <td>98107</td>\n",
       "      <td>724950.000</td>\n",
       "    </tr>\n",
       "    <tr>\n",
       "      <th>5</th>\n",
       "      <td>98112</td>\n",
       "      <td>610000.000</td>\n",
       "    </tr>\n",
       "    <tr>\n",
       "      <th>10</th>\n",
       "      <td>98144</td>\n",
       "      <td>525000.000</td>\n",
       "    </tr>\n",
       "    <tr>\n",
       "      <th>7</th>\n",
       "      <td>98119</td>\n",
       "      <td>490000.000</td>\n",
       "    </tr>\n",
       "  </tbody>\n",
       "</table>\n",
       "</div>"
      ],
      "text/plain": [
       "    zipcode       price\n",
       "9     98126 1020000.000\n",
       "0     98102  979700.000\n",
       "11    98199  970000.000\n",
       "2     98105  920000.000\n",
       "1     98103  850000.000\n",
       "6     98116  775000.000\n",
       "4     98109  762000.000\n",
       "8     98122  739000.000\n",
       "3     98107  724950.000\n",
       "5     98112  610000.000\n",
       "10    98144  525000.000\n",
       "7     98119  490000.000"
      ]
     },
     "execution_count": 81,
     "metadata": {},
     "output_type": "execute_result"
    }
   ],
   "source": [
    "# Group by zipcode and calculate the maximum living space \n",
    "max_sqft_df = central_houses_df.groupby(\"zipcode\")[\"sqft_living\"].max()\n",
    "\n",
    "# Convert the result to a DataFrame and reset index\n",
    "max_sqft_df = max_sqft_df.reset_index()\n",
    "\n",
    "# Merge with the original DataFrame to get corresponding prices\n",
    "merged_df = pd.merge(max_sqft_df, central_houses_df, on=[\"zipcode\", \"sqft_living\"], how=\"inner\")\n",
    "\n",
    "# Select the columns 'zipcode' and 'price' to show\n",
    "result = merged_df[[\"zipcode\", \"price\"]].sort_values('price', ascending = False)\n",
    "result"
   ]
  },
  {
   "cell_type": "code",
   "execution_count": 95,
   "metadata": {},
   "outputs": [
    {
     "data": {
      "text/plain": [
       "<Figure size 1400x600 with 0 Axes>"
      ]
     },
     "metadata": {},
     "output_type": "display_data"
    },
    {
     "data": {
      "image/png": "[encoded data removed]",
      "text/plain": [
       "<Figure size 800x500 with 1 Axes>"
      ]
     },
     "metadata": {},
     "output_type": "display_data"
    }
   ],
   "source": [
    "# Create a bar plot\n",
    "x = result['zipcode']\n",
    "y = result['price']\n",
    "\n",
    "plt.figure(figsize=(14, 6))\n",
    "result.plot(x='zipcode', y='price', kind=\"barh\", color=\"skyblue\")\n",
    "plt.title(\"Top zipcodes with highest living space and lowest price\")\n",
    "plt.xlabel(\"Price ($)\")\n",
    "plt.ylabel(\"Zipcode\")\n",
    "plt.xticks(rotation=45)  # Rotate x-axis labels for better readability\n",
    "plt.show()"
   ]
  },
  {
   "cell_type": "markdown",
   "metadata": {},
   "source": [
    "***Finding a way to rank the areas representing the best price performance ratio***\n",
    "\n",
    "Using a combined metric score that should represent the living space in relation to price with the highest grade. Calculation: sqft_living/price * grade. "
   ]
  },
  {
   "cell_type": "code",
   "execution_count": 90,
   "metadata": {},
   "outputs": [
    {
     "name": "stdout",
     "output_type": "stream",
     "text": [
      "    zipcode  sqft_living  grade      price  combined_metric\n",
      "2     98105     2420.000      9 433000.000            0.050\n",
      "3     98107     2860.000      8 373500.000            0.061\n",
      "4     98109     3370.000     10 410500.000            0.082\n",
      "1     98103     3330.000      9 339950.000            0.088\n",
      "0     98102     3730.000     10 350000.000            0.107\n",
      "9     98126     3610.000     10 295000.000            0.122\n",
      "11    98199     4060.000     10 323000.000            0.126\n",
      "7     98119     4460.000     10 300523.000            0.148\n",
      "10    98144     2880.000     10 190500.000            0.151\n",
      "8     98122     4000.000     10 202000.000            0.198\n",
      "5     98112     3990.000     10 169317.000            0.236\n",
      "6     98116     3520.000      9 130000.000            0.244\n"
     ]
    }
   ],
   "source": [
    "# Group by zipcode and calculate the maximum living space, maximum grade, and minimum price\n",
    "zipcode_stats = central_houses_df.groupby(\"zipcode\").agg({\n",
    "    \"sqft_living\": \"max\",\n",
    "    \"grade\": \"max\",\n",
    "    \"price\": \"min\"\n",
    "}).reset_index()\n",
    "\n",
    "# Calculate the combined metric (square footage / price * grade)\n",
    "zipcode_stats['combined_metric'] = (zipcode_stats['sqft_living'] / zipcode_stats['price']) * zipcode_stats['grade']\n",
    "\n",
    "# Sort the zipcodes based on the combined metric\n",
    "sorted_zipcodes = zipcode_stats.sort_values(by='combined_metric', ascending=True)\n",
    "\n",
    "# Select the top areas/zipcodes with the biggest square footage and highest grade for the smallest price\n",
    "top_zipcodes = sorted_zipcodes.head(12)  # Select top 12 zipcodes\n",
    "\n",
    "# Print the top_zipcodes DataFrame to inspect the selected zipcodes\n",
    "print(top_zipcodes)"
   ]
  },
  {
   "cell_type": "code",
   "execution_count": 91,
   "metadata": {},
   "outputs": [
    {
     "data": {
      "text/plain": [
       "<Figure size 1200x600 with 0 Axes>"
      ]
     },
     "metadata": {},
     "output_type": "display_data"
    },
    {
     "data": {
      "image/png": "[encoded data removed]",
      "text/plain": [
       "<Figure size 800x500 with 1 Axes>"
      ]
     },
     "metadata": {},
     "output_type": "display_data"
    }
   ],
   "source": [
    "# Create a bar plot of metric score by zipcode\n",
    "x = top_zipcodes['zipcode']\n",
    "y = top_zipcodes['combined_metric']\n",
    "\n",
    "plt.figure(figsize=(12, 6))\n",
    "top_zipcodes.plot(x='zipcode', y='combined_metric', kind=\"barh\", color=\"skyblue\")\n",
    "plt.title(\"Top zipcodes with highest living space and grade and lowest price\")\n",
    "plt.xlabel(\"Combined Metric Score (sqft/price*grade)\")\n",
    "plt.ylabel(\"Zipcode\")\n",
    "plt.xticks(rotation=45)  # Rotate x-axis labels for better readability\n",
    "plt.show()"
   ]
  },
  {
   "cell_type": "markdown",
   "metadata": {},
   "source": [
    "# Conclusion and recommandation to client\n",
    "\n",
    "The middle price range in King County ranges between 322000-645000$, by taking the interquartile range of the prices of all house sales in King County. By taking a radius of 3 miles around the city center, it is still possible to find affordable houses in a middle-price range budget. Prices around the city center depend on the neighbourhood and closer promximity does not necessarily mean higher prices. House prices fluctuate over the year and some season are higher priced than others. By plotting average prices by months of the two last years, it seems that february-april is the highest priced season. Although house prices are dependent on several factors e.g. market factors like demand, offer or economic factors like employment rate, which were not considered in this short-term analysis. \n",
    "\n",
    "***Advice to the client***\n",
    "* Radius of 3 miles around the city center offers affordable homes\n",
    "* Consider to buy in West Seattle or East of the city centre to get more living space and good grade at lowest price\n",
    "* Best timing to buy is in January or from May-September to avoid highly-priced seasons"
   ]
  }
 ],
 "metadata": {
  "kernelspec": {
   "display_name": ".venv",
   "language": "python",
   "name": "python3"
  },
  "language_info": {
   "codemirror_mode": {
    "name": "ipython",
    "version": 3
   },
   "file_extension": ".py",
   "mimetype": "text/x-python",
   "name": "python",
   "nbconvert_exporter": "python",
   "pygments_lexer": "ipython3",
   "version": "3.11.3"
  },
  "orig_nbformat": 4
 },
 "nbformat": 4,
 "nbformat_minor": 2
}
